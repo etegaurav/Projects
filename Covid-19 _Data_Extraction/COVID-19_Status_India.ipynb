{
 "cells": [
  {
   "cell_type": "markdown",
   "metadata": {},
   "source": [
    "# Automated script to extract COVID-19 related data for all the states in India"
   ]
  },
  {
   "cell_type": "markdown",
   "metadata": {},
   "source": [
    "## Stage 1 - Data Extraction\n",
    "\n",
    "### Modules to be used for data extraction"
   ]
  },
  {
   "cell_type": "code",
   "execution_count": 1,
   "metadata": {},
   "outputs": [],
   "source": [
    "from urllib import request as req\n",
    "from urllib.request import urlopen\n",
    "from bs4 import BeautifulSoup as bs\n",
    "import lxml"
   ]
  },
  {
   "cell_type": "code",
   "execution_count": 2,
   "metadata": {},
   "outputs": [],
   "source": [
    "# Official website for data extraction\n",
    "\n",
    "url = 'https://www.mohfw.gov.in/'"
   ]
  },
  {
   "cell_type": "markdown",
   "metadata": {},
   "source": [
    "### Step 1 - Connection Establishment\n",
    "   >This step comprises of three sub steps:\n",
    " - Opening of client and establishing connection\n",
    " - Reading the page content\n",
    " - Closing the client and connection"
   ]
  },
  {
   "cell_type": "code",
   "execution_count": 3,
   "metadata": {},
   "outputs": [],
   "source": [
    "# opening the client connection\n",
    "client = urlopen(url) \n",
    "\n",
    "# reading the data from the html page and storing it\n",
    "page_html = client.read()\n",
    "\n",
    "# closing the client connection\n",
    "client.close()"
   ]
  },
  {
   "cell_type": "markdown",
   "metadata": {},
   "source": [
    "### Step 2 - Parsing of the web information"
   ]
  },
  {
   "cell_type": "code",
   "execution_count": 4,
   "metadata": {},
   "outputs": [],
   "source": [
    "# the extracted page is parsed using BeautifulSoup\n",
    "page_soup = bs(page_html, 'lxml')"
   ]
  },
  {
   "cell_type": "markdown",
   "metadata": {},
   "source": [
    "### Step 3 - Extraction of the web data (Web Scraping or Web Data extraction)\n",
    "> Based on the type and volume of data, the data extraction step plays a very crucial role.  "
   ]
  },
  {
   "cell_type": "code",
   "execution_count": 5,
   "metadata": {},
   "outputs": [],
   "source": [
    "# Extracting the name of the data source\n",
    "\n",
    "data_source = page_soup.find(\"div\",{\"class\":\"logo-text\"}).text"
   ]
  },
  {
   "cell_type": "markdown",
   "metadata": {},
   "source": []
  },
  {
   "cell_type": "code",
   "execution_count": 6,
   "metadata": {},
   "outputs": [
    {
     "data": {
      "text/plain": [
       "'\\nMinistry of Health  and Family Welfare\\nGovernment of India\\n'"
      ]
     },
     "execution_count": 6,
     "metadata": {},
     "output_type": "execute_result"
    }
   ],
   "source": [
    "# Upon checking the text present in the tag, there are newline characters present in the beginning and end of text.\n",
    "# the strip() is used to handle the newline characters.\n",
    "\n",
    "data_source"
   ]
  },
  {
   "cell_type": "code",
   "execution_count": 7,
   "metadata": {},
   "outputs": [],
   "source": [
    "src = data_source.strip()"
   ]
  },
  {
   "cell_type": "code",
   "execution_count": 8,
   "metadata": {},
   "outputs": [
    {
     "data": {
      "text/plain": [
       "'Ministry of Health  and Family Welfare\\nGovernment of India'"
      ]
     },
     "execution_count": 8,
     "metadata": {},
     "output_type": "execute_result"
    }
   ],
   "source": [
    "src"
   ]
  },
  {
   "cell_type": "code",
   "execution_count": 9,
   "metadata": {},
   "outputs": [
    {
     "name": "stdout",
     "output_type": "stream",
     "text": [
      "01. After text extraction:  \n",
      "COVID-19 INDIA as on : 12 May 2020, 08:00 IST (GMT+5:30)\n",
      "\n",
      "02. After stripping the extra chars:  COVID-19 INDIA as on : 12 May 2020, 08:00 IST (GMT+5:30)\n",
      "03. After splitting the text, returns a list:  ['COVID-19 INDIA as on ', ' 12 May 2020, 08:00 IST (GMT+5:30)']\n"
     ]
    }
   ],
   "source": [
    "# Since the data gets updated very frequently, therefore the timestamp information becomes very handy\n",
    "# the below lines can be converted to a singe line by chaining the functions\n",
    "\n",
    "# 01. extracting the text information which contains the date and time\n",
    "time_stamp = page_soup.find(\"div\",{\"class\":\"status-update\"}).text\n",
    "print(\"01. After text extraction: \",time_stamp)\n",
    "\n",
    "\n",
    "# 02.stripping the newline characters\n",
    "time_stamp = page_soup.find(\"div\",{\"class\":\"status-update\"}).text.strip()\n",
    "time_stamp\n",
    "print(\"02. After stripping the extra chars: \",time_stamp)\n",
    "\n",
    "# 03.After splitting the timestamp to extract the date and time string\n",
    "time_stamp = page_soup.find(\"div\",{\"class\":\"status-update\"}).text.strip().split(\":\",1)\n",
    "time_stamp\n",
    "print(\"03. After splitting the text, returns a list: \",time_stamp)"
   ]
  },
  {
   "cell_type": "code",
   "execution_count": 10,
   "metadata": {},
   "outputs": [
    {
     "name": "stdout",
     "output_type": "stream",
     "text": [
      "Extraction date: 12 May 2020\n",
      "Extraction time: 08:00 IST (GMT+5:30)\n"
     ]
    }
   ],
   "source": [
    "# In the above step after executing the split(), the time_stamp variable becomes a list and contains two elements.\n",
    "# time_stamp[1] contains the extraction timestamp details.\n",
    "# Storing the extraction date and time information.\n",
    "# Refer documentation of split() to understand further on how the list gets generated\n",
    "\n",
    "extr_date = time_stamp[1].split(\",\",1)[0].strip()\n",
    "print(\"Extraction date:\",extr_date)\n",
    "extr_time = time_stamp[1].split(\",\",1)[1].strip() #chaining the strip() to remove the spaces from the beginning\n",
    "print(\"Extraction time:\",extr_time)\n"
   ]
  },
  {
   "cell_type": "code",
   "execution_count": 11,
   "metadata": {},
   "outputs": [
    {
     "name": "stdout",
     "output_type": "stream",
     "text": [
      "Active Cases :  46008\n",
      "Cured  Cases :  22454\n",
      "Total  Deaths:  2293\n"
     ]
    }
   ],
   "source": [
    "# Extraction of summary level data \n",
    "# Extracting the text from the list<> and strong<>\n",
    "\n",
    "active = page_soup.find(\"li\",{\"class\":\"bg-blue\"}).strong.text  \n",
    "cured = page_soup.find(\"li\",{\"class\":\"bg-green\"}).strong.text\n",
    "deaths = page_soup.find(\"li\",{\"class\":\"bg-red\"}).strong.text\n",
    "print(\"Active Cases : \", active)\n",
    "print(\"Cured  Cases : \", cured) \n",
    "print(\"Total  Deaths: \", deaths)"
   ]
  },
  {
   "cell_type": "code",
   "execution_count": 12,
   "metadata": {},
   "outputs": [],
   "source": [
    "# Beginning of the state-wise data extraction\n",
    "# Since the data is stored in multiple rows of a table\n",
    "# therefore the table was first identified and the rows were saved in a resultset \n",
    "\n",
    "html_table = page_soup.find(\"table\",{\"class\":\"table table-striped\"})\n",
    "tbody = html_table.findAll(\"tr\")"
   ]
  },
  {
   "cell_type": "code",
   "execution_count": 13,
   "metadata": {},
   "outputs": [
    {
     "name": "stdout",
     "output_type": "stream",
     "text": [
      "<class 'bs4.element.Tag'>\n",
      "<class 'bs4.element.ResultSet'>\n"
     ]
    }
   ],
   "source": [
    "print(type(html_table))\n",
    "print(type(tbody))"
   ]
  },
  {
   "cell_type": "code",
   "execution_count": 14,
   "metadata": {},
   "outputs": [],
   "source": [
    "# The row level state wise information was looped and the data was extracted\n",
    "# The replace() was used in order to remove the newline characters and replace them with comma(,).\n",
    "# Ignoring the first Header row and the bottom 5 assumptions, therefore the range() is used from 1 till (len(table body)-5)\n",
    "\n",
    "data = []\n",
    "for i in range(1,(len(tbody)-5)):\n",
    "    data_row = tbody[i].text.strip().replace(\"\\n\",\",\")\n",
    "    data.append(data_row)"
   ]
  },
  {
   "cell_type": "code",
   "execution_count": 15,
   "metadata": {},
   "outputs": [
    {
     "data": {
      "text/plain": [
       "['1,Andaman and Nicobar Islands,33,33,0',\n",
       " '2,Andhra Pradesh,2018,975,45',\n",
       " '3,Arunachal Pradesh,1,1,0']"
      ]
     },
     "execution_count": 15,
     "metadata": {},
     "output_type": "execute_result"
    }
   ],
   "source": [
    "data[0:3]"
   ]
  },
  {
   "cell_type": "markdown",
   "metadata": {},
   "source": [
    "## Stage 2 - Data Loading & Manipulation\n",
    "### Modules to be used for data manipulation"
   ]
  },
  {
   "cell_type": "code",
   "execution_count": 16,
   "metadata": {},
   "outputs": [],
   "source": [
    "import pandas as pd"
   ]
  },
  {
   "cell_type": "code",
   "execution_count": 18,
   "metadata": {},
   "outputs": [],
   "source": [
    "# the extracted dataset is now loaded into Pandas dataframe\n",
    "\n",
    "df = pd.DataFrame(data)"
   ]
  },
  {
   "cell_type": "code",
   "execution_count": 19,
   "metadata": {},
   "outputs": [
    {
     "data": {
      "text/html": [
       "<div>\n",
       "<style scoped>\n",
       "    .dataframe tbody tr th:only-of-type {\n",
       "        vertical-align: middle;\n",
       "    }\n",
       "\n",
       "    .dataframe tbody tr th {\n",
       "        vertical-align: top;\n",
       "    }\n",
       "\n",
       "    .dataframe thead th {\n",
       "        text-align: right;\n",
       "    }\n",
       "</style>\n",
       "<table border=\"1\" class=\"dataframe\">\n",
       "  <thead>\n",
       "    <tr style=\"text-align: right;\">\n",
       "      <th></th>\n",
       "      <th>0</th>\n",
       "    </tr>\n",
       "  </thead>\n",
       "  <tbody>\n",
       "    <tr>\n",
       "      <th>0</th>\n",
       "      <td>1,Andaman and Nicobar Islands,33,33,0</td>\n",
       "    </tr>\n",
       "    <tr>\n",
       "      <th>1</th>\n",
       "      <td>2,Andhra Pradesh,2018,975,45</td>\n",
       "    </tr>\n",
       "    <tr>\n",
       "      <th>2</th>\n",
       "      <td>3,Arunachal Pradesh,1,1,0</td>\n",
       "    </tr>\n",
       "    <tr>\n",
       "      <th>3</th>\n",
       "      <td>4,Assam,65,34,2</td>\n",
       "    </tr>\n",
       "    <tr>\n",
       "      <th>4</th>\n",
       "      <td>5,Bihar,747,377,6</td>\n",
       "    </tr>\n",
       "  </tbody>\n",
       "</table>\n",
       "</div>"
      ],
      "text/plain": [
       "                                       0\n",
       "0  1,Andaman and Nicobar Islands,33,33,0\n",
       "1           2,Andhra Pradesh,2018,975,45\n",
       "2              3,Arunachal Pradesh,1,1,0\n",
       "3                        4,Assam,65,34,2\n",
       "4                      5,Bihar,747,377,6"
      ]
     },
     "execution_count": 19,
     "metadata": {},
     "output_type": "execute_result"
    }
   ],
   "source": [
    "# Viewing the data\n",
    "df.head()\n",
    "\n",
    "# Upon checking the data, looks like the extracted data has only 1 column and the data is missing the headers.\n",
    "# The state wise data in the website looks something like the below:\n",
    "# |------------------------------------------------------------------------------------------------|\n",
    "# |'Sl No.'| 'Name of State/UT' | 'Total Confirmed Cases' | 'Cured/Discharged/Migrated' | 'Deaths' |\n",
    "# | 1      | Odisha             |  377                    |  68                         |  3       |\n",
    "# |------------------------------------------------------------------------------------------------|"
   ]
  },
  {
   "cell_type": "code",
   "execution_count": 20,
   "metadata": {},
   "outputs": [],
   "source": [
    "# The data is engineered using the string manipulation functions in pandas\n",
    "# The string in the Column 0 is separated by using the split() and referencing the comma(,) separator\n",
    "\n",
    "df = pd.DataFrame(df[0].str.split(\",\",4).tolist())"
   ]
  },
  {
   "cell_type": "code",
   "execution_count": 21,
   "metadata": {},
   "outputs": [
    {
     "data": {
      "text/html": [
       "<div>\n",
       "<style scoped>\n",
       "    .dataframe tbody tr th:only-of-type {\n",
       "        vertical-align: middle;\n",
       "    }\n",
       "\n",
       "    .dataframe tbody tr th {\n",
       "        vertical-align: top;\n",
       "    }\n",
       "\n",
       "    .dataframe thead th {\n",
       "        text-align: right;\n",
       "    }\n",
       "</style>\n",
       "<table border=\"1\" class=\"dataframe\">\n",
       "  <thead>\n",
       "    <tr style=\"text-align: right;\">\n",
       "      <th></th>\n",
       "      <th>0</th>\n",
       "      <th>1</th>\n",
       "      <th>2</th>\n",
       "      <th>3</th>\n",
       "      <th>4</th>\n",
       "    </tr>\n",
       "  </thead>\n",
       "  <tbody>\n",
       "    <tr>\n",
       "      <th>0</th>\n",
       "      <td>1</td>\n",
       "      <td>Andaman and Nicobar Islands</td>\n",
       "      <td>33</td>\n",
       "      <td>33</td>\n",
       "      <td>0</td>\n",
       "    </tr>\n",
       "    <tr>\n",
       "      <th>1</th>\n",
       "      <td>2</td>\n",
       "      <td>Andhra Pradesh</td>\n",
       "      <td>2018</td>\n",
       "      <td>975</td>\n",
       "      <td>45</td>\n",
       "    </tr>\n",
       "    <tr>\n",
       "      <th>2</th>\n",
       "      <td>3</td>\n",
       "      <td>Arunachal Pradesh</td>\n",
       "      <td>1</td>\n",
       "      <td>1</td>\n",
       "      <td>0</td>\n",
       "    </tr>\n",
       "  </tbody>\n",
       "</table>\n",
       "</div>"
      ],
      "text/plain": [
       "   0                            1     2    3   4\n",
       "0  1  Andaman and Nicobar Islands    33   33   0\n",
       "1  2               Andhra Pradesh  2018  975  45\n",
       "2  3            Arunachal Pradesh     1    1   0"
      ]
     },
     "execution_count": 21,
     "metadata": {},
     "output_type": "execute_result"
    }
   ],
   "source": [
    "df.head(3)"
   ]
  },
  {
   "cell_type": "code",
   "execution_count": 22,
   "metadata": {},
   "outputs": [
    {
     "data": {
      "text/html": [
       "<div>\n",
       "<style scoped>\n",
       "    .dataframe tbody tr th:only-of-type {\n",
       "        vertical-align: middle;\n",
       "    }\n",
       "\n",
       "    .dataframe tbody tr th {\n",
       "        vertical-align: top;\n",
       "    }\n",
       "\n",
       "    .dataframe thead th {\n",
       "        text-align: right;\n",
       "    }\n",
       "</style>\n",
       "<table border=\"1\" class=\"dataframe\">\n",
       "  <thead>\n",
       "    <tr style=\"text-align: right;\">\n",
       "      <th></th>\n",
       "      <th>Name of State/ UT</th>\n",
       "      <th>Total Confirmed Cases</th>\n",
       "      <th>Cured/Discharged/Migrated</th>\n",
       "      <th>Deaths</th>\n",
       "    </tr>\n",
       "  </thead>\n",
       "  <tbody>\n",
       "    <tr>\n",
       "      <th>0</th>\n",
       "      <td>Andaman and Nicobar Islands</td>\n",
       "      <td>33</td>\n",
       "      <td>33</td>\n",
       "      <td>0</td>\n",
       "    </tr>\n",
       "    <tr>\n",
       "      <th>1</th>\n",
       "      <td>Andhra Pradesh</td>\n",
       "      <td>2018</td>\n",
       "      <td>975</td>\n",
       "      <td>45</td>\n",
       "    </tr>\n",
       "    <tr>\n",
       "      <th>2</th>\n",
       "      <td>Arunachal Pradesh</td>\n",
       "      <td>1</td>\n",
       "      <td>1</td>\n",
       "      <td>0</td>\n",
       "    </tr>\n",
       "    <tr>\n",
       "      <th>3</th>\n",
       "      <td>Assam</td>\n",
       "      <td>65</td>\n",
       "      <td>34</td>\n",
       "      <td>2</td>\n",
       "    </tr>\n",
       "    <tr>\n",
       "      <th>4</th>\n",
       "      <td>Bihar</td>\n",
       "      <td>747</td>\n",
       "      <td>377</td>\n",
       "      <td>6</td>\n",
       "    </tr>\n",
       "    <tr>\n",
       "      <th>5</th>\n",
       "      <td>Chandigarh</td>\n",
       "      <td>174</td>\n",
       "      <td>24</td>\n",
       "      <td>2</td>\n",
       "    </tr>\n",
       "    <tr>\n",
       "      <th>6</th>\n",
       "      <td>Chhattisgarh</td>\n",
       "      <td>59</td>\n",
       "      <td>53</td>\n",
       "      <td>0</td>\n",
       "    </tr>\n",
       "    <tr>\n",
       "      <th>7</th>\n",
       "      <td>Dadar Nagar Haveli</td>\n",
       "      <td>1</td>\n",
       "      <td>0</td>\n",
       "      <td>0</td>\n",
       "    </tr>\n",
       "    <tr>\n",
       "      <th>8</th>\n",
       "      <td>Delhi</td>\n",
       "      <td>7233</td>\n",
       "      <td>2129</td>\n",
       "      <td>73</td>\n",
       "    </tr>\n",
       "    <tr>\n",
       "      <th>9</th>\n",
       "      <td>Goa</td>\n",
       "      <td>7</td>\n",
       "      <td>7</td>\n",
       "      <td>0</td>\n",
       "    </tr>\n",
       "    <tr>\n",
       "      <th>10</th>\n",
       "      <td>Gujarat</td>\n",
       "      <td>8541</td>\n",
       "      <td>2780</td>\n",
       "      <td>513</td>\n",
       "    </tr>\n",
       "    <tr>\n",
       "      <th>11</th>\n",
       "      <td>Haryana</td>\n",
       "      <td>730</td>\n",
       "      <td>337</td>\n",
       "      <td>11</td>\n",
       "    </tr>\n",
       "    <tr>\n",
       "      <th>12</th>\n",
       "      <td>Himachal Pradesh</td>\n",
       "      <td>59</td>\n",
       "      <td>39</td>\n",
       "      <td>2</td>\n",
       "    </tr>\n",
       "    <tr>\n",
       "      <th>13</th>\n",
       "      <td>Jammu and Kashmir</td>\n",
       "      <td>879</td>\n",
       "      <td>427</td>\n",
       "      <td>10</td>\n",
       "    </tr>\n",
       "    <tr>\n",
       "      <th>14</th>\n",
       "      <td>Jharkhand</td>\n",
       "      <td>160</td>\n",
       "      <td>78</td>\n",
       "      <td>3</td>\n",
       "    </tr>\n",
       "    <tr>\n",
       "      <th>15</th>\n",
       "      <td>Karnataka</td>\n",
       "      <td>862</td>\n",
       "      <td>426</td>\n",
       "      <td>31</td>\n",
       "    </tr>\n",
       "    <tr>\n",
       "      <th>16</th>\n",
       "      <td>Kerala</td>\n",
       "      <td>519</td>\n",
       "      <td>489</td>\n",
       "      <td>4</td>\n",
       "    </tr>\n",
       "    <tr>\n",
       "      <th>17</th>\n",
       "      <td>Ladakh</td>\n",
       "      <td>42</td>\n",
       "      <td>21</td>\n",
       "      <td>0</td>\n",
       "    </tr>\n",
       "    <tr>\n",
       "      <th>18</th>\n",
       "      <td>Madhya Pradesh</td>\n",
       "      <td>3785</td>\n",
       "      <td>1747</td>\n",
       "      <td>221</td>\n",
       "    </tr>\n",
       "    <tr>\n",
       "      <th>19</th>\n",
       "      <td>Maharashtra</td>\n",
       "      <td>23401</td>\n",
       "      <td>4786</td>\n",
       "      <td>868</td>\n",
       "    </tr>\n",
       "    <tr>\n",
       "      <th>20</th>\n",
       "      <td>Manipur</td>\n",
       "      <td>2</td>\n",
       "      <td>2</td>\n",
       "      <td>0</td>\n",
       "    </tr>\n",
       "    <tr>\n",
       "      <th>21</th>\n",
       "      <td>Meghalaya</td>\n",
       "      <td>13</td>\n",
       "      <td>10</td>\n",
       "      <td>1</td>\n",
       "    </tr>\n",
       "    <tr>\n",
       "      <th>22</th>\n",
       "      <td>Mizoram</td>\n",
       "      <td>1</td>\n",
       "      <td>1</td>\n",
       "      <td>0</td>\n",
       "    </tr>\n",
       "    <tr>\n",
       "      <th>23</th>\n",
       "      <td>Odisha</td>\n",
       "      <td>414</td>\n",
       "      <td>85</td>\n",
       "      <td>3</td>\n",
       "    </tr>\n",
       "    <tr>\n",
       "      <th>24</th>\n",
       "      <td>Puducherry</td>\n",
       "      <td>12</td>\n",
       "      <td>6</td>\n",
       "      <td>0</td>\n",
       "    </tr>\n",
       "    <tr>\n",
       "      <th>25</th>\n",
       "      <td>Punjab</td>\n",
       "      <td>1877</td>\n",
       "      <td>168</td>\n",
       "      <td>31</td>\n",
       "    </tr>\n",
       "    <tr>\n",
       "      <th>26</th>\n",
       "      <td>Rajasthan</td>\n",
       "      <td>3988</td>\n",
       "      <td>2264</td>\n",
       "      <td>113</td>\n",
       "    </tr>\n",
       "    <tr>\n",
       "      <th>27</th>\n",
       "      <td>Tamil Nadu</td>\n",
       "      <td>8002</td>\n",
       "      <td>2051</td>\n",
       "      <td>53</td>\n",
       "    </tr>\n",
       "    <tr>\n",
       "      <th>28</th>\n",
       "      <td>Telengana</td>\n",
       "      <td>1275</td>\n",
       "      <td>800</td>\n",
       "      <td>30</td>\n",
       "    </tr>\n",
       "    <tr>\n",
       "      <th>29</th>\n",
       "      <td>Tripura</td>\n",
       "      <td>152</td>\n",
       "      <td>2</td>\n",
       "      <td>0</td>\n",
       "    </tr>\n",
       "    <tr>\n",
       "      <th>30</th>\n",
       "      <td>Uttarakhand</td>\n",
       "      <td>68</td>\n",
       "      <td>46</td>\n",
       "      <td>1</td>\n",
       "    </tr>\n",
       "    <tr>\n",
       "      <th>31</th>\n",
       "      <td>Uttar Pradesh</td>\n",
       "      <td>3573</td>\n",
       "      <td>1758</td>\n",
       "      <td>80</td>\n",
       "    </tr>\n",
       "    <tr>\n",
       "      <th>32</th>\n",
       "      <td>West Bengal</td>\n",
       "      <td>2063</td>\n",
       "      <td>499</td>\n",
       "      <td>190</td>\n",
       "    </tr>\n",
       "  </tbody>\n",
       "</table>\n",
       "</div>"
      ],
      "text/plain": [
       "              Name of State/ UT Total Confirmed Cases  \\\n",
       "0   Andaman and Nicobar Islands                    33   \n",
       "1                Andhra Pradesh                  2018   \n",
       "2             Arunachal Pradesh                     1   \n",
       "3                         Assam                    65   \n",
       "4                         Bihar                   747   \n",
       "5                    Chandigarh                   174   \n",
       "6                  Chhattisgarh                    59   \n",
       "7            Dadar Nagar Haveli                     1   \n",
       "8                         Delhi                  7233   \n",
       "9                           Goa                     7   \n",
       "10                      Gujarat                  8541   \n",
       "11                      Haryana                   730   \n",
       "12             Himachal Pradesh                    59   \n",
       "13            Jammu and Kashmir                   879   \n",
       "14                    Jharkhand                   160   \n",
       "15                    Karnataka                   862   \n",
       "16                       Kerala                   519   \n",
       "17                       Ladakh                    42   \n",
       "18               Madhya Pradesh                  3785   \n",
       "19                  Maharashtra                 23401   \n",
       "20                      Manipur                     2   \n",
       "21                    Meghalaya                    13   \n",
       "22                      Mizoram                     1   \n",
       "23                       Odisha                   414   \n",
       "24                   Puducherry                    12   \n",
       "25                       Punjab                  1877   \n",
       "26                    Rajasthan                  3988   \n",
       "27                   Tamil Nadu                  8002   \n",
       "28                    Telengana                  1275   \n",
       "29                      Tripura                   152   \n",
       "30                  Uttarakhand                    68   \n",
       "31                Uttar Pradesh                  3573   \n",
       "32                  West Bengal                  2063   \n",
       "\n",
       "   Cured/Discharged/Migrated Deaths  \n",
       "0                         33      0  \n",
       "1                        975     45  \n",
       "2                          1      0  \n",
       "3                         34      2  \n",
       "4                        377      6  \n",
       "5                         24      2  \n",
       "6                         53      0  \n",
       "7                          0      0  \n",
       "8                       2129     73  \n",
       "9                          7      0  \n",
       "10                      2780    513  \n",
       "11                       337     11  \n",
       "12                        39      2  \n",
       "13                       427     10  \n",
       "14                        78      3  \n",
       "15                       426     31  \n",
       "16                       489      4  \n",
       "17                        21      0  \n",
       "18                      1747    221  \n",
       "19                      4786    868  \n",
       "20                         2      0  \n",
       "21                        10      1  \n",
       "22                         1      0  \n",
       "23                        85      3  \n",
       "24                         6      0  \n",
       "25                       168     31  \n",
       "26                      2264    113  \n",
       "27                      2051     53  \n",
       "28                       800     30  \n",
       "29                         2      0  \n",
       "30                        46      1  \n",
       "31                      1758     80  \n",
       "32                       499    190  "
      ]
     },
     "execution_count": 22,
     "metadata": {},
     "output_type": "execute_result"
    }
   ],
   "source": [
    "# Updating the column names \n",
    "\n",
    "df.columns = ['Sl No','Name of State/ UT','Total Confirmed Cases','Cured/Discharged/Migrated','Deaths']\n",
    "\n",
    "# deleting the Sl No. column from the data frame\n",
    "df = df.drop(columns=['Sl No'])\n",
    "df\n"
   ]
  },
  {
   "cell_type": "code",
   "execution_count": 23,
   "metadata": {},
   "outputs": [
    {
     "data": {
      "text/html": [
       "<div>\n",
       "<style scoped>\n",
       "    .dataframe tbody tr th:only-of-type {\n",
       "        vertical-align: middle;\n",
       "    }\n",
       "\n",
       "    .dataframe tbody tr th {\n",
       "        vertical-align: top;\n",
       "    }\n",
       "\n",
       "    .dataframe thead th {\n",
       "        text-align: right;\n",
       "    }\n",
       "</style>\n",
       "<table border=\"1\" class=\"dataframe\">\n",
       "  <thead>\n",
       "    <tr style=\"text-align: right;\">\n",
       "      <th></th>\n",
       "      <th>Name of State/ UT</th>\n",
       "      <th>Total Confirmed Cases</th>\n",
       "      <th>Cured/Discharged/Migrated</th>\n",
       "      <th>Deaths</th>\n",
       "    </tr>\n",
       "  </thead>\n",
       "  <tbody>\n",
       "    <tr>\n",
       "      <th>0</th>\n",
       "      <td>Andaman and Nicobar Islands</td>\n",
       "      <td>33</td>\n",
       "      <td>33</td>\n",
       "      <td>0</td>\n",
       "    </tr>\n",
       "    <tr>\n",
       "      <th>1</th>\n",
       "      <td>Andhra Pradesh</td>\n",
       "      <td>2018</td>\n",
       "      <td>975</td>\n",
       "      <td>45</td>\n",
       "    </tr>\n",
       "    <tr>\n",
       "      <th>2</th>\n",
       "      <td>Arunachal Pradesh</td>\n",
       "      <td>1</td>\n",
       "      <td>1</td>\n",
       "      <td>0</td>\n",
       "    </tr>\n",
       "  </tbody>\n",
       "</table>\n",
       "</div>"
      ],
      "text/plain": [
       "             Name of State/ UT Total Confirmed Cases  \\\n",
       "0  Andaman and Nicobar Islands                    33   \n",
       "1               Andhra Pradesh                  2018   \n",
       "2            Arunachal Pradesh                     1   \n",
       "\n",
       "  Cured/Discharged/Migrated Deaths  \n",
       "0                        33      0  \n",
       "1                       975     45  \n",
       "2                         1      0  "
      ]
     },
     "execution_count": 23,
     "metadata": {},
     "output_type": "execute_result"
    }
   ],
   "source": [
    "df.head(3)"
   ]
  },
  {
   "cell_type": "code",
   "execution_count": 24,
   "metadata": {},
   "outputs": [
    {
     "data": {
      "text/html": [
       "<div>\n",
       "<style scoped>\n",
       "    .dataframe tbody tr th:only-of-type {\n",
       "        vertical-align: middle;\n",
       "    }\n",
       "\n",
       "    .dataframe tbody tr th {\n",
       "        vertical-align: top;\n",
       "    }\n",
       "\n",
       "    .dataframe thead th {\n",
       "        text-align: right;\n",
       "    }\n",
       "</style>\n",
       "<table border=\"1\" class=\"dataframe\">\n",
       "  <thead>\n",
       "    <tr style=\"text-align: right;\">\n",
       "      <th></th>\n",
       "      <th>Name of State/ UT</th>\n",
       "      <th>Total Confirmed Cases</th>\n",
       "      <th>Cured/Discharged/Migrated</th>\n",
       "      <th>Deaths</th>\n",
       "      <th>Date</th>\n",
       "      <th>Time</th>\n",
       "    </tr>\n",
       "  </thead>\n",
       "  <tbody>\n",
       "    <tr>\n",
       "      <th>0</th>\n",
       "      <td>Andaman and Nicobar Islands</td>\n",
       "      <td>33</td>\n",
       "      <td>33</td>\n",
       "      <td>0</td>\n",
       "      <td>12 May 2020</td>\n",
       "      <td>08:00 IST (GMT+5:30)</td>\n",
       "    </tr>\n",
       "    <tr>\n",
       "      <th>1</th>\n",
       "      <td>Andhra Pradesh</td>\n",
       "      <td>2018</td>\n",
       "      <td>975</td>\n",
       "      <td>45</td>\n",
       "      <td>12 May 2020</td>\n",
       "      <td>08:00 IST (GMT+5:30)</td>\n",
       "    </tr>\n",
       "    <tr>\n",
       "      <th>2</th>\n",
       "      <td>Arunachal Pradesh</td>\n",
       "      <td>1</td>\n",
       "      <td>1</td>\n",
       "      <td>0</td>\n",
       "      <td>12 May 2020</td>\n",
       "      <td>08:00 IST (GMT+5:30)</td>\n",
       "    </tr>\n",
       "  </tbody>\n",
       "</table>\n",
       "</div>"
      ],
      "text/plain": [
       "             Name of State/ UT Total Confirmed Cases  \\\n",
       "0  Andaman and Nicobar Islands                    33   \n",
       "1               Andhra Pradesh                  2018   \n",
       "2            Arunachal Pradesh                     1   \n",
       "\n",
       "  Cured/Discharged/Migrated Deaths         Date                  Time  \n",
       "0                        33      0  12 May 2020  08:00 IST (GMT+5:30)  \n",
       "1                       975     45  12 May 2020  08:00 IST (GMT+5:30)  \n",
       "2                         1      0  12 May 2020  08:00 IST (GMT+5:30)  "
      ]
     },
     "execution_count": 24,
     "metadata": {},
     "output_type": "execute_result"
    }
   ],
   "source": [
    "df['Date'] = extr_date\n",
    "df['Time'] = extr_time\n",
    "df.head(3)"
   ]
  },
  {
   "cell_type": "code",
   "execution_count": 25,
   "metadata": {},
   "outputs": [
    {
     "data": {
      "text/html": [
       "<div>\n",
       "<style scoped>\n",
       "    .dataframe tbody tr th:only-of-type {\n",
       "        vertical-align: middle;\n",
       "    }\n",
       "\n",
       "    .dataframe tbody tr th {\n",
       "        vertical-align: top;\n",
       "    }\n",
       "\n",
       "    .dataframe thead th {\n",
       "        text-align: right;\n",
       "    }\n",
       "</style>\n",
       "<table border=\"1\" class=\"dataframe\">\n",
       "  <thead>\n",
       "    <tr style=\"text-align: right;\">\n",
       "      <th></th>\n",
       "      <th>Name of State/ UT</th>\n",
       "      <th>Total Confirmed Cases</th>\n",
       "      <th>Cured/Discharged/Migrated</th>\n",
       "      <th>Deaths</th>\n",
       "      <th>Date</th>\n",
       "      <th>Time</th>\n",
       "    </tr>\n",
       "  </thead>\n",
       "  <tbody>\n",
       "    <tr>\n",
       "      <th>0</th>\n",
       "      <td>Andaman and Nicobar Islands</td>\n",
       "      <td>33</td>\n",
       "      <td>33</td>\n",
       "      <td>0</td>\n",
       "      <td>12 May 2020</td>\n",
       "      <td>08:00 IST (GMT+5:30)</td>\n",
       "    </tr>\n",
       "    <tr>\n",
       "      <th>1</th>\n",
       "      <td>Andhra Pradesh</td>\n",
       "      <td>2018</td>\n",
       "      <td>975</td>\n",
       "      <td>45</td>\n",
       "      <td>12 May 2020</td>\n",
       "      <td>08:00 IST (GMT+5:30)</td>\n",
       "    </tr>\n",
       "    <tr>\n",
       "      <th>2</th>\n",
       "      <td>Arunachal Pradesh</td>\n",
       "      <td>1</td>\n",
       "      <td>1</td>\n",
       "      <td>0</td>\n",
       "      <td>12 May 2020</td>\n",
       "      <td>08:00 IST (GMT+5:30)</td>\n",
       "    </tr>\n",
       "  </tbody>\n",
       "</table>\n",
       "</div>"
      ],
      "text/plain": [
       "             Name of State/ UT Total Confirmed Cases  \\\n",
       "0  Andaman and Nicobar Islands                    33   \n",
       "1               Andhra Pradesh                  2018   \n",
       "2            Arunachal Pradesh                     1   \n",
       "\n",
       "  Cured/Discharged/Migrated Deaths         Date                  Time  \n",
       "0                        33      0  12 May 2020  08:00 IST (GMT+5:30)  \n",
       "1                       975     45  12 May 2020  08:00 IST (GMT+5:30)  \n",
       "2                         1      0  12 May 2020  08:00 IST (GMT+5:30)  "
      ]
     },
     "execution_count": 25,
     "metadata": {},
     "output_type": "execute_result"
    }
   ],
   "source": [
    "df.head(3)"
   ]
  },
  {
   "cell_type": "code",
   "execution_count": 278,
   "metadata": {},
   "outputs": [],
   "source": [
    "# Installing the and importing the required modules in order to save the file in excel format.\n",
    "\n",
    "#import openpyxl as exl\n"
   ]
  },
  {
   "cell_type": "code",
   "execution_count": 279,
   "metadata": {},
   "outputs": [],
   "source": [
    "# Excel file with the specified name gets saved in the same working directory as the python notebook\n",
    "\n",
    "#df.to_excel(r'India_11_05.xlsx', index = False, header=True)"
   ]
  },
  {
   "cell_type": "code",
   "execution_count": 26,
   "metadata": {},
   "outputs": [],
   "source": [
    "# exporting the data frame to csv format\n",
    "df.to_csv('covid_11_05.csv', mode ='a',header=False,index= False)"
   ]
  },
  {
   "cell_type": "code",
   "execution_count": 27,
   "metadata": {},
   "outputs": [
    {
     "data": {
      "text/plain": [
       "23401"
      ]
     },
     "execution_count": 27,
     "metadata": {},
     "output_type": "execute_result"
    }
   ],
   "source": [
    "# loading the recently created csv into dataframe\n",
    "\n",
    "df1 = pd.read_csv('covid_11_05.csv')\n",
    "df1[\"Total Confirmed Cases\"].max()"
   ]
  },
  {
   "cell_type": "code",
   "execution_count": 28,
   "metadata": {},
   "outputs": [
    {
     "data": {
      "text/html": [
       "<div>\n",
       "<style scoped>\n",
       "    .dataframe tbody tr th:only-of-type {\n",
       "        vertical-align: middle;\n",
       "    }\n",
       "\n",
       "    .dataframe tbody tr th {\n",
       "        vertical-align: top;\n",
       "    }\n",
       "\n",
       "    .dataframe thead th {\n",
       "        text-align: right;\n",
       "    }\n",
       "</style>\n",
       "<table border=\"1\" class=\"dataframe\">\n",
       "  <thead>\n",
       "    <tr style=\"text-align: right;\">\n",
       "      <th></th>\n",
       "      <th>Name of State/ UT</th>\n",
       "      <th>Total Confirmed Cases</th>\n",
       "      <th>Cured/Discharged/Migrated</th>\n",
       "      <th>Deaths</th>\n",
       "      <th>Date</th>\n",
       "      <th>Time</th>\n",
       "    </tr>\n",
       "  </thead>\n",
       "  <tbody>\n",
       "    <tr>\n",
       "      <th>0</th>\n",
       "      <td>Andaman and Nicobar Islands</td>\n",
       "      <td>33</td>\n",
       "      <td>33</td>\n",
       "      <td>0</td>\n",
       "      <td>11 May 2020</td>\n",
       "      <td>08:00 IST (GMT+5:30)</td>\n",
       "    </tr>\n",
       "    <tr>\n",
       "      <th>1</th>\n",
       "      <td>Andhra Pradesh</td>\n",
       "      <td>1980</td>\n",
       "      <td>925</td>\n",
       "      <td>45</td>\n",
       "      <td>11 May 2020</td>\n",
       "      <td>08:00 IST (GMT+5:30)</td>\n",
       "    </tr>\n",
       "    <tr>\n",
       "      <th>2</th>\n",
       "      <td>Arunachal Pradesh</td>\n",
       "      <td>1</td>\n",
       "      <td>1</td>\n",
       "      <td>0</td>\n",
       "      <td>11 May 2020</td>\n",
       "      <td>08:00 IST (GMT+5:30)</td>\n",
       "    </tr>\n",
       "    <tr>\n",
       "      <th>3</th>\n",
       "      <td>Assam</td>\n",
       "      <td>63</td>\n",
       "      <td>34</td>\n",
       "      <td>2</td>\n",
       "      <td>11 May 2020</td>\n",
       "      <td>08:00 IST (GMT+5:30)</td>\n",
       "    </tr>\n",
       "    <tr>\n",
       "      <th>4</th>\n",
       "      <td>Bihar</td>\n",
       "      <td>696</td>\n",
       "      <td>365</td>\n",
       "      <td>6</td>\n",
       "      <td>11 May 2020</td>\n",
       "      <td>08:00 IST (GMT+5:30)</td>\n",
       "    </tr>\n",
       "    <tr>\n",
       "      <th>...</th>\n",
       "      <td>...</td>\n",
       "      <td>...</td>\n",
       "      <td>...</td>\n",
       "      <td>...</td>\n",
       "      <td>...</td>\n",
       "      <td>...</td>\n",
       "    </tr>\n",
       "    <tr>\n",
       "      <th>61</th>\n",
       "      <td>Telengana</td>\n",
       "      <td>1275</td>\n",
       "      <td>800</td>\n",
       "      <td>30</td>\n",
       "      <td>12 May 2020</td>\n",
       "      <td>08:00 IST (GMT+5:30)</td>\n",
       "    </tr>\n",
       "    <tr>\n",
       "      <th>62</th>\n",
       "      <td>Tripura</td>\n",
       "      <td>152</td>\n",
       "      <td>2</td>\n",
       "      <td>0</td>\n",
       "      <td>12 May 2020</td>\n",
       "      <td>08:00 IST (GMT+5:30)</td>\n",
       "    </tr>\n",
       "    <tr>\n",
       "      <th>63</th>\n",
       "      <td>Uttarakhand</td>\n",
       "      <td>68</td>\n",
       "      <td>46</td>\n",
       "      <td>1</td>\n",
       "      <td>12 May 2020</td>\n",
       "      <td>08:00 IST (GMT+5:30)</td>\n",
       "    </tr>\n",
       "    <tr>\n",
       "      <th>64</th>\n",
       "      <td>Uttar Pradesh</td>\n",
       "      <td>3573</td>\n",
       "      <td>1758</td>\n",
       "      <td>80</td>\n",
       "      <td>12 May 2020</td>\n",
       "      <td>08:00 IST (GMT+5:30)</td>\n",
       "    </tr>\n",
       "    <tr>\n",
       "      <th>65</th>\n",
       "      <td>West Bengal</td>\n",
       "      <td>2063</td>\n",
       "      <td>499</td>\n",
       "      <td>190</td>\n",
       "      <td>12 May 2020</td>\n",
       "      <td>08:00 IST (GMT+5:30)</td>\n",
       "    </tr>\n",
       "  </tbody>\n",
       "</table>\n",
       "<p>66 rows × 6 columns</p>\n",
       "</div>"
      ],
      "text/plain": [
       "              Name of State/ UT  Total Confirmed Cases  \\\n",
       "0   Andaman and Nicobar Islands                     33   \n",
       "1                Andhra Pradesh                   1980   \n",
       "2             Arunachal Pradesh                      1   \n",
       "3                         Assam                     63   \n",
       "4                         Bihar                    696   \n",
       "..                          ...                    ...   \n",
       "61                    Telengana                   1275   \n",
       "62                      Tripura                    152   \n",
       "63                  Uttarakhand                     68   \n",
       "64                Uttar Pradesh                   3573   \n",
       "65                  West Bengal                   2063   \n",
       "\n",
       "    Cured/Discharged/Migrated  Deaths         Date                  Time  \n",
       "0                          33       0  11 May 2020  08:00 IST (GMT+5:30)  \n",
       "1                         925      45  11 May 2020  08:00 IST (GMT+5:30)  \n",
       "2                           1       0  11 May 2020  08:00 IST (GMT+5:30)  \n",
       "3                          34       2  11 May 2020  08:00 IST (GMT+5:30)  \n",
       "4                         365       6  11 May 2020  08:00 IST (GMT+5:30)  \n",
       "..                        ...     ...          ...                   ...  \n",
       "61                        800      30  12 May 2020  08:00 IST (GMT+5:30)  \n",
       "62                          2       0  12 May 2020  08:00 IST (GMT+5:30)  \n",
       "63                         46       1  12 May 2020  08:00 IST (GMT+5:30)  \n",
       "64                       1758      80  12 May 2020  08:00 IST (GMT+5:30)  \n",
       "65                        499     190  12 May 2020  08:00 IST (GMT+5:30)  \n",
       "\n",
       "[66 rows x 6 columns]"
      ]
     },
     "execution_count": 28,
     "metadata": {},
     "output_type": "execute_result"
    }
   ],
   "source": [
    "df1"
   ]
  },
  {
   "cell_type": "code",
   "execution_count": 29,
   "metadata": {},
   "outputs": [],
   "source": [
    "df1 =df1.sort_values(by =\"Total Confirmed Cases\",ascending = False)\n"
   ]
  },
  {
   "cell_type": "code",
   "execution_count": 30,
   "metadata": {},
   "outputs": [
    {
     "data": {
      "text/html": [
       "<div>\n",
       "<style scoped>\n",
       "    .dataframe tbody tr th:only-of-type {\n",
       "        vertical-align: middle;\n",
       "    }\n",
       "\n",
       "    .dataframe tbody tr th {\n",
       "        vertical-align: top;\n",
       "    }\n",
       "\n",
       "    .dataframe thead th {\n",
       "        text-align: right;\n",
       "    }\n",
       "</style>\n",
       "<table border=\"1\" class=\"dataframe\">\n",
       "  <thead>\n",
       "    <tr style=\"text-align: right;\">\n",
       "      <th></th>\n",
       "      <th>Name of State/ UT</th>\n",
       "      <th>Total Confirmed Cases</th>\n",
       "      <th>Cured/Discharged/Migrated</th>\n",
       "      <th>Deaths</th>\n",
       "      <th>Date</th>\n",
       "      <th>Time</th>\n",
       "    </tr>\n",
       "  </thead>\n",
       "  <tbody>\n",
       "    <tr>\n",
       "      <th>52</th>\n",
       "      <td>Maharashtra</td>\n",
       "      <td>23401</td>\n",
       "      <td>4786</td>\n",
       "      <td>868</td>\n",
       "      <td>12 May 2020</td>\n",
       "      <td>08:00 IST (GMT+5:30)</td>\n",
       "    </tr>\n",
       "    <tr>\n",
       "      <th>19</th>\n",
       "      <td>Maharashtra</td>\n",
       "      <td>22171</td>\n",
       "      <td>4199</td>\n",
       "      <td>832</td>\n",
       "      <td>11 May 2020</td>\n",
       "      <td>08:00 IST (GMT+5:30)</td>\n",
       "    </tr>\n",
       "    <tr>\n",
       "      <th>43</th>\n",
       "      <td>Gujarat</td>\n",
       "      <td>8541</td>\n",
       "      <td>2780</td>\n",
       "      <td>513</td>\n",
       "      <td>12 May 2020</td>\n",
       "      <td>08:00 IST (GMT+5:30)</td>\n",
       "    </tr>\n",
       "  </tbody>\n",
       "</table>\n",
       "</div>"
      ],
      "text/plain": [
       "   Name of State/ UT  Total Confirmed Cases  Cured/Discharged/Migrated  \\\n",
       "52       Maharashtra                  23401                       4786   \n",
       "19       Maharashtra                  22171                       4199   \n",
       "43           Gujarat                   8541                       2780   \n",
       "\n",
       "    Deaths         Date                  Time  \n",
       "52     868  12 May 2020  08:00 IST (GMT+5:30)  \n",
       "19     832  11 May 2020  08:00 IST (GMT+5:30)  \n",
       "43     513  12 May 2020  08:00 IST (GMT+5:30)  "
      ]
     },
     "execution_count": 30,
     "metadata": {},
     "output_type": "execute_result"
    }
   ],
   "source": [
    "df1.head(3)"
   ]
  },
  {
   "cell_type": "code",
   "execution_count": null,
   "metadata": {},
   "outputs": [],
   "source": []
  },
  {
   "cell_type": "code",
   "execution_count": null,
   "metadata": {},
   "outputs": [],
   "source": []
  },
  {
   "cell_type": "code",
   "execution_count": null,
   "metadata": {},
   "outputs": [],
   "source": []
  }
 ],
 "metadata": {
  "kernelspec": {
   "display_name": "Python 3",
   "language": "python",
   "name": "python3"
  },
  "language_info": {
   "codemirror_mode": {
    "name": "ipython",
    "version": 3
   },
   "file_extension": ".py",
   "mimetype": "text/x-python",
   "name": "python",
   "nbconvert_exporter": "python",
   "pygments_lexer": "ipython3",
   "version": "3.6.9"
  }
 },
 "nbformat": 4,
 "nbformat_minor": 4
}
