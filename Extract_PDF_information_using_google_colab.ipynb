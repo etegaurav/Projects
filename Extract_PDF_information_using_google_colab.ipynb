{
  "nbformat": 4,
  "nbformat_minor": 0,
  "metadata": {
    "colab": {
      "name": "Extract_PDF_information_using_google_colab.ipynb",
      "provenance": [],
      "collapsed_sections": [],
      "include_colab_link": true
    },
    "kernelspec": {
      "display_name": "Python 3",
      "language": "python",
      "name": "python3"
    },
    "language_info": {
      "codemirror_mode": {
        "name": "ipython",
        "version": 3
      },
      "file_extension": ".py",
      "mimetype": "text/x-python",
      "name": "python",
      "nbconvert_exporter": "python",
      "pygments_lexer": "ipython3",
      "version": "3.6.9"
    }
  },
  "cells": [
    {
      "cell_type": "markdown",
      "metadata": {
        "id": "view-in-github",
        "colab_type": "text"
      },
      "source": [
        "<a href=\"https://colab.research.google.com/github/etegaurav/Projects/blob/master/Extract_PDF_information_using_google_colab.ipynb\" target=\"_parent\"><img src=\"https://colab.research.google.com/assets/colab-badge.svg\" alt=\"Open In Colab\"/></a>"
      ]
    },
    {
      "cell_type": "markdown",
      "metadata": {
        "id": "xK8xKZhQM4Vh",
        "colab_type": "text"
      },
      "source": [
        "# **Python program to extract tabular information from a pdf**\n",
        "## This notebook was created in Google Colaboratory in order to overcome the dependencies for 'TABULA' library \n"
      ]
    },
    {
      "cell_type": "markdown",
      "metadata": {
        "id": "ayis8QpLQwoi",
        "colab_type": "text"
      },
      "source": [
        "### Loading the dependent libraries required for the project\n",
        "### i) Tabula\n",
        "### ii) Pandas"
      ]
    },
    {
      "cell_type": "code",
      "metadata": {
        "id": "DG0Juf06aDZ3",
        "colab_type": "code",
        "colab": {}
      },
      "source": [
        "!pip install -q tabula-py"
      ],
      "execution_count": 0,
      "outputs": []
    },
    {
      "cell_type": "code",
      "metadata": {
        "colab_type": "code",
        "id": "VJpdvH7dwBnc",
        "colab": {}
      },
      "source": [
        "import tabula\n",
        "import pandas as pd\n",
        "pd.set_option('display.max_rows',100)\n",
        "pd.set_option('display.max_columns',100)"
      ],
      "execution_count": 0,
      "outputs": []
    },
    {
      "cell_type": "markdown",
      "metadata": {
        "id": "R7mUDRbWRBPX",
        "colab_type": "text"
      },
      "source": [
        "### The pdf was downloaded from the below link and uploaded into Colab and then was used for reading.\n",
        "#### http://www.airindia.in/images/pdf/Mission-Vande-phase-3-schedule.pdf"
      ]
    },
    {
      "cell_type": "code",
      "metadata": {
        "colab_type": "code",
        "id": "Ae6tfLsxwKR1",
        "colab": {}
      },
      "source": [
        "# Extraction of data from input.pdf file\n",
        "input_pdf = '/content/input.pdf'\n",
        "df = tabula.read_pdf(input_pdf,pages='all')"
      ],
      "execution_count": 0,
      "outputs": []
    },
    {
      "cell_type": "markdown",
      "metadata": {
        "id": "x3vfIkKAStVw",
        "colab_type": "text"
      },
      "source": [
        "### The data upon loading, gets stored as a list of dataframes\n",
        "### Each dataframe can be accessed through list index"
      ]
    },
    {
      "cell_type": "code",
      "metadata": {
        "id": "LFcRB8DESr3V",
        "colab_type": "code",
        "colab": {
          "base_uri": "https://localhost:8080/",
          "height": 34
        },
        "outputId": "c21afa75-e593-48c5-a072-063fe0a02503"
      },
      "source": [
        "# The length function gives us the number of dataframes present in the list\n",
        "len(df)\n",
        "# Using the type() to confirm the type of element of the list \n",
        "type(df[0])"
      ],
      "execution_count": 89,
      "outputs": [
        {
          "output_type": "execute_result",
          "data": {
            "text/plain": [
              "pandas.core.frame.DataFrame"
            ]
          },
          "metadata": {
            "tags": []
          },
          "execution_count": 89
        }
      ]
    },
    {
      "cell_type": "markdown",
      "metadata": {
        "id": "2anlBOW0T1mV",
        "colab_type": "text"
      },
      "source": [
        "### Exploring the shape of each of the dataframes in order to find the number of rows and columns"
      ]
    },
    {
      "cell_type": "code",
      "metadata": {
        "colab_type": "code",
        "id": "a2Vdakf4wjZ0",
        "colab": {
          "base_uri": "https://localhost:8080/",
          "height": 286
        },
        "outputId": "4bade769-9eea-4be8-a299-c3f5adc27e41"
      },
      "source": [
        "# using a for loop to explore the shape of the dataframe\n",
        "for i in range(len(df)):\n",
        "  print(f'Shape of the dataframe {i} is: ',df[i].shape)"
      ],
      "execution_count": 90,
      "outputs": [
        {
          "output_type": "stream",
          "text": [
            "Shape of the dataframe 0 is:  (21, 8)\n",
            "Shape of the dataframe 1 is:  (38, 8)\n",
            "Shape of the dataframe 2 is:  (38, 8)\n",
            "Shape of the dataframe 3 is:  (38, 8)\n",
            "Shape of the dataframe 4 is:  (38, 8)\n",
            "Shape of the dataframe 5 is:  (32, 8)\n",
            "Shape of the dataframe 6 is:  (34, 8)\n",
            "Shape of the dataframe 7 is:  (38, 8)\n",
            "Shape of the dataframe 8 is:  (38, 8)\n",
            "Shape of the dataframe 9 is:  (38, 8)\n",
            "Shape of the dataframe 10 is:  (38, 8)\n",
            "Shape of the dataframe 11 is:  (38, 8)\n",
            "Shape of the dataframe 12 is:  (38, 8)\n",
            "Shape of the dataframe 13 is:  (38, 8)\n",
            "Shape of the dataframe 14 is:  (38, 8)\n",
            "Shape of the dataframe 15 is:  (20, 8)\n"
          ],
          "name": "stdout"
        }
      ]
    },
    {
      "cell_type": "markdown",
      "metadata": {
        "id": "ZA5xf5PiVy6l",
        "colab_type": "text"
      },
      "source": [
        "### Exploring the data present in the dataframe"
      ]
    },
    {
      "cell_type": "code",
      "metadata": {
        "colab_type": "code",
        "id": "ejNwtFQpw6kE",
        "outputId": "0ec2206e-84c1-418b-f583-3daa22e7d335",
        "colab": {
          "base_uri": "https://localhost:8080/",
          "height": 195
        }
      },
      "source": [
        "# Exploring few rows of the first dataframe (first element of the list)\n",
        "df[0].head(5)"
      ],
      "execution_count": 91,
      "outputs": [
        {
          "output_type": "execute_result",
          "data": {
            "text/html": [
              "<div>\n",
              "<style scoped>\n",
              "    .dataframe tbody tr th:only-of-type {\n",
              "        vertical-align: middle;\n",
              "    }\n",
              "\n",
              "    .dataframe tbody tr th {\n",
              "        vertical-align: top;\n",
              "    }\n",
              "\n",
              "    .dataframe thead th {\n",
              "        text-align: right;\n",
              "    }\n",
              "</style>\n",
              "<table border=\"1\" class=\"dataframe\">\n",
              "  <thead>\n",
              "    <tr style=\"text-align: right;\">\n",
              "      <th></th>\n",
              "      <th>Unnamed: 0</th>\n",
              "      <th>DEPARTURE</th>\n",
              "      <th>Unnamed: 1</th>\n",
              "      <th>DEPARTURE.1</th>\n",
              "      <th>DEPARTURE.2</th>\n",
              "      <th>ARRIVAL</th>\n",
              "      <th>ARRIVAL.1</th>\n",
              "      <th>ARRIVAL.2</th>\n",
              "    </tr>\n",
              "  </thead>\n",
              "  <tbody>\n",
              "    <tr>\n",
              "      <th>0</th>\n",
              "      <td>SNO</td>\n",
              "      <td>NaN</td>\n",
              "      <td>FLIGHT</td>\n",
              "      <td>NaN</td>\n",
              "      <td>NaN</td>\n",
              "      <td>NaN</td>\n",
              "      <td>NaN</td>\n",
              "      <td>NaN</td>\n",
              "    </tr>\n",
              "    <tr>\n",
              "      <th>1</th>\n",
              "      <td>NaN</td>\n",
              "      <td>DATE</td>\n",
              "      <td>NaN</td>\n",
              "      <td>STATION</td>\n",
              "      <td>TIME</td>\n",
              "      <td>STATION</td>\n",
              "      <td>TIME</td>\n",
              "      <td>DATE</td>\n",
              "    </tr>\n",
              "    <tr>\n",
              "      <th>2</th>\n",
              "      <td>1</td>\n",
              "      <td>10-Jun-20</td>\n",
              "      <td>AI  0931</td>\n",
              "      <td>MUMBAI</td>\n",
              "      <td>06:25</td>\n",
              "      <td>JEDDAH</td>\n",
              "      <td>09:00</td>\n",
              "      <td>10-Jun-20</td>\n",
              "    </tr>\n",
              "    <tr>\n",
              "      <th>3</th>\n",
              "      <td>2</td>\n",
              "      <td>10-Jun-20</td>\n",
              "      <td>AI  1929</td>\n",
              "      <td>MUMBAI</td>\n",
              "      <td>07:45</td>\n",
              "      <td>DAMMAM</td>\n",
              "      <td>09:00</td>\n",
              "      <td>10-Jun-20</td>\n",
              "    </tr>\n",
              "    <tr>\n",
              "      <th>4</th>\n",
              "      <td>3</td>\n",
              "      <td>10-Jun-20</td>\n",
              "      <td>AI  1953</td>\n",
              "      <td>BANGALURU</td>\n",
              "      <td>08:00</td>\n",
              "      <td>RIYADH</td>\n",
              "      <td>10:20</td>\n",
              "      <td>10-Jun-20</td>\n",
              "    </tr>\n",
              "  </tbody>\n",
              "</table>\n",
              "</div>"
            ],
            "text/plain": [
              "  Unnamed: 0  DEPARTURE Unnamed: 1 DEPARTURE.1 DEPARTURE.2  ARRIVAL ARRIVAL.1  \\\n",
              "0        SNO        NaN     FLIGHT         NaN         NaN      NaN       NaN   \n",
              "1        NaN       DATE        NaN     STATION        TIME  STATION      TIME   \n",
              "2          1  10-Jun-20   AI  0931      MUMBAI       06:25   JEDDAH     09:00   \n",
              "3          2  10-Jun-20   AI  1929      MUMBAI       07:45   DAMMAM     09:00   \n",
              "4          3  10-Jun-20   AI  1953   BANGALURU       08:00   RIYADH     10:20   \n",
              "\n",
              "   ARRIVAL.2  \n",
              "0        NaN  \n",
              "1       DATE  \n",
              "2  10-Jun-20  \n",
              "3  10-Jun-20  \n",
              "4  10-Jun-20  "
            ]
          },
          "metadata": {
            "tags": []
          },
          "execution_count": 91
        }
      ]
    },
    {
      "cell_type": "markdown",
      "metadata": {
        "id": "oaiHJog3YLBv",
        "colab_type": "text"
      },
      "source": [
        "### Observation # 1: The Column names have to be corrected\n",
        "### Observation # 2: The dataset contains rows with Null values\n",
        "\n",
        "## Let's explore further .....\n"
      ]
    },
    {
      "cell_type": "code",
      "metadata": {
        "colab_type": "code",
        "id": "cM0WwUdGxF2s",
        "outputId": "df468f0b-2680-4456-fd74-29d65f92431d",
        "colab": {
          "base_uri": "https://localhost:8080/",
          "height": 195
        }
      },
      "source": [
        "# Exploring few rows of the last dataframe (last element in the list)\n",
        "df[-1].head(5)"
      ],
      "execution_count": 92,
      "outputs": [
        {
          "output_type": "execute_result",
          "data": {
            "text/html": [
              "<div>\n",
              "<style scoped>\n",
              "    .dataframe tbody tr th:only-of-type {\n",
              "        vertical-align: middle;\n",
              "    }\n",
              "\n",
              "    .dataframe tbody tr th {\n",
              "        vertical-align: top;\n",
              "    }\n",
              "\n",
              "    .dataframe thead th {\n",
              "        text-align: right;\n",
              "    }\n",
              "</style>\n",
              "<table border=\"1\" class=\"dataframe\">\n",
              "  <thead>\n",
              "    <tr style=\"text-align: right;\">\n",
              "      <th></th>\n",
              "      <th>SNO</th>\n",
              "      <th>DEPARTURE\\rDATE</th>\n",
              "      <th>FLIGHT</th>\n",
              "      <th>DEPARTURE\\rSTATION</th>\n",
              "      <th>DEPARTURE\\rTIME</th>\n",
              "      <th>ARRIVAL\\rSTATION</th>\n",
              "      <th>ARRIVAL\\rTIME</th>\n",
              "      <th>ARRIVAL\\rDATE</th>\n",
              "    </tr>\n",
              "  </thead>\n",
              "  <tbody>\n",
              "    <tr>\n",
              "      <th>0</th>\n",
              "      <td>337</td>\n",
              "      <td>30-Jun-20</td>\n",
              "      <td>AI  1934</td>\n",
              "      <td>DELHI</td>\n",
              "      <td>05:00</td>\n",
              "      <td>LUCKNOW</td>\n",
              "      <td>06:00</td>\n",
              "      <td>30-Jun-20</td>\n",
              "    </tr>\n",
              "    <tr>\n",
              "      <th>1</th>\n",
              "      <td>338</td>\n",
              "      <td>30-Jun-20</td>\n",
              "      <td>AI  1928</td>\n",
              "      <td>DELHI</td>\n",
              "      <td>05:30</td>\n",
              "      <td>BHOPAL</td>\n",
              "      <td>07:00</td>\n",
              "      <td>30-Jun-20</td>\n",
              "    </tr>\n",
              "    <tr>\n",
              "      <th>2</th>\n",
              "      <td>339</td>\n",
              "      <td>29-Jun-20</td>\n",
              "      <td>AI  0188</td>\n",
              "      <td>TORONTO</td>\n",
              "      <td>12:15</td>\n",
              "      <td>DELHI</td>\n",
              "      <td>12:15</td>\n",
              "      <td>30-Jun-20</td>\n",
              "    </tr>\n",
              "    <tr>\n",
              "      <th>3</th>\n",
              "      <td>340</td>\n",
              "      <td>29-Jun-20</td>\n",
              "      <td>AI  0144</td>\n",
              "      <td>NEWARK</td>\n",
              "      <td>12:05</td>\n",
              "      <td>MUMBAI</td>\n",
              "      <td>12:25</td>\n",
              "      <td>30-Jun-20</td>\n",
              "    </tr>\n",
              "    <tr>\n",
              "      <th>4</th>\n",
              "      <td>341</td>\n",
              "      <td>29-Jun-20</td>\n",
              "      <td>AI  0126</td>\n",
              "      <td>CHICAGO</td>\n",
              "      <td>12:00</td>\n",
              "      <td>DELHI</td>\n",
              "      <td>13:05</td>\n",
              "      <td>30-Jun-20</td>\n",
              "    </tr>\n",
              "  </tbody>\n",
              "</table>\n",
              "</div>"
            ],
            "text/plain": [
              "   SNO DEPARTURE\\rDATE    FLIGHT DEPARTURE\\rSTATION DEPARTURE\\rTIME  \\\n",
              "0  337       30-Jun-20  AI  1934              DELHI           05:00   \n",
              "1  338       30-Jun-20  AI  1928              DELHI           05:30   \n",
              "2  339       29-Jun-20  AI  0188            TORONTO           12:15   \n",
              "3  340       29-Jun-20  AI  0144             NEWARK           12:05   \n",
              "4  341       29-Jun-20  AI  0126            CHICAGO           12:00   \n",
              "\n",
              "  ARRIVAL\\rSTATION ARRIVAL\\rTIME ARRIVAL\\rDATE  \n",
              "0          LUCKNOW         06:00     30-Jun-20  \n",
              "1           BHOPAL         07:00     30-Jun-20  \n",
              "2            DELHI         12:15     30-Jun-20  \n",
              "3           MUMBAI         12:25     30-Jun-20  \n",
              "4            DELHI         13:05     30-Jun-20  "
            ]
          },
          "metadata": {
            "tags": []
          },
          "execution_count": 92
        }
      ]
    },
    {
      "cell_type": "code",
      "metadata": {
        "id": "ui5mer4dW4x_",
        "colab_type": "code",
        "colab": {
          "base_uri": "https://localhost:8080/",
          "height": 1000
        },
        "outputId": "4b322eb0-04fc-4823-8512-4571646e00d9"
      },
      "source": [
        "for i in range(len(df)):\n",
        "  print(f'Index {i}',df[i].columns)"
      ],
      "execution_count": 93,
      "outputs": [
        {
          "output_type": "stream",
          "text": [
            "Index 0 Index(['Unnamed: 0', 'DEPARTURE', 'Unnamed: 1', 'DEPARTURE.1', 'DEPARTURE.2',\n",
            "       'ARRIVAL', 'ARRIVAL.1', 'ARRIVAL.2'],\n",
            "      dtype='object')\n",
            "Index 1 Index(['SNO', 'DEPARTURE\\rDATE', 'FLIGHT', 'DEPARTURE\\rSTATION',\n",
            "       'DEPARTURE\\rTIME', 'ARRIVAL\\rSTATION', 'ARRIVAL\\rTIME',\n",
            "       'ARRIVAL\\rDATE'],\n",
            "      dtype='object')\n",
            "Index 2 Index(['SNO', 'DEPARTURE\\rDATE', 'FLIGHT', 'DEPARTURE\\rSTATION',\n",
            "       'DEPARTURE\\rTIME', 'ARRIVAL\\rSTATION', 'ARRIVAL\\rTIME',\n",
            "       'ARRIVAL\\rDATE'],\n",
            "      dtype='object')\n",
            "Index 3 Index(['SNO', 'DEPARTURE\\rDATE', 'FLIGHT', 'DEPARTURE\\rSTATION',\n",
            "       'DEPARTURE\\rTIME', 'ARRIVAL\\rSTATION', 'ARRIVAL\\rTIME',\n",
            "       'ARRIVAL\\rDATE'],\n",
            "      dtype='object')\n",
            "Index 4 Index(['SNO', 'DEPARTURE\\rDATE', 'FLIGHT', 'DEPARTURE\\rSTATION',\n",
            "       'DEPARTURE\\rTIME', 'ARRIVAL\\rSTATION', 'ARRIVAL\\rTIME',\n",
            "       'ARRIVAL\\rDATE'],\n",
            "      dtype='object')\n",
            "Index 5 Index(['SNO', 'DEPARTURE\\rDATE', 'FLIGHT', 'DEPARTURE\\rSTATION',\n",
            "       'DEPARTURE\\rTIME', 'ARRIVAL\\rSTATION', 'ARRIVAL\\rTIME',\n",
            "       'ARRIVAL\\rDATE'],\n",
            "      dtype='object')\n",
            "Index 6 Index(['Unnamed: 0', 'DEPARTURE', 'Unnamed: 1', 'DEPARTURE.1', 'DEPARTURE.2',\n",
            "       'ARRIVAL', 'ARRIVAL.1', 'ARRIVAL.2'],\n",
            "      dtype='object')\n",
            "Index 7 Index(['SNO', 'DEPARTURE\\rDATE', 'FLIGHT', 'DEPARTURE\\rSTATION',\n",
            "       'DEPARTURE\\rTIME', 'ARRIVAL\\rSTATION', 'ARRIVAL\\rTIME',\n",
            "       'ARRIVAL\\rDATE'],\n",
            "      dtype='object')\n",
            "Index 8 Index(['SNO', 'DEPARTURE\\rDATE', 'FLIGHT', 'DEPARTURE\\rSTATION',\n",
            "       'DEPARTURE\\rTIME', 'ARRIVAL\\rSTATION', 'ARRIVAL\\rTIME',\n",
            "       'ARRIVAL\\rDATE'],\n",
            "      dtype='object')\n",
            "Index 9 Index(['SNO', 'DEPARTURE\\rDATE', 'FLIGHT', 'DEPARTURE\\rSTATION',\n",
            "       'DEPARTURE\\rTIME', 'ARRIVAL\\rSTATION', 'ARRIVAL\\rTIME',\n",
            "       'ARRIVAL\\rDATE'],\n",
            "      dtype='object')\n",
            "Index 10 Index(['SNO', 'DEPARTURE\\rDATE', 'FLIGHT', 'DEPARTURE\\rSTATION',\n",
            "       'DEPARTURE\\rTIME', 'ARRIVAL\\rSTATION', 'ARRIVAL\\rTIME',\n",
            "       'ARRIVAL\\rDATE'],\n",
            "      dtype='object')\n",
            "Index 11 Index(['SNO', 'DEPARTURE\\rDATE', 'FLIGHT', 'DEPARTURE\\rSTATION',\n",
            "       'DEPARTURE\\rTIME', 'ARRIVAL\\rSTATION', 'ARRIVAL\\rTIME',\n",
            "       'ARRIVAL\\rDATE'],\n",
            "      dtype='object')\n",
            "Index 12 Index(['SNO', 'DEPARTURE\\rDATE', 'FLIGHT', 'DEPARTURE\\rSTATION',\n",
            "       'DEPARTURE\\rTIME', 'ARRIVAL\\rSTATION', 'ARRIVAL\\rTIME',\n",
            "       'ARRIVAL\\rDATE'],\n",
            "      dtype='object')\n",
            "Index 13 Index(['SNO', 'DEPARTURE\\rDATE', 'FLIGHT', 'DEPARTURE\\rSTATION',\n",
            "       'DEPARTURE\\rTIME', 'ARRIVAL\\rSTATION', 'ARRIVAL\\rTIME',\n",
            "       'ARRIVAL\\rDATE'],\n",
            "      dtype='object')\n",
            "Index 14 Index(['SNO', 'DEPARTURE\\rDATE', 'FLIGHT', 'DEPARTURE\\rSTATION',\n",
            "       'DEPARTURE\\rTIME', 'ARRIVAL\\rSTATION', 'ARRIVAL\\rTIME',\n",
            "       'ARRIVAL\\rDATE'],\n",
            "      dtype='object')\n",
            "Index 15 Index(['SNO', 'DEPARTURE\\rDATE', 'FLIGHT', 'DEPARTURE\\rSTATION',\n",
            "       'DEPARTURE\\rTIME', 'ARRIVAL\\rSTATION', 'ARRIVAL\\rTIME',\n",
            "       'ARRIVAL\\rDATE'],\n",
            "      dtype='object')\n"
          ],
          "name": "stdout"
        }
      ]
    },
    {
      "cell_type": "markdown",
      "metadata": {
        "id": "BQyNLrmPXLld",
        "colab_type": "text"
      },
      "source": [
        "### Observation 3: The label have to be fixed as well.\n"
      ]
    },
    {
      "cell_type": "code",
      "metadata": {
        "id": "8TwG_Z0LZSGL",
        "colab_type": "code",
        "colab": {
          "base_uri": "https://localhost:8080/",
          "height": 34
        },
        "outputId": "86ed8ed4-fabc-44c7-a225-c8e5626b58ac"
      },
      "source": [
        "# Checking for total number of records in all the dataframes present in the list\n",
        "sum = 0\n",
        "for i in range(len(df)):\n",
        "  sum = sum + len(df[i])\n",
        "print('Num of records: ',sum)"
      ],
      "execution_count": 94,
      "outputs": [
        {
          "output_type": "stream",
          "text": [
            "Num of records:  563\n"
          ],
          "name": "stdout"
        }
      ]
    },
    {
      "cell_type": "markdown",
      "metadata": {
        "id": "SZtfU-KqZzuW",
        "colab_type": "text"
      },
      "source": [
        "## After exploring the dataset, now we can proceed with the cleansing of the data based on the collected observations."
      ]
    },
    {
      "cell_type": "markdown",
      "metadata": {
        "id": "DL87Dqwyagf3",
        "colab_type": "text"
      },
      "source": [
        "### Correction #1 - Fixing the column names\n",
        "This will be a 2 step process:\n",
        "1. Concating the similar dataframes.\n",
        "2. Fixing the column names."
      ]
    },
    {
      "cell_type": "code",
      "metadata": {
        "id": "V8b_0fhXcltT",
        "colab_type": "code",
        "colab": {}
      },
      "source": [
        "\"\"\"\n",
        "# The 1st and the 7th element have different column structure from the rest of the elements of the list\n",
        "\"\"\"\n",
        "df_1_6 = pd.concat([df[0],df[6]]) # concating the first and 7th element"
      ],
      "execution_count": 0,
      "outputs": []
    },
    {
      "cell_type": "code",
      "metadata": {
        "id": "SQrg5A8nbPpr",
        "colab_type": "code",
        "colab": {}
      },
      "source": [
        "\"\"\"\n",
        "# The rest of the elements have similar column structure and hence can be concatenated.\n",
        "# As the list created after read the pdf is a list of dataframes\n",
        "# therefore they can be concatenated\n",
        "\"\"\"\n",
        "df_2 = pd.concat(df[1:6]) # concating 2nd to 6th element\n",
        "df_3 = pd.concat(df[7:len(df)])  #concating 8th to last element\n",
        "df_rest = pd.concat([df_2,df_3]) #concating all elements excluding 1st and 7th element"
      ],
      "execution_count": 0,
      "outputs": []
    },
    {
      "cell_type": "code",
      "metadata": {
        "id": "tyr8VFUFdUi4",
        "colab_type": "code",
        "colab": {
          "base_uri": "https://localhost:8080/",
          "height": 50
        },
        "outputId": "8622d0de-8007-4b31-9adb-7eecf546da5b"
      },
      "source": [
        "# checking the number of elements in each of the concatenated dataframes\n",
        "print(len(df_1_6))\n",
        "print(len(df_rest))"
      ],
      "execution_count": 97,
      "outputs": [
        {
          "output_type": "stream",
          "text": [
            "55\n",
            "508\n"
          ],
          "name": "stdout"
        }
      ]
    },
    {
      "cell_type": "code",
      "metadata": {
        "id": "e6yLflc9cl8R",
        "colab_type": "code",
        "colab": {
          "base_uri": "https://localhost:8080/",
          "height": 136
        },
        "outputId": "2261c3fd-403f-4ca8-faba-f476517c6eb5"
      },
      "source": [
        "# checking the concatenated dataframes before renaming column names\n",
        "df_1_6.head(3)"
      ],
      "execution_count": 98,
      "outputs": [
        {
          "output_type": "execute_result",
          "data": {
            "text/html": [
              "<div>\n",
              "<style scoped>\n",
              "    .dataframe tbody tr th:only-of-type {\n",
              "        vertical-align: middle;\n",
              "    }\n",
              "\n",
              "    .dataframe tbody tr th {\n",
              "        vertical-align: top;\n",
              "    }\n",
              "\n",
              "    .dataframe thead th {\n",
              "        text-align: right;\n",
              "    }\n",
              "</style>\n",
              "<table border=\"1\" class=\"dataframe\">\n",
              "  <thead>\n",
              "    <tr style=\"text-align: right;\">\n",
              "      <th></th>\n",
              "      <th>Unnamed: 0</th>\n",
              "      <th>DEPARTURE</th>\n",
              "      <th>Unnamed: 1</th>\n",
              "      <th>DEPARTURE.1</th>\n",
              "      <th>DEPARTURE.2</th>\n",
              "      <th>ARRIVAL</th>\n",
              "      <th>ARRIVAL.1</th>\n",
              "      <th>ARRIVAL.2</th>\n",
              "    </tr>\n",
              "  </thead>\n",
              "  <tbody>\n",
              "    <tr>\n",
              "      <th>0</th>\n",
              "      <td>SNO</td>\n",
              "      <td>NaN</td>\n",
              "      <td>FLIGHT</td>\n",
              "      <td>NaN</td>\n",
              "      <td>NaN</td>\n",
              "      <td>NaN</td>\n",
              "      <td>NaN</td>\n",
              "      <td>NaN</td>\n",
              "    </tr>\n",
              "    <tr>\n",
              "      <th>1</th>\n",
              "      <td>NaN</td>\n",
              "      <td>DATE</td>\n",
              "      <td>NaN</td>\n",
              "      <td>STATION</td>\n",
              "      <td>TIME</td>\n",
              "      <td>STATION</td>\n",
              "      <td>TIME</td>\n",
              "      <td>DATE</td>\n",
              "    </tr>\n",
              "    <tr>\n",
              "      <th>2</th>\n",
              "      <td>1</td>\n",
              "      <td>10-Jun-20</td>\n",
              "      <td>AI  0931</td>\n",
              "      <td>MUMBAI</td>\n",
              "      <td>06:25</td>\n",
              "      <td>JEDDAH</td>\n",
              "      <td>09:00</td>\n",
              "      <td>10-Jun-20</td>\n",
              "    </tr>\n",
              "  </tbody>\n",
              "</table>\n",
              "</div>"
            ],
            "text/plain": [
              "  Unnamed: 0  DEPARTURE Unnamed: 1 DEPARTURE.1 DEPARTURE.2  ARRIVAL ARRIVAL.1  \\\n",
              "0        SNO        NaN     FLIGHT         NaN         NaN      NaN       NaN   \n",
              "1        NaN       DATE        NaN     STATION        TIME  STATION      TIME   \n",
              "2          1  10-Jun-20   AI  0931      MUMBAI       06:25   JEDDAH     09:00   \n",
              "\n",
              "   ARRIVAL.2  \n",
              "0        NaN  \n",
              "1       DATE  \n",
              "2  10-Jun-20  "
            ]
          },
          "metadata": {
            "tags": []
          },
          "execution_count": 98
        }
      ]
    },
    {
      "cell_type": "code",
      "metadata": {
        "id": "avsurXL-LKSl",
        "colab_type": "code",
        "colab": {
          "base_uri": "https://localhost:8080/",
          "height": 136
        },
        "outputId": "c15a1036-7002-4ec6-f26f-c0b9b162f33e"
      },
      "source": [
        "# checking the concatenated dataframes before renaming column names\n",
        "df_rest.head(3)"
      ],
      "execution_count": 99,
      "outputs": [
        {
          "output_type": "execute_result",
          "data": {
            "text/html": [
              "<div>\n",
              "<style scoped>\n",
              "    .dataframe tbody tr th:only-of-type {\n",
              "        vertical-align: middle;\n",
              "    }\n",
              "\n",
              "    .dataframe tbody tr th {\n",
              "        vertical-align: top;\n",
              "    }\n",
              "\n",
              "    .dataframe thead th {\n",
              "        text-align: right;\n",
              "    }\n",
              "</style>\n",
              "<table border=\"1\" class=\"dataframe\">\n",
              "  <thead>\n",
              "    <tr style=\"text-align: right;\">\n",
              "      <th></th>\n",
              "      <th>SNO</th>\n",
              "      <th>DEPARTURE\\rDATE</th>\n",
              "      <th>FLIGHT</th>\n",
              "      <th>DEPARTURE\\rSTATION</th>\n",
              "      <th>DEPARTURE\\rTIME</th>\n",
              "      <th>ARRIVAL\\rSTATION</th>\n",
              "      <th>ARRIVAL\\rTIME</th>\n",
              "      <th>ARRIVAL\\rDATE</th>\n",
              "    </tr>\n",
              "  </thead>\n",
              "  <tbody>\n",
              "    <tr>\n",
              "      <th>0</th>\n",
              "      <td>20</td>\n",
              "      <td>13-Jun-20</td>\n",
              "      <td>AI  0127</td>\n",
              "      <td>DELHI</td>\n",
              "      <td>02:20</td>\n",
              "      <td>CHICAGO</td>\n",
              "      <td>07:25</td>\n",
              "      <td>13-Jun-20</td>\n",
              "    </tr>\n",
              "    <tr>\n",
              "      <th>1</th>\n",
              "      <td>21</td>\n",
              "      <td>13-Jun-20</td>\n",
              "      <td>AI 1905</td>\n",
              "      <td>MUMBAI</td>\n",
              "      <td>06:30</td>\n",
              "      <td>LAGOS</td>\n",
              "      <td>11:50</td>\n",
              "      <td>13-Jun-20</td>\n",
              "    </tr>\n",
              "    <tr>\n",
              "      <th>2</th>\n",
              "      <td>22</td>\n",
              "      <td>13-Jun-20</td>\n",
              "      <td>AI  0921</td>\n",
              "      <td>MUMBAI</td>\n",
              "      <td>07:45</td>\n",
              "      <td>RIYADH</td>\n",
              "      <td>09:45</td>\n",
              "      <td>13-Jun-20</td>\n",
              "    </tr>\n",
              "  </tbody>\n",
              "</table>\n",
              "</div>"
            ],
            "text/plain": [
              "   SNO DEPARTURE\\rDATE    FLIGHT DEPARTURE\\rSTATION DEPARTURE\\rTIME  \\\n",
              "0   20       13-Jun-20  AI  0127              DELHI           02:20   \n",
              "1   21       13-Jun-20   AI 1905             MUMBAI           06:30   \n",
              "2   22       13-Jun-20  AI  0921             MUMBAI           07:45   \n",
              "\n",
              "  ARRIVAL\\rSTATION ARRIVAL\\rTIME ARRIVAL\\rDATE  \n",
              "0          CHICAGO         07:25     13-Jun-20  \n",
              "1            LAGOS         11:50     13-Jun-20  \n",
              "2           RIYADH         09:45     13-Jun-20  "
            ]
          },
          "metadata": {
            "tags": []
          },
          "execution_count": 99
        }
      ]
    },
    {
      "cell_type": "code",
      "metadata": {
        "id": "O_8jV5LibmO_",
        "colab_type": "code",
        "colab": {}
      },
      "source": [
        "# Renaming the columns in order to maintain uniformity\n",
        "df_1_6.rename(columns={'Unnamed: 0':'SNO',\n",
        "                       'DEPARTURE':'DEP_DT',\n",
        "                       'Unnamed: 1':'FLIGHT',\n",
        "                       'DEPARTURE.1':'DEP',\n",
        "                       'DEPARTURE.2':'DEP_TIME',\n",
        "                       'ARRIVAL':'ARR',\n",
        "                       'ARRIVAL.1':'ARR_TIME',\n",
        "                       'ARRIVAL.2':'ARR_DT'},inplace=True) "
      ],
      "execution_count": 0,
      "outputs": []
    },
    {
      "cell_type": "code",
      "metadata": {
        "id": "xCgYNY2ydyrr",
        "colab_type": "code",
        "colab": {}
      },
      "source": [
        "df_rest.rename(columns={'DEPARTURE\\rDATE':'DEP_DT',\n",
        "                          'DEPARTURE\\rSTATION':'DEP',\n",
        "                          'DEPARTURE\\rTIME':'DEP_TIME',\n",
        "                          'ARRIVAL\\rSTATION':'ARR',\n",
        "                          'ARRIVAL\\rTIME':'ARR_TIME',\n",
        "                          'ARRIVAL\\rDATE':'ARR_DT'},inplace=True)"
      ],
      "execution_count": 0,
      "outputs": []
    },
    {
      "cell_type": "code",
      "metadata": {
        "id": "zd9jL8jzf0BK",
        "colab_type": "code",
        "colab": {
          "base_uri": "https://localhost:8080/",
          "height": 118
        },
        "outputId": "ca84be37-1cb5-4cfc-cc30-45bda7bdcde8"
      },
      "source": [
        "# checking the data after renaming columns\n",
        "print('columns of df_1_6:',df_1_6.columns)\n",
        "print('columns of df_rest:',df_rest.columns)\n"
      ],
      "execution_count": 102,
      "outputs": [
        {
          "output_type": "stream",
          "text": [
            "columns of df_1_6: Index(['SNO', 'DEP_DT', 'FLIGHT', 'DEP', 'DEP_TIME', 'ARR', 'ARR_TIME',\n",
            "       'ARR_DT'],\n",
            "      dtype='object')\n",
            "columns of df_rest: Index(['SNO', 'DEP_DT', 'FLIGHT', 'DEP', 'DEP_TIME', 'ARR', 'ARR_TIME',\n",
            "       'ARR_DT'],\n",
            "      dtype='object')\n"
          ],
          "name": "stdout"
        }
      ]
    },
    {
      "cell_type": "code",
      "metadata": {
        "id": "_6Q638ZlGFx2",
        "colab_type": "code",
        "colab": {}
      },
      "source": [
        "# After fixing the column names in both the dataset, now we can concatenate the dataframe df_1_6 and df_rest\n",
        "df_final = pd.concat([df_1_6,df_rest])\n",
        "\n"
      ],
      "execution_count": 0,
      "outputs": []
    },
    {
      "cell_type": "code",
      "metadata": {
        "id": "BdVLXcKSM84O",
        "colab_type": "code",
        "colab": {
          "base_uri": "https://localhost:8080/",
          "height": 34
        },
        "outputId": "d3570dae-f8ae-4956-ea27-5977346f8889"
      },
      "source": [
        "# checking the number of records of the final dataframe\n",
        "len(df_final)"
      ],
      "execution_count": 104,
      "outputs": [
        {
          "output_type": "execute_result",
          "data": {
            "text/plain": [
              "563"
            ]
          },
          "metadata": {
            "tags": []
          },
          "execution_count": 104
        }
      ]
    },
    {
      "cell_type": "markdown",
      "metadata": {
        "id": "OcLfyXJvdCHP",
        "colab_type": "text"
      },
      "source": [
        "# **The below steps will be used in order to handle the Null Values**\n"
      ]
    },
    {
      "cell_type": "code",
      "metadata": {
        "id": "-COBzVGSylqd",
        "colab_type": "code",
        "colab": {}
      },
      "source": [
        "# creating a categorical temp column in order to tag null values in the rows\n",
        "df_final['T/F'] = df_final.isnull().any(axis=1)\n"
      ],
      "execution_count": 0,
      "outputs": []
    },
    {
      "cell_type": "code",
      "metadata": {
        "id": "xtIupJDPVMnz",
        "colab_type": "code",
        "colab": {
          "base_uri": "https://localhost:8080/",
          "height": 166
        },
        "outputId": "88eadd9e-6069-4053-8ba8-e085aa50905e"
      },
      "source": [
        "# Filtering the dataset in order find the rows with null values\n",
        "df_final[df_final['T/F']== True]"
      ],
      "execution_count": 106,
      "outputs": [
        {
          "output_type": "execute_result",
          "data": {
            "text/html": [
              "<div>\n",
              "<style scoped>\n",
              "    .dataframe tbody tr th:only-of-type {\n",
              "        vertical-align: middle;\n",
              "    }\n",
              "\n",
              "    .dataframe tbody tr th {\n",
              "        vertical-align: top;\n",
              "    }\n",
              "\n",
              "    .dataframe thead th {\n",
              "        text-align: right;\n",
              "    }\n",
              "</style>\n",
              "<table border=\"1\" class=\"dataframe\">\n",
              "  <thead>\n",
              "    <tr style=\"text-align: right;\">\n",
              "      <th></th>\n",
              "      <th>SNO</th>\n",
              "      <th>DEP_DT</th>\n",
              "      <th>FLIGHT</th>\n",
              "      <th>DEP</th>\n",
              "      <th>DEP_TIME</th>\n",
              "      <th>ARR</th>\n",
              "      <th>ARR_TIME</th>\n",
              "      <th>ARR_DT</th>\n",
              "      <th>T/F</th>\n",
              "    </tr>\n",
              "  </thead>\n",
              "  <tbody>\n",
              "    <tr>\n",
              "      <th>0</th>\n",
              "      <td>SNO</td>\n",
              "      <td>NaN</td>\n",
              "      <td>FLIGHT</td>\n",
              "      <td>NaN</td>\n",
              "      <td>NaN</td>\n",
              "      <td>NaN</td>\n",
              "      <td>NaN</td>\n",
              "      <td>NaN</td>\n",
              "      <td>True</td>\n",
              "    </tr>\n",
              "    <tr>\n",
              "      <th>1</th>\n",
              "      <td>NaN</td>\n",
              "      <td>DATE</td>\n",
              "      <td>NaN</td>\n",
              "      <td>STATION</td>\n",
              "      <td>TIME</td>\n",
              "      <td>STATION</td>\n",
              "      <td>TIME</td>\n",
              "      <td>DATE</td>\n",
              "      <td>True</td>\n",
              "    </tr>\n",
              "    <tr>\n",
              "      <th>0</th>\n",
              "      <td>SNO</td>\n",
              "      <td>NaN</td>\n",
              "      <td>FLIGHT</td>\n",
              "      <td>NaN</td>\n",
              "      <td>NaN</td>\n",
              "      <td>NaN</td>\n",
              "      <td>NaN</td>\n",
              "      <td>NaN</td>\n",
              "      <td>True</td>\n",
              "    </tr>\n",
              "    <tr>\n",
              "      <th>1</th>\n",
              "      <td>NaN</td>\n",
              "      <td>DATE</td>\n",
              "      <td>NaN</td>\n",
              "      <td>STATION</td>\n",
              "      <td>TIME</td>\n",
              "      <td>STATION</td>\n",
              "      <td>TIME</td>\n",
              "      <td>DATE</td>\n",
              "      <td>True</td>\n",
              "    </tr>\n",
              "  </tbody>\n",
              "</table>\n",
              "</div>"
            ],
            "text/plain": [
              "   SNO DEP_DT  FLIGHT      DEP DEP_TIME      ARR ARR_TIME ARR_DT   T/F\n",
              "0  SNO    NaN  FLIGHT      NaN      NaN      NaN      NaN    NaN  True\n",
              "1  NaN   DATE     NaN  STATION     TIME  STATION     TIME   DATE  True\n",
              "0  SNO    NaN  FLIGHT      NaN      NaN      NaN      NaN    NaN  True\n",
              "1  NaN   DATE     NaN  STATION     TIME  STATION     TIME   DATE  True"
            ]
          },
          "metadata": {
            "tags": []
          },
          "execution_count": 106
        }
      ]
    },
    {
      "cell_type": "code",
      "metadata": {
        "id": "YZHxOuPu4MjV",
        "colab_type": "code",
        "colab": {}
      },
      "source": [
        "# Modifying the dataframe to store not null values only\n",
        "df_final = df_final[df_final['T/F'] != True]"
      ],
      "execution_count": 0,
      "outputs": []
    },
    {
      "cell_type": "code",
      "metadata": {
        "id": "pHr_X8F632_5",
        "colab_type": "code",
        "colab": {
          "base_uri": "https://localhost:8080/",
          "height": 402
        },
        "outputId": "4e1d6164-e96b-45aa-e9b8-8dac28002ec8"
      },
      "source": [
        "df_final"
      ],
      "execution_count": 108,
      "outputs": [
        {
          "output_type": "execute_result",
          "data": {
            "text/html": [
              "<div>\n",
              "<style scoped>\n",
              "    .dataframe tbody tr th:only-of-type {\n",
              "        vertical-align: middle;\n",
              "    }\n",
              "\n",
              "    .dataframe tbody tr th {\n",
              "        vertical-align: top;\n",
              "    }\n",
              "\n",
              "    .dataframe thead th {\n",
              "        text-align: right;\n",
              "    }\n",
              "</style>\n",
              "<table border=\"1\" class=\"dataframe\">\n",
              "  <thead>\n",
              "    <tr style=\"text-align: right;\">\n",
              "      <th></th>\n",
              "      <th>SNO</th>\n",
              "      <th>DEP_DT</th>\n",
              "      <th>FLIGHT</th>\n",
              "      <th>DEP</th>\n",
              "      <th>DEP_TIME</th>\n",
              "      <th>ARR</th>\n",
              "      <th>ARR_TIME</th>\n",
              "      <th>ARR_DT</th>\n",
              "      <th>T/F</th>\n",
              "    </tr>\n",
              "  </thead>\n",
              "  <tbody>\n",
              "    <tr>\n",
              "      <th>2</th>\n",
              "      <td>1</td>\n",
              "      <td>10-Jun-20</td>\n",
              "      <td>AI  0931</td>\n",
              "      <td>MUMBAI</td>\n",
              "      <td>06:25</td>\n",
              "      <td>JEDDAH</td>\n",
              "      <td>09:00</td>\n",
              "      <td>10-Jun-20</td>\n",
              "      <td>False</td>\n",
              "    </tr>\n",
              "    <tr>\n",
              "      <th>3</th>\n",
              "      <td>2</td>\n",
              "      <td>10-Jun-20</td>\n",
              "      <td>AI  1929</td>\n",
              "      <td>MUMBAI</td>\n",
              "      <td>07:45</td>\n",
              "      <td>DAMMAM</td>\n",
              "      <td>09:00</td>\n",
              "      <td>10-Jun-20</td>\n",
              "      <td>False</td>\n",
              "    </tr>\n",
              "    <tr>\n",
              "      <th>4</th>\n",
              "      <td>3</td>\n",
              "      <td>10-Jun-20</td>\n",
              "      <td>AI  1953</td>\n",
              "      <td>BANGALURU</td>\n",
              "      <td>08:00</td>\n",
              "      <td>RIYADH</td>\n",
              "      <td>10:20</td>\n",
              "      <td>10-Jun-20</td>\n",
              "      <td>False</td>\n",
              "    </tr>\n",
              "    <tr>\n",
              "      <th>5</th>\n",
              "      <td>4</td>\n",
              "      <td>10-Jun-20</td>\n",
              "      <td>AI  1957</td>\n",
              "      <td>DELHI</td>\n",
              "      <td>10:00</td>\n",
              "      <td>RIYADH</td>\n",
              "      <td>12:30</td>\n",
              "      <td>10-Jun-20</td>\n",
              "      <td>False</td>\n",
              "    </tr>\n",
              "    <tr>\n",
              "      <th>6</th>\n",
              "      <td>5</td>\n",
              "      <td>11-Jun-20</td>\n",
              "      <td>AI  0127</td>\n",
              "      <td>DELHI</td>\n",
              "      <td>02:20</td>\n",
              "      <td>CHICAGO</td>\n",
              "      <td>07:25</td>\n",
              "      <td>11-Jun-20</td>\n",
              "      <td>False</td>\n",
              "    </tr>\n",
              "    <tr>\n",
              "      <th>...</th>\n",
              "      <td>...</td>\n",
              "      <td>...</td>\n",
              "      <td>...</td>\n",
              "      <td>...</td>\n",
              "      <td>...</td>\n",
              "      <td>...</td>\n",
              "      <td>...</td>\n",
              "      <td>...</td>\n",
              "      <td>...</td>\n",
              "    </tr>\n",
              "    <tr>\n",
              "      <th>15</th>\n",
              "      <td>352</td>\n",
              "      <td>30-Jun-20</td>\n",
              "      <td>AI  0188</td>\n",
              "      <td>TORONTO</td>\n",
              "      <td>12:15</td>\n",
              "      <td>DELHI</td>\n",
              "      <td>12:15</td>\n",
              "      <td>01-Jul-20</td>\n",
              "      <td>False</td>\n",
              "    </tr>\n",
              "    <tr>\n",
              "      <th>16</th>\n",
              "      <td>353</td>\n",
              "      <td>30-Jun-20</td>\n",
              "      <td>AI  0126</td>\n",
              "      <td>CHICAGO</td>\n",
              "      <td>12:00</td>\n",
              "      <td>DELHI</td>\n",
              "      <td>13:05</td>\n",
              "      <td>01-Jul-20</td>\n",
              "      <td>False</td>\n",
              "    </tr>\n",
              "    <tr>\n",
              "      <th>17</th>\n",
              "      <td>354</td>\n",
              "      <td>30-Jun-20</td>\n",
              "      <td>AI  0174</td>\n",
              "      <td>SAN FRANCISCO</td>\n",
              "      <td>10:30</td>\n",
              "      <td>DELHI</td>\n",
              "      <td>15:00</td>\n",
              "      <td>01-Jul-20</td>\n",
              "      <td>False</td>\n",
              "    </tr>\n",
              "    <tr>\n",
              "      <th>18</th>\n",
              "      <td>355</td>\n",
              "      <td>01-Jul-20</td>\n",
              "      <td>AI  0126</td>\n",
              "      <td>DELHI</td>\n",
              "      <td>15:30</td>\n",
              "      <td>HYDERABAD</td>\n",
              "      <td>17:30</td>\n",
              "      <td>01-Jul-20</td>\n",
              "      <td>False</td>\n",
              "    </tr>\n",
              "    <tr>\n",
              "      <th>19</th>\n",
              "      <td>356</td>\n",
              "      <td>01-Jul-20</td>\n",
              "      <td>AI  0174</td>\n",
              "      <td>DELHI</td>\n",
              "      <td>17:00</td>\n",
              "      <td>BANGALURU</td>\n",
              "      <td>19:45</td>\n",
              "      <td>01-Jul-20</td>\n",
              "      <td>False</td>\n",
              "    </tr>\n",
              "  </tbody>\n",
              "</table>\n",
              "<p>559 rows × 9 columns</p>\n",
              "</div>"
            ],
            "text/plain": [
              "    SNO     DEP_DT    FLIGHT            DEP DEP_TIME        ARR ARR_TIME  \\\n",
              "2     1  10-Jun-20  AI  0931         MUMBAI    06:25     JEDDAH    09:00   \n",
              "3     2  10-Jun-20  AI  1929         MUMBAI    07:45     DAMMAM    09:00   \n",
              "4     3  10-Jun-20  AI  1953      BANGALURU    08:00     RIYADH    10:20   \n",
              "5     4  10-Jun-20  AI  1957          DELHI    10:00     RIYADH    12:30   \n",
              "6     5  11-Jun-20  AI  0127          DELHI    02:20    CHICAGO    07:25   \n",
              "..  ...        ...       ...            ...      ...        ...      ...   \n",
              "15  352  30-Jun-20  AI  0188        TORONTO    12:15      DELHI    12:15   \n",
              "16  353  30-Jun-20  AI  0126        CHICAGO    12:00      DELHI    13:05   \n",
              "17  354  30-Jun-20  AI  0174  SAN FRANCISCO    10:30      DELHI    15:00   \n",
              "18  355  01-Jul-20  AI  0126          DELHI    15:30  HYDERABAD    17:30   \n",
              "19  356  01-Jul-20  AI  0174          DELHI    17:00  BANGALURU    19:45   \n",
              "\n",
              "       ARR_DT    T/F  \n",
              "2   10-Jun-20  False  \n",
              "3   10-Jun-20  False  \n",
              "4   10-Jun-20  False  \n",
              "5   10-Jun-20  False  \n",
              "6   11-Jun-20  False  \n",
              "..        ...    ...  \n",
              "15  01-Jul-20  False  \n",
              "16  01-Jul-20  False  \n",
              "17  01-Jul-20  False  \n",
              "18  01-Jul-20  False  \n",
              "19  01-Jul-20  False  \n",
              "\n",
              "[559 rows x 9 columns]"
            ]
          },
          "metadata": {
            "tags": []
          },
          "execution_count": 108
        }
      ]
    },
    {
      "cell_type": "markdown",
      "metadata": {
        "id": "Nef6kJE8dzwv",
        "colab_type": "text"
      },
      "source": [
        "# **The below steps will be followed in order to fix the labelling of rows**"
      ]
    },
    {
      "cell_type": "code",
      "metadata": {
        "id": "FTX3dXYwvVlp",
        "colab_type": "code",
        "colab": {}
      },
      "source": [
        "# defining the row labels in a list\n",
        "index_lst = list(range(1,len(df_final)+1))"
      ],
      "execution_count": 0,
      "outputs": []
    },
    {
      "cell_type": "code",
      "metadata": {
        "id": "PvRarJPbe40C",
        "colab_type": "code",
        "colab": {}
      },
      "source": [
        "# assigning the row labels to the column\n",
        "df_final['id']= index_lst"
      ],
      "execution_count": 0,
      "outputs": []
    },
    {
      "cell_type": "code",
      "metadata": {
        "id": "bNCEgHDZg36z",
        "colab_type": "code",
        "colab": {
          "base_uri": "https://localhost:8080/",
          "height": 195
        },
        "outputId": "a3bcd2f5-25f9-479b-9c3d-a24daee0fa2c"
      },
      "source": [
        "# exploring the final dataframe and checking the id column\n",
        "df_final.head()"
      ],
      "execution_count": 111,
      "outputs": [
        {
          "output_type": "execute_result",
          "data": {
            "text/html": [
              "<div>\n",
              "<style scoped>\n",
              "    .dataframe tbody tr th:only-of-type {\n",
              "        vertical-align: middle;\n",
              "    }\n",
              "\n",
              "    .dataframe tbody tr th {\n",
              "        vertical-align: top;\n",
              "    }\n",
              "\n",
              "    .dataframe thead th {\n",
              "        text-align: right;\n",
              "    }\n",
              "</style>\n",
              "<table border=\"1\" class=\"dataframe\">\n",
              "  <thead>\n",
              "    <tr style=\"text-align: right;\">\n",
              "      <th></th>\n",
              "      <th>SNO</th>\n",
              "      <th>DEP_DT</th>\n",
              "      <th>FLIGHT</th>\n",
              "      <th>DEP</th>\n",
              "      <th>DEP_TIME</th>\n",
              "      <th>ARR</th>\n",
              "      <th>ARR_TIME</th>\n",
              "      <th>ARR_DT</th>\n",
              "      <th>T/F</th>\n",
              "      <th>id</th>\n",
              "    </tr>\n",
              "  </thead>\n",
              "  <tbody>\n",
              "    <tr>\n",
              "      <th>2</th>\n",
              "      <td>1</td>\n",
              "      <td>10-Jun-20</td>\n",
              "      <td>AI  0931</td>\n",
              "      <td>MUMBAI</td>\n",
              "      <td>06:25</td>\n",
              "      <td>JEDDAH</td>\n",
              "      <td>09:00</td>\n",
              "      <td>10-Jun-20</td>\n",
              "      <td>False</td>\n",
              "      <td>1</td>\n",
              "    </tr>\n",
              "    <tr>\n",
              "      <th>3</th>\n",
              "      <td>2</td>\n",
              "      <td>10-Jun-20</td>\n",
              "      <td>AI  1929</td>\n",
              "      <td>MUMBAI</td>\n",
              "      <td>07:45</td>\n",
              "      <td>DAMMAM</td>\n",
              "      <td>09:00</td>\n",
              "      <td>10-Jun-20</td>\n",
              "      <td>False</td>\n",
              "      <td>2</td>\n",
              "    </tr>\n",
              "    <tr>\n",
              "      <th>4</th>\n",
              "      <td>3</td>\n",
              "      <td>10-Jun-20</td>\n",
              "      <td>AI  1953</td>\n",
              "      <td>BANGALURU</td>\n",
              "      <td>08:00</td>\n",
              "      <td>RIYADH</td>\n",
              "      <td>10:20</td>\n",
              "      <td>10-Jun-20</td>\n",
              "      <td>False</td>\n",
              "      <td>3</td>\n",
              "    </tr>\n",
              "    <tr>\n",
              "      <th>5</th>\n",
              "      <td>4</td>\n",
              "      <td>10-Jun-20</td>\n",
              "      <td>AI  1957</td>\n",
              "      <td>DELHI</td>\n",
              "      <td>10:00</td>\n",
              "      <td>RIYADH</td>\n",
              "      <td>12:30</td>\n",
              "      <td>10-Jun-20</td>\n",
              "      <td>False</td>\n",
              "      <td>4</td>\n",
              "    </tr>\n",
              "    <tr>\n",
              "      <th>6</th>\n",
              "      <td>5</td>\n",
              "      <td>11-Jun-20</td>\n",
              "      <td>AI  0127</td>\n",
              "      <td>DELHI</td>\n",
              "      <td>02:20</td>\n",
              "      <td>CHICAGO</td>\n",
              "      <td>07:25</td>\n",
              "      <td>11-Jun-20</td>\n",
              "      <td>False</td>\n",
              "      <td>5</td>\n",
              "    </tr>\n",
              "  </tbody>\n",
              "</table>\n",
              "</div>"
            ],
            "text/plain": [
              "  SNO     DEP_DT    FLIGHT        DEP DEP_TIME      ARR ARR_TIME     ARR_DT  \\\n",
              "2   1  10-Jun-20  AI  0931     MUMBAI    06:25   JEDDAH    09:00  10-Jun-20   \n",
              "3   2  10-Jun-20  AI  1929     MUMBAI    07:45   DAMMAM    09:00  10-Jun-20   \n",
              "4   3  10-Jun-20  AI  1953  BANGALURU    08:00   RIYADH    10:20  10-Jun-20   \n",
              "5   4  10-Jun-20  AI  1957      DELHI    10:00   RIYADH    12:30  10-Jun-20   \n",
              "6   5  11-Jun-20  AI  0127      DELHI    02:20  CHICAGO    07:25  11-Jun-20   \n",
              "\n",
              "     T/F  id  \n",
              "2  False   1  \n",
              "3  False   2  \n",
              "4  False   3  \n",
              "5  False   4  \n",
              "6  False   5  "
            ]
          },
          "metadata": {
            "tags": []
          },
          "execution_count": 111
        }
      ]
    },
    {
      "cell_type": "code",
      "metadata": {
        "id": "r7MiwNQLhDoS",
        "colab_type": "code",
        "colab": {
          "base_uri": "https://localhost:8080/",
          "height": 195
        },
        "outputId": "5b1c0523-4bed-4723-9fa3-516285e87d21"
      },
      "source": [
        "df_final.tail()"
      ],
      "execution_count": 112,
      "outputs": [
        {
          "output_type": "execute_result",
          "data": {
            "text/html": [
              "<div>\n",
              "<style scoped>\n",
              "    .dataframe tbody tr th:only-of-type {\n",
              "        vertical-align: middle;\n",
              "    }\n",
              "\n",
              "    .dataframe tbody tr th {\n",
              "        vertical-align: top;\n",
              "    }\n",
              "\n",
              "    .dataframe thead th {\n",
              "        text-align: right;\n",
              "    }\n",
              "</style>\n",
              "<table border=\"1\" class=\"dataframe\">\n",
              "  <thead>\n",
              "    <tr style=\"text-align: right;\">\n",
              "      <th></th>\n",
              "      <th>SNO</th>\n",
              "      <th>DEP_DT</th>\n",
              "      <th>FLIGHT</th>\n",
              "      <th>DEP</th>\n",
              "      <th>DEP_TIME</th>\n",
              "      <th>ARR</th>\n",
              "      <th>ARR_TIME</th>\n",
              "      <th>ARR_DT</th>\n",
              "      <th>T/F</th>\n",
              "      <th>id</th>\n",
              "    </tr>\n",
              "  </thead>\n",
              "  <tbody>\n",
              "    <tr>\n",
              "      <th>15</th>\n",
              "      <td>352</td>\n",
              "      <td>30-Jun-20</td>\n",
              "      <td>AI  0188</td>\n",
              "      <td>TORONTO</td>\n",
              "      <td>12:15</td>\n",
              "      <td>DELHI</td>\n",
              "      <td>12:15</td>\n",
              "      <td>01-Jul-20</td>\n",
              "      <td>False</td>\n",
              "      <td>555</td>\n",
              "    </tr>\n",
              "    <tr>\n",
              "      <th>16</th>\n",
              "      <td>353</td>\n",
              "      <td>30-Jun-20</td>\n",
              "      <td>AI  0126</td>\n",
              "      <td>CHICAGO</td>\n",
              "      <td>12:00</td>\n",
              "      <td>DELHI</td>\n",
              "      <td>13:05</td>\n",
              "      <td>01-Jul-20</td>\n",
              "      <td>False</td>\n",
              "      <td>556</td>\n",
              "    </tr>\n",
              "    <tr>\n",
              "      <th>17</th>\n",
              "      <td>354</td>\n",
              "      <td>30-Jun-20</td>\n",
              "      <td>AI  0174</td>\n",
              "      <td>SAN FRANCISCO</td>\n",
              "      <td>10:30</td>\n",
              "      <td>DELHI</td>\n",
              "      <td>15:00</td>\n",
              "      <td>01-Jul-20</td>\n",
              "      <td>False</td>\n",
              "      <td>557</td>\n",
              "    </tr>\n",
              "    <tr>\n",
              "      <th>18</th>\n",
              "      <td>355</td>\n",
              "      <td>01-Jul-20</td>\n",
              "      <td>AI  0126</td>\n",
              "      <td>DELHI</td>\n",
              "      <td>15:30</td>\n",
              "      <td>HYDERABAD</td>\n",
              "      <td>17:30</td>\n",
              "      <td>01-Jul-20</td>\n",
              "      <td>False</td>\n",
              "      <td>558</td>\n",
              "    </tr>\n",
              "    <tr>\n",
              "      <th>19</th>\n",
              "      <td>356</td>\n",
              "      <td>01-Jul-20</td>\n",
              "      <td>AI  0174</td>\n",
              "      <td>DELHI</td>\n",
              "      <td>17:00</td>\n",
              "      <td>BANGALURU</td>\n",
              "      <td>19:45</td>\n",
              "      <td>01-Jul-20</td>\n",
              "      <td>False</td>\n",
              "      <td>559</td>\n",
              "    </tr>\n",
              "  </tbody>\n",
              "</table>\n",
              "</div>"
            ],
            "text/plain": [
              "    SNO     DEP_DT    FLIGHT            DEP DEP_TIME        ARR ARR_TIME  \\\n",
              "15  352  30-Jun-20  AI  0188        TORONTO    12:15      DELHI    12:15   \n",
              "16  353  30-Jun-20  AI  0126        CHICAGO    12:00      DELHI    13:05   \n",
              "17  354  30-Jun-20  AI  0174  SAN FRANCISCO    10:30      DELHI    15:00   \n",
              "18  355  01-Jul-20  AI  0126          DELHI    15:30  HYDERABAD    17:30   \n",
              "19  356  01-Jul-20  AI  0174          DELHI    17:00  BANGALURU    19:45   \n",
              "\n",
              "       ARR_DT    T/F   id  \n",
              "15  01-Jul-20  False  555  \n",
              "16  01-Jul-20  False  556  \n",
              "17  01-Jul-20  False  557  \n",
              "18  01-Jul-20  False  558  \n",
              "19  01-Jul-20  False  559  "
            ]
          },
          "metadata": {
            "tags": []
          },
          "execution_count": 112
        }
      ]
    },
    {
      "cell_type": "markdown",
      "metadata": {
        "id": "8YopYDSHh7pt",
        "colab_type": "text"
      },
      "source": [
        "#### Preparing the dataset by dropping the temporary columns and setting the index"
      ]
    },
    {
      "cell_type": "code",
      "metadata": {
        "id": "VLfBiVJXhJJZ",
        "colab_type": "code",
        "colab": {}
      },
      "source": [
        "# deleting the temporary categorical column 'T/F'and the 'SNO column\n",
        "df_final.drop(columns=['T/F','SNO'],inplace =True)\n",
        "df_final.set_index('id',inplace=True)"
      ],
      "execution_count": 0,
      "outputs": []
    },
    {
      "cell_type": "code",
      "metadata": {
        "id": "sOueoMwrilx5",
        "colab_type": "code",
        "colab": {
          "base_uri": "https://localhost:8080/",
          "height": 431
        },
        "outputId": "dd10b04f-e359-4594-9ca6-f4a8c1e22b0a"
      },
      "source": [
        "df_final"
      ],
      "execution_count": 114,
      "outputs": [
        {
          "output_type": "execute_result",
          "data": {
            "text/html": [
              "<div>\n",
              "<style scoped>\n",
              "    .dataframe tbody tr th:only-of-type {\n",
              "        vertical-align: middle;\n",
              "    }\n",
              "\n",
              "    .dataframe tbody tr th {\n",
              "        vertical-align: top;\n",
              "    }\n",
              "\n",
              "    .dataframe thead th {\n",
              "        text-align: right;\n",
              "    }\n",
              "</style>\n",
              "<table border=\"1\" class=\"dataframe\">\n",
              "  <thead>\n",
              "    <tr style=\"text-align: right;\">\n",
              "      <th></th>\n",
              "      <th>DEP_DT</th>\n",
              "      <th>FLIGHT</th>\n",
              "      <th>DEP</th>\n",
              "      <th>DEP_TIME</th>\n",
              "      <th>ARR</th>\n",
              "      <th>ARR_TIME</th>\n",
              "      <th>ARR_DT</th>\n",
              "    </tr>\n",
              "    <tr>\n",
              "      <th>id</th>\n",
              "      <th></th>\n",
              "      <th></th>\n",
              "      <th></th>\n",
              "      <th></th>\n",
              "      <th></th>\n",
              "      <th></th>\n",
              "      <th></th>\n",
              "    </tr>\n",
              "  </thead>\n",
              "  <tbody>\n",
              "    <tr>\n",
              "      <th>1</th>\n",
              "      <td>10-Jun-20</td>\n",
              "      <td>AI  0931</td>\n",
              "      <td>MUMBAI</td>\n",
              "      <td>06:25</td>\n",
              "      <td>JEDDAH</td>\n",
              "      <td>09:00</td>\n",
              "      <td>10-Jun-20</td>\n",
              "    </tr>\n",
              "    <tr>\n",
              "      <th>2</th>\n",
              "      <td>10-Jun-20</td>\n",
              "      <td>AI  1929</td>\n",
              "      <td>MUMBAI</td>\n",
              "      <td>07:45</td>\n",
              "      <td>DAMMAM</td>\n",
              "      <td>09:00</td>\n",
              "      <td>10-Jun-20</td>\n",
              "    </tr>\n",
              "    <tr>\n",
              "      <th>3</th>\n",
              "      <td>10-Jun-20</td>\n",
              "      <td>AI  1953</td>\n",
              "      <td>BANGALURU</td>\n",
              "      <td>08:00</td>\n",
              "      <td>RIYADH</td>\n",
              "      <td>10:20</td>\n",
              "      <td>10-Jun-20</td>\n",
              "    </tr>\n",
              "    <tr>\n",
              "      <th>4</th>\n",
              "      <td>10-Jun-20</td>\n",
              "      <td>AI  1957</td>\n",
              "      <td>DELHI</td>\n",
              "      <td>10:00</td>\n",
              "      <td>RIYADH</td>\n",
              "      <td>12:30</td>\n",
              "      <td>10-Jun-20</td>\n",
              "    </tr>\n",
              "    <tr>\n",
              "      <th>5</th>\n",
              "      <td>11-Jun-20</td>\n",
              "      <td>AI  0127</td>\n",
              "      <td>DELHI</td>\n",
              "      <td>02:20</td>\n",
              "      <td>CHICAGO</td>\n",
              "      <td>07:25</td>\n",
              "      <td>11-Jun-20</td>\n",
              "    </tr>\n",
              "    <tr>\n",
              "      <th>...</th>\n",
              "      <td>...</td>\n",
              "      <td>...</td>\n",
              "      <td>...</td>\n",
              "      <td>...</td>\n",
              "      <td>...</td>\n",
              "      <td>...</td>\n",
              "      <td>...</td>\n",
              "    </tr>\n",
              "    <tr>\n",
              "      <th>555</th>\n",
              "      <td>30-Jun-20</td>\n",
              "      <td>AI  0188</td>\n",
              "      <td>TORONTO</td>\n",
              "      <td>12:15</td>\n",
              "      <td>DELHI</td>\n",
              "      <td>12:15</td>\n",
              "      <td>01-Jul-20</td>\n",
              "    </tr>\n",
              "    <tr>\n",
              "      <th>556</th>\n",
              "      <td>30-Jun-20</td>\n",
              "      <td>AI  0126</td>\n",
              "      <td>CHICAGO</td>\n",
              "      <td>12:00</td>\n",
              "      <td>DELHI</td>\n",
              "      <td>13:05</td>\n",
              "      <td>01-Jul-20</td>\n",
              "    </tr>\n",
              "    <tr>\n",
              "      <th>557</th>\n",
              "      <td>30-Jun-20</td>\n",
              "      <td>AI  0174</td>\n",
              "      <td>SAN FRANCISCO</td>\n",
              "      <td>10:30</td>\n",
              "      <td>DELHI</td>\n",
              "      <td>15:00</td>\n",
              "      <td>01-Jul-20</td>\n",
              "    </tr>\n",
              "    <tr>\n",
              "      <th>558</th>\n",
              "      <td>01-Jul-20</td>\n",
              "      <td>AI  0126</td>\n",
              "      <td>DELHI</td>\n",
              "      <td>15:30</td>\n",
              "      <td>HYDERABAD</td>\n",
              "      <td>17:30</td>\n",
              "      <td>01-Jul-20</td>\n",
              "    </tr>\n",
              "    <tr>\n",
              "      <th>559</th>\n",
              "      <td>01-Jul-20</td>\n",
              "      <td>AI  0174</td>\n",
              "      <td>DELHI</td>\n",
              "      <td>17:00</td>\n",
              "      <td>BANGALURU</td>\n",
              "      <td>19:45</td>\n",
              "      <td>01-Jul-20</td>\n",
              "    </tr>\n",
              "  </tbody>\n",
              "</table>\n",
              "<p>559 rows × 7 columns</p>\n",
              "</div>"
            ],
            "text/plain": [
              "        DEP_DT    FLIGHT            DEP DEP_TIME        ARR ARR_TIME  \\\n",
              "id                                                                     \n",
              "1    10-Jun-20  AI  0931         MUMBAI    06:25     JEDDAH    09:00   \n",
              "2    10-Jun-20  AI  1929         MUMBAI    07:45     DAMMAM    09:00   \n",
              "3    10-Jun-20  AI  1953      BANGALURU    08:00     RIYADH    10:20   \n",
              "4    10-Jun-20  AI  1957          DELHI    10:00     RIYADH    12:30   \n",
              "5    11-Jun-20  AI  0127          DELHI    02:20    CHICAGO    07:25   \n",
              "..         ...       ...            ...      ...        ...      ...   \n",
              "555  30-Jun-20  AI  0188        TORONTO    12:15      DELHI    12:15   \n",
              "556  30-Jun-20  AI  0126        CHICAGO    12:00      DELHI    13:05   \n",
              "557  30-Jun-20  AI  0174  SAN FRANCISCO    10:30      DELHI    15:00   \n",
              "558  01-Jul-20  AI  0126          DELHI    15:30  HYDERABAD    17:30   \n",
              "559  01-Jul-20  AI  0174          DELHI    17:00  BANGALURU    19:45   \n",
              "\n",
              "        ARR_DT  \n",
              "id              \n",
              "1    10-Jun-20  \n",
              "2    10-Jun-20  \n",
              "3    10-Jun-20  \n",
              "4    10-Jun-20  \n",
              "5    11-Jun-20  \n",
              "..         ...  \n",
              "555  01-Jul-20  \n",
              "556  01-Jul-20  \n",
              "557  01-Jul-20  \n",
              "558  01-Jul-20  \n",
              "559  01-Jul-20  \n",
              "\n",
              "[559 rows x 7 columns]"
            ]
          },
          "metadata": {
            "tags": []
          },
          "execution_count": 114
        }
      ]
    },
    {
      "cell_type": "markdown",
      "metadata": {
        "id": "Ar4OcZCehZIQ",
        "colab_type": "text"
      },
      "source": [
        "# ** Exporting the dataset into an excel file**"
      ]
    },
    {
      "cell_type": "code",
      "metadata": {
        "colab_type": "code",
        "id": "T3YqVCj8LaeF",
        "colab": {}
      },
      "source": [
        "output = df_final.to_excel('output.xlsx')"
      ],
      "execution_count": 0,
      "outputs": []
    }
  ]
}