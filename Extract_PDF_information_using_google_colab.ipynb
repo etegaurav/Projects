{
  "nbformat": 4,
  "nbformat_minor": 0,
  "metadata": {
    "colab": {
      "name": "Extract_PDF_information_using_google_colab.ipynb",
      "provenance": [],
      "include_colab_link": true
    },
    "kernelspec": {
      "display_name": "Python 3",
      "language": "python",
      "name": "python3"
    },
    "language_info": {
      "codemirror_mode": {
        "name": "ipython",
        "version": 3
      },
      "file_extension": ".py",
      "mimetype": "text/x-python",
      "name": "python",
      "nbconvert_exporter": "python",
      "pygments_lexer": "ipython3",
      "version": "3.6.9"
    }
  },
  "cells": [
    {
      "cell_type": "markdown",
      "metadata": {
        "id": "view-in-github",
        "colab_type": "text"
      },
      "source": [
        "<a href=\"https://colab.research.google.com/github/etegaurav/Projects/blob/master/Extract_PDF_information_using_google_colab.ipynb\" target=\"_parent\"><img src=\"https://colab.research.google.com/assets/colab-badge.svg\" alt=\"Open In Colab\"/></a>"
      ]
    },
    {
      "cell_type": "code",
      "metadata": {
        "colab_type": "code",
        "id": "tVPfmWjEwrpo",
        "outputId": "81fa175c-211a-4326-c267-40ad032075f4",
        "colab": {
          "base_uri": "https://localhost:8080/",
          "height": 34
        }
      },
      "source": [
        "!pip install -q tabula-py"
      ],
      "execution_count": 1,
      "outputs": [
        {
          "output_type": "stream",
          "text": [
            "\u001b[K     |████████████████████████████████| 10.4MB 2.7MB/s \n",
            "\u001b[?25h"
          ],
          "name": "stdout"
        }
      ]
    },
    {
      "cell_type": "code",
      "metadata": {
        "colab_type": "code",
        "id": "VJpdvH7dwBnc",
        "colab": {}
      },
      "source": [
        "import tabula\n",
        "import pandas as pd\n",
        "pd.set_option('display.max_rows',100)\n",
        "pd.set_option('display.max_columns',100)"
      ],
      "execution_count": 0,
      "outputs": []
    },
    {
      "cell_type": "code",
      "metadata": {
        "colab_type": "code",
        "id": "Ae6tfLsxwKR1",
        "colab": {}
      },
      "source": [
        "# Extraction of data from phase 2 and phase 3 pdfs\n",
        "df = tabula.read_pdf('/content/Web-schedule-phase-2-complete-3-Jun-20-1800-Hrs-converted-1.pdf',pages='all')\n",
        "df1 = tabula.read_pdf('/content/Web-schedule-phase-3-complete-3-Jun-20-1800-Hrs.pdf',pages='all')"
      ],
      "execution_count": 0,
      "outputs": []
    },
    {
      "cell_type": "code",
      "metadata": {
        "colab_type": "code",
        "id": "a2Vdakf4wjZ0",
        "colab": {}
      },
      "source": [
        "# loading the extracted data into dataframes\n",
        "df_phase2 = pd.DataFrame(df)\n",
        "df_phase3 = pd.DataFrame(df1)"
      ],
      "execution_count": 0,
      "outputs": []
    },
    {
      "cell_type": "code",
      "metadata": {
        "colab_type": "code",
        "id": "ejNwtFQpw6kE",
        "outputId": "f2808c08-be30-4f58-c13c-0d99f26a9aaa",
        "colab": {
          "base_uri": "https://localhost:8080/",
          "height": 67
        }
      },
      "source": [
        "print(type(df_phase2))\n",
        "print('len of phase2',len(df_phase2))\n",
        "print('len of phase3',len(df_phase3))"
      ],
      "execution_count": 48,
      "outputs": [
        {
          "output_type": "stream",
          "text": [
            "<class 'pandas.core.frame.DataFrame'>\n",
            "len of phase2 15\n",
            "len of phase3 16\n"
          ],
          "name": "stdout"
        }
      ]
    },
    {
      "cell_type": "code",
      "metadata": {
        "colab_type": "code",
        "id": "cM0WwUdGxF2s",
        "outputId": "732e5728-29e9-464a-8fc7-d842383550ed",
        "colab": {
          "base_uri": "https://localhost:8080/",
          "height": 195
        }
      },
      "source": [
        "# exploring the data of the data frame\n",
        "df_phase2.head()"
      ],
      "execution_count": 12,
      "outputs": [
        {
          "output_type": "execute_result",
          "data": {
            "text/html": [
              "<div>\n",
              "<style scoped>\n",
              "    .dataframe tbody tr th:only-of-type {\n",
              "        vertical-align: middle;\n",
              "    }\n",
              "\n",
              "    .dataframe tbody tr th {\n",
              "        vertical-align: top;\n",
              "    }\n",
              "\n",
              "    .dataframe thead th {\n",
              "        text-align: right;\n",
              "    }\n",
              "</style>\n",
              "<table border=\"1\" class=\"dataframe\">\n",
              "  <thead>\n",
              "    <tr style=\"text-align: right;\">\n",
              "      <th></th>\n",
              "      <th>0</th>\n",
              "    </tr>\n",
              "  </thead>\n",
              "  <tbody>\n",
              "    <tr>\n",
              "      <th>0</th>\n",
              "      <td>S  DEPARTURE Unnamed: 0 DEPARTURE.1 DEPA...</td>\n",
              "    </tr>\n",
              "    <tr>\n",
              "      <th>1</th>\n",
              "      <td>S\\rNO DEPARTURE\\rDATE    FLIGHT DEPARTURE\\...</td>\n",
              "    </tr>\n",
              "    <tr>\n",
              "      <th>2</th>\n",
              "      <td>S\\rNO DEPARTURE\\rDATE    FLIGHT DEPARTURE\\...</td>\n",
              "    </tr>\n",
              "    <tr>\n",
              "      <th>3</th>\n",
              "      <td>S\\rNO DEPARTURE\\rDATE    FLIGHT DEPARTURE\\...</td>\n",
              "    </tr>\n",
              "    <tr>\n",
              "      <th>4</th>\n",
              "      <td>S\\rNO DEPARTURE\\rDATE    FLIGHT DEPARTURE\\...</td>\n",
              "    </tr>\n",
              "  </tbody>\n",
              "</table>\n",
              "</div>"
            ],
            "text/plain": [
              "                                                   0\n",
              "0        S  DEPARTURE Unnamed: 0 DEPARTURE.1 DEPA...\n",
              "1      S\\rNO DEPARTURE\\rDATE    FLIGHT DEPARTURE\\...\n",
              "2      S\\rNO DEPARTURE\\rDATE    FLIGHT DEPARTURE\\...\n",
              "3      S\\rNO DEPARTURE\\rDATE    FLIGHT DEPARTURE\\...\n",
              "4      S\\rNO DEPARTURE\\rDATE    FLIGHT DEPARTURE\\..."
            ]
          },
          "metadata": {
            "tags": []
          },
          "execution_count": 12
        }
      ]
    },
    {
      "cell_type": "code",
      "metadata": {
        "id": "rZ6aeCIqsVns",
        "colab_type": "code",
        "colab": {}
      },
      "source": [
        "df_phase31 = df_phase3.iloc[0,0]\n"
      ],
      "execution_count": 0,
      "outputs": []
    },
    {
      "cell_type": "code",
      "metadata": {
        "id": "yO75177IDmEE",
        "colab_type": "code",
        "colab": {}
      },
      "source": [
        "sum = len(df[0]) + len(df[1]) + len(df[2]) + len(df[3]) + len(df[4]) + len(df[5])"
      ],
      "execution_count": 0,
      "outputs": []
    },
    {
      "cell_type": "code",
      "metadata": {
        "id": "okmLy2s2wdf4",
        "colab_type": "code",
        "colab": {
          "base_uri": "https://localhost:8080/",
          "height": 286
        },
        "outputId": "39b29667-e1ba-4d58-c476-fd99f81b9559"
      },
      "source": [
        "for i in range(len(df1)):\n",
        "  print(f'len of dataframe {i}: ',len(df1[i]))\n"
      ],
      "execution_count": 140,
      "outputs": [
        {
          "output_type": "stream",
          "text": [
            "len of dataframe 0:  21\n",
            "len of dataframe 1:  38\n",
            "len of dataframe 2:  38\n",
            "len of dataframe 3:  38\n",
            "len of dataframe 4:  38\n",
            "len of dataframe 5:  32\n",
            "len of dataframe 6:  34\n",
            "len of dataframe 7:  38\n",
            "len of dataframe 8:  38\n",
            "len of dataframe 9:  38\n",
            "len of dataframe 10:  38\n",
            "len of dataframe 11:  38\n",
            "len of dataframe 12:  38\n",
            "len of dataframe 13:  38\n",
            "len of dataframe 14:  38\n",
            "len of dataframe 15:  20\n"
          ],
          "name": "stdout"
        }
      ]
    },
    {
      "cell_type": "code",
      "metadata": {
        "id": "-nNiUDgyFJwy",
        "colab_type": "code",
        "colab": {
          "base_uri": "https://localhost:8080/",
          "height": 34
        },
        "outputId": "837d4ba1-6177-47cc-dcea-93337b8a9730"
      },
      "source": [
        "sum = 0\n",
        "for i in range(len(df1)):\n",
        "  sum = sum + len(df1[i])\n",
        "print(sum)"
      ],
      "execution_count": 159,
      "outputs": [
        {
          "output_type": "stream",
          "text": [
            "563\n"
          ],
          "name": "stdout"
        }
      ]
    },
    {
      "cell_type": "code",
      "metadata": {
        "id": "_6Q638ZlGFx2",
        "colab_type": "code",
        "colab": {
          "base_uri": "https://localhost:8080/",
          "height": 34
        },
        "outputId": "6a0e234e-c24a-4a46-af31-432b09506d69"
      },
      "source": [
        "df_phase31 = pd.concat(df1[1:6])\n",
        "len(df_phase31)"
      ],
      "execution_count": 174,
      "outputs": [
        {
          "output_type": "execute_result",
          "data": {
            "text/plain": [
              "184"
            ]
          },
          "metadata": {
            "tags": []
          },
          "execution_count": 174
        }
      ]
    },
    {
      "cell_type": "code",
      "metadata": {
        "id": "-COBzVGSylqd",
        "colab_type": "code",
        "colab": {
          "base_uri": "https://localhost:8080/",
          "height": 34
        },
        "outputId": "fcb2f914-1c9a-4faf-e4fd-89d6ff0cb842"
      },
      "source": [
        "\n",
        "df_phase32 = pd.concat(df1[7:16])\n",
        "len(df_phase32)\n"
      ],
      "execution_count": 175,
      "outputs": [
        {
          "output_type": "execute_result",
          "data": {
            "text/plain": [
              "324"
            ]
          },
          "metadata": {
            "tags": []
          },
          "execution_count": 175
        }
      ]
    },
    {
      "cell_type": "code",
      "metadata": {
        "id": "YZHxOuPu4MjV",
        "colab_type": "code",
        "colab": {}
      },
      "source": [
        "df_phase33 = pd.concat([df1[0],df1[6]])"
      ],
      "execution_count": 0,
      "outputs": []
    },
    {
      "cell_type": "code",
      "metadata": {
        "id": "pHr_X8F632_5",
        "colab_type": "code",
        "colab": {
          "base_uri": "https://localhost:8080/",
          "height": 84
        },
        "outputId": "c4bc422d-9aea-4815-f2f3-3bd26841e4ec"
      },
      "source": [
        "print('len of phase31',len(df_phase31))\n",
        "print('len of phase32',len(df_phase32))\n",
        "print('len of phase33',len(df_phase33))\n",
        "184+324+55"
      ],
      "execution_count": 179,
      "outputs": [
        {
          "output_type": "stream",
          "text": [
            "len of phase31 184\n",
            "len of phase32 324\n",
            "len of phase33 55\n"
          ],
          "name": "stdout"
        },
        {
          "output_type": "execute_result",
          "data": {
            "text/plain": [
              "563"
            ]
          },
          "metadata": {
            "tags": []
          },
          "execution_count": 179
        }
      ]
    },
    {
      "cell_type": "code",
      "metadata": {
        "id": "FTX3dXYwvVlp",
        "colab_type": "code",
        "colab": {
          "base_uri": "https://localhost:8080/",
          "height": 84
        },
        "outputId": "ce59cce2-ff05-4bf5-d44e-32e0fe54380f"
      },
      "source": [
        "df_phase31.columns"
      ],
      "execution_count": 180,
      "outputs": [
        {
          "output_type": "execute_result",
          "data": {
            "text/plain": [
              "Index(['SNO', 'DEPARTURE\\rDATE', 'FLIGHT', 'DEPARTURE\\rSTATION',\n",
              "       'DEPARTURE\\rTIME', 'ARRIVAL\\rSTATION', 'ARRIVAL\\rTIME',\n",
              "       'ARRIVAL\\rDATE'],\n",
              "      dtype='object')"
            ]
          },
          "metadata": {
            "tags": []
          },
          "execution_count": 180
        }
      ]
    },
    {
      "cell_type": "code",
      "metadata": {
        "id": "XrHiOM8P5KVb",
        "colab_type": "code",
        "colab": {
          "base_uri": "https://localhost:8080/",
          "height": 34
        },
        "outputId": "eb91a7ca-4045-4044-efad-72e69744d6a9"
      },
      "source": [
        "# df_phase3 is the final dataframe containing all the data\n",
        "df_phase3= pd.concat([df_phase31,df_phase32])\n",
        "len(df_phase3)"
      ],
      "execution_count": 181,
      "outputs": [
        {
          "output_type": "execute_result",
          "data": {
            "text/plain": [
              "508"
            ]
          },
          "metadata": {
            "tags": []
          },
          "execution_count": 181
        }
      ]
    },
    {
      "cell_type": "code",
      "metadata": {
        "id": "R_PEjOsR7-Jk",
        "colab_type": "code",
        "colab": {
          "base_uri": "https://localhost:8080/",
          "height": 84
        },
        "outputId": "fe4b8272-6f91-4cce-eab2-c463e56e4bf6"
      },
      "source": [
        "df_phase3.columns"
      ],
      "execution_count": 182,
      "outputs": [
        {
          "output_type": "execute_result",
          "data": {
            "text/plain": [
              "Index(['SNO', 'DEPARTURE\\rDATE', 'FLIGHT', 'DEPARTURE\\rSTATION',\n",
              "       'DEPARTURE\\rTIME', 'ARRIVAL\\rSTATION', 'ARRIVAL\\rTIME',\n",
              "       'ARRIVAL\\rDATE'],\n",
              "      dtype='object')"
            ]
          },
          "metadata": {
            "tags": []
          },
          "execution_count": 182
        }
      ]
    },
    {
      "cell_type": "code",
      "metadata": {
        "id": "uaCP4TN76wdN",
        "colab_type": "code",
        "colab": {
          "base_uri": "https://localhost:8080/",
          "height": 67
        },
        "outputId": "743be101-2746-4786-8db9-40dc3b774fa7"
      },
      "source": [
        "df_phase33.columns"
      ],
      "execution_count": 183,
      "outputs": [
        {
          "output_type": "execute_result",
          "data": {
            "text/plain": [
              "Index(['Unnamed: 0', 'DEPARTURE', 'Unnamed: 1', 'DEPARTURE.1', 'DEPARTURE.2',\n",
              "       'ARRIVAL', 'ARRIVAL.1', 'ARRIVAL.2'],\n",
              "      dtype='object')"
            ]
          },
          "metadata": {
            "tags": []
          },
          "execution_count": 183
        }
      ]
    },
    {
      "cell_type": "code",
      "metadata": {
        "colab_type": "code",
        "id": "7QqI38xGxiAU",
        "colab": {
          "base_uri": "https://localhost:8080/",
          "height": 136
        },
        "outputId": "46925dc0-c258-4345-8eef-4a7b0870e378"
      },
      "source": [
        "df_phase3.head(3)"
      ],
      "execution_count": 184,
      "outputs": [
        {
          "output_type": "execute_result",
          "data": {
            "text/html": [
              "<div>\n",
              "<style scoped>\n",
              "    .dataframe tbody tr th:only-of-type {\n",
              "        vertical-align: middle;\n",
              "    }\n",
              "\n",
              "    .dataframe tbody tr th {\n",
              "        vertical-align: top;\n",
              "    }\n",
              "\n",
              "    .dataframe thead th {\n",
              "        text-align: right;\n",
              "    }\n",
              "</style>\n",
              "<table border=\"1\" class=\"dataframe\">\n",
              "  <thead>\n",
              "    <tr style=\"text-align: right;\">\n",
              "      <th></th>\n",
              "      <th>SNO</th>\n",
              "      <th>DEPARTURE\\rDATE</th>\n",
              "      <th>FLIGHT</th>\n",
              "      <th>DEPARTURE\\rSTATION</th>\n",
              "      <th>DEPARTURE\\rTIME</th>\n",
              "      <th>ARRIVAL\\rSTATION</th>\n",
              "      <th>ARRIVAL\\rTIME</th>\n",
              "      <th>ARRIVAL\\rDATE</th>\n",
              "    </tr>\n",
              "  </thead>\n",
              "  <tbody>\n",
              "    <tr>\n",
              "      <th>0</th>\n",
              "      <td>20</td>\n",
              "      <td>13-Jun-20</td>\n",
              "      <td>AI  0127</td>\n",
              "      <td>DELHI</td>\n",
              "      <td>02:20</td>\n",
              "      <td>CHICAGO</td>\n",
              "      <td>07:25</td>\n",
              "      <td>13-Jun-20</td>\n",
              "    </tr>\n",
              "    <tr>\n",
              "      <th>1</th>\n",
              "      <td>21</td>\n",
              "      <td>13-Jun-20</td>\n",
              "      <td>AI 1905</td>\n",
              "      <td>MUMBAI</td>\n",
              "      <td>06:30</td>\n",
              "      <td>LAGOS</td>\n",
              "      <td>11:50</td>\n",
              "      <td>13-Jun-20</td>\n",
              "    </tr>\n",
              "    <tr>\n",
              "      <th>2</th>\n",
              "      <td>22</td>\n",
              "      <td>13-Jun-20</td>\n",
              "      <td>AI  0921</td>\n",
              "      <td>MUMBAI</td>\n",
              "      <td>07:45</td>\n",
              "      <td>RIYADH</td>\n",
              "      <td>09:45</td>\n",
              "      <td>13-Jun-20</td>\n",
              "    </tr>\n",
              "  </tbody>\n",
              "</table>\n",
              "</div>"
            ],
            "text/plain": [
              "   SNO DEPARTURE\\rDATE    FLIGHT DEPARTURE\\rSTATION DEPARTURE\\rTIME  \\\n",
              "0   20       13-Jun-20  AI  0127              DELHI           02:20   \n",
              "1   21       13-Jun-20   AI 1905             MUMBAI           06:30   \n",
              "2   22       13-Jun-20  AI  0921             MUMBAI           07:45   \n",
              "\n",
              "  ARRIVAL\\rSTATION ARRIVAL\\rTIME ARRIVAL\\rDATE  \n",
              "0          CHICAGO         07:25     13-Jun-20  \n",
              "1            LAGOS         11:50     13-Jun-20  \n",
              "2           RIYADH         09:45     13-Jun-20  "
            ]
          },
          "metadata": {
            "tags": []
          },
          "execution_count": 184
        }
      ]
    },
    {
      "cell_type": "code",
      "metadata": {
        "colab_type": "code",
        "id": "9U_5MXQpxxF-",
        "outputId": "53d42bd5-b093-45b7-8cd5-c68444dfd5e1",
        "colab": {
          "base_uri": "https://localhost:8080/",
          "height": 136
        }
      },
      "source": [
        "df_phase33.head(3)"
      ],
      "execution_count": 114,
      "outputs": [
        {
          "output_type": "execute_result",
          "data": {
            "text/html": [
              "<div>\n",
              "<style scoped>\n",
              "    .dataframe tbody tr th:only-of-type {\n",
              "        vertical-align: middle;\n",
              "    }\n",
              "\n",
              "    .dataframe tbody tr th {\n",
              "        vertical-align: top;\n",
              "    }\n",
              "\n",
              "    .dataframe thead th {\n",
              "        text-align: right;\n",
              "    }\n",
              "</style>\n",
              "<table border=\"1\" class=\"dataframe\">\n",
              "  <thead>\n",
              "    <tr style=\"text-align: right;\">\n",
              "      <th></th>\n",
              "      <th>Unnamed: 0</th>\n",
              "      <th>DEPARTURE</th>\n",
              "      <th>Unnamed: 1</th>\n",
              "      <th>DEPARTURE.1</th>\n",
              "      <th>DEPARTURE.2</th>\n",
              "      <th>ARRIVAL</th>\n",
              "      <th>ARRIVAL.1</th>\n",
              "      <th>ARRIVAL.2</th>\n",
              "    </tr>\n",
              "  </thead>\n",
              "  <tbody>\n",
              "    <tr>\n",
              "      <th>0</th>\n",
              "      <td>SNO</td>\n",
              "      <td>NaN</td>\n",
              "      <td>FLIGHT</td>\n",
              "      <td>NaN</td>\n",
              "      <td>NaN</td>\n",
              "      <td>NaN</td>\n",
              "      <td>NaN</td>\n",
              "      <td>NaN</td>\n",
              "    </tr>\n",
              "    <tr>\n",
              "      <th>1</th>\n",
              "      <td>NaN</td>\n",
              "      <td>DATE</td>\n",
              "      <td>NaN</td>\n",
              "      <td>STATION</td>\n",
              "      <td>TIME</td>\n",
              "      <td>STATION</td>\n",
              "      <td>TIME</td>\n",
              "      <td>DATE</td>\n",
              "    </tr>\n",
              "    <tr>\n",
              "      <th>2</th>\n",
              "      <td>1</td>\n",
              "      <td>10-Jun-20</td>\n",
              "      <td>AI  0931</td>\n",
              "      <td>MUMBAI</td>\n",
              "      <td>06:25</td>\n",
              "      <td>JEDDAH</td>\n",
              "      <td>09:00</td>\n",
              "      <td>10-Jun-20</td>\n",
              "    </tr>\n",
              "  </tbody>\n",
              "</table>\n",
              "</div>"
            ],
            "text/plain": [
              "  Unnamed: 0  DEPARTURE Unnamed: 1 DEPARTURE.1 DEPARTURE.2  ARRIVAL ARRIVAL.1  \\\n",
              "0        SNO        NaN     FLIGHT         NaN         NaN      NaN       NaN   \n",
              "1        NaN       DATE        NaN     STATION        TIME  STATION      TIME   \n",
              "2          1  10-Jun-20   AI  0931      MUMBAI       06:25   JEDDAH     09:00   \n",
              "\n",
              "   ARRIVAL.2  \n",
              "0        NaN  \n",
              "1       DATE  \n",
              "2  10-Jun-20  "
            ]
          },
          "metadata": {
            "tags": []
          },
          "execution_count": 114
        }
      ]
    },
    {
      "cell_type": "code",
      "metadata": {
        "colab_type": "code",
        "id": "dC9UOhZXz5jH",
        "colab": {}
      },
      "source": [
        "# Renaming the columns in order to maintain uniformity\n",
        "df_phase3.rename(columns={'DEPARTURE\\rDATE':'DEP_DT',\n",
        "                          'DEPARTURE\\rSTATION':'DEP',\n",
        "                          'DEPARTURE\\rTIME':'DEP_TIME',\n",
        "                          'ARRIVAL\\rSTATION':'ARR',\n",
        "                          'ARRIVAL\\rTIME':'ARR_TIME',\n",
        "                          'ARRIVAL\\rDATE':'ARR_DT'},inplace=True)\n",
        "\n",
        "df_phase33.rename(columns={'Unnamed: 0':'SNO',\n",
        "                          'DEPARTURE':'DEP_DT',\n",
        "                           'Unnamed: 1':'FLIGHT',\n",
        "                          'DEPARTURE.1':'DEP',\n",
        "                          'DEPARTURE.2':'DEP_TIME',\n",
        "                          'ARRIVAL':'ARR',\n",
        "                          'ARRIVAL.1':'ARR_TIME',\n",
        "                          'ARRIVAL.2':'ARR_DT'},inplace=True)"
      ],
      "execution_count": 0,
      "outputs": []
    },
    {
      "cell_type": "code",
      "metadata": {
        "colab_type": "code",
        "id": "ERvFeqbO0K5z",
        "colab": {
          "base_uri": "https://localhost:8080/",
          "height": 136
        },
        "outputId": "00b7c081-3487-4f6c-93ee-066411644868"
      },
      "source": [
        "df_phase3.head(3)"
      ],
      "execution_count": 186,
      "outputs": [
        {
          "output_type": "execute_result",
          "data": {
            "text/html": [
              "<div>\n",
              "<style scoped>\n",
              "    .dataframe tbody tr th:only-of-type {\n",
              "        vertical-align: middle;\n",
              "    }\n",
              "\n",
              "    .dataframe tbody tr th {\n",
              "        vertical-align: top;\n",
              "    }\n",
              "\n",
              "    .dataframe thead th {\n",
              "        text-align: right;\n",
              "    }\n",
              "</style>\n",
              "<table border=\"1\" class=\"dataframe\">\n",
              "  <thead>\n",
              "    <tr style=\"text-align: right;\">\n",
              "      <th></th>\n",
              "      <th>SNO</th>\n",
              "      <th>DEP_DT</th>\n",
              "      <th>FLIGHT</th>\n",
              "      <th>DEP</th>\n",
              "      <th>DEP_TIME</th>\n",
              "      <th>ARR</th>\n",
              "      <th>ARR_TIME</th>\n",
              "      <th>ARR_DT</th>\n",
              "    </tr>\n",
              "  </thead>\n",
              "  <tbody>\n",
              "    <tr>\n",
              "      <th>0</th>\n",
              "      <td>20</td>\n",
              "      <td>13-Jun-20</td>\n",
              "      <td>AI  0127</td>\n",
              "      <td>DELHI</td>\n",
              "      <td>02:20</td>\n",
              "      <td>CHICAGO</td>\n",
              "      <td>07:25</td>\n",
              "      <td>13-Jun-20</td>\n",
              "    </tr>\n",
              "    <tr>\n",
              "      <th>1</th>\n",
              "      <td>21</td>\n",
              "      <td>13-Jun-20</td>\n",
              "      <td>AI 1905</td>\n",
              "      <td>MUMBAI</td>\n",
              "      <td>06:30</td>\n",
              "      <td>LAGOS</td>\n",
              "      <td>11:50</td>\n",
              "      <td>13-Jun-20</td>\n",
              "    </tr>\n",
              "    <tr>\n",
              "      <th>2</th>\n",
              "      <td>22</td>\n",
              "      <td>13-Jun-20</td>\n",
              "      <td>AI  0921</td>\n",
              "      <td>MUMBAI</td>\n",
              "      <td>07:45</td>\n",
              "      <td>RIYADH</td>\n",
              "      <td>09:45</td>\n",
              "      <td>13-Jun-20</td>\n",
              "    </tr>\n",
              "  </tbody>\n",
              "</table>\n",
              "</div>"
            ],
            "text/plain": [
              "   SNO     DEP_DT    FLIGHT     DEP DEP_TIME      ARR ARR_TIME     ARR_DT\n",
              "0   20  13-Jun-20  AI  0127   DELHI    02:20  CHICAGO    07:25  13-Jun-20\n",
              "1   21  13-Jun-20   AI 1905  MUMBAI    06:30    LAGOS    11:50  13-Jun-20\n",
              "2   22  13-Jun-20  AI  0921  MUMBAI    07:45   RIYADH    09:45  13-Jun-20"
            ]
          },
          "metadata": {
            "tags": []
          },
          "execution_count": 186
        }
      ]
    },
    {
      "cell_type": "code",
      "metadata": {
        "colab_type": "code",
        "id": "MxmoUlwE0OkT",
        "outputId": "a0045dbc-51c3-4b96-862b-478d03387fd2",
        "colab": {
          "base_uri": "https://localhost:8080/",
          "height": 136
        }
      },
      "source": [
        "df_phase33.head(3)"
      ],
      "execution_count": 187,
      "outputs": [
        {
          "output_type": "execute_result",
          "data": {
            "text/html": [
              "<div>\n",
              "<style scoped>\n",
              "    .dataframe tbody tr th:only-of-type {\n",
              "        vertical-align: middle;\n",
              "    }\n",
              "\n",
              "    .dataframe tbody tr th {\n",
              "        vertical-align: top;\n",
              "    }\n",
              "\n",
              "    .dataframe thead th {\n",
              "        text-align: right;\n",
              "    }\n",
              "</style>\n",
              "<table border=\"1\" class=\"dataframe\">\n",
              "  <thead>\n",
              "    <tr style=\"text-align: right;\">\n",
              "      <th></th>\n",
              "      <th>SNO</th>\n",
              "      <th>DEP_DT</th>\n",
              "      <th>FLIGHT</th>\n",
              "      <th>DEP</th>\n",
              "      <th>DEP_TIME</th>\n",
              "      <th>ARR</th>\n",
              "      <th>ARR_TIME</th>\n",
              "      <th>ARR_DT</th>\n",
              "    </tr>\n",
              "  </thead>\n",
              "  <tbody>\n",
              "    <tr>\n",
              "      <th>0</th>\n",
              "      <td>SNO</td>\n",
              "      <td>NaN</td>\n",
              "      <td>FLIGHT</td>\n",
              "      <td>NaN</td>\n",
              "      <td>NaN</td>\n",
              "      <td>NaN</td>\n",
              "      <td>NaN</td>\n",
              "      <td>NaN</td>\n",
              "    </tr>\n",
              "    <tr>\n",
              "      <th>1</th>\n",
              "      <td>NaN</td>\n",
              "      <td>DATE</td>\n",
              "      <td>NaN</td>\n",
              "      <td>STATION</td>\n",
              "      <td>TIME</td>\n",
              "      <td>STATION</td>\n",
              "      <td>TIME</td>\n",
              "      <td>DATE</td>\n",
              "    </tr>\n",
              "    <tr>\n",
              "      <th>2</th>\n",
              "      <td>1</td>\n",
              "      <td>10-Jun-20</td>\n",
              "      <td>AI  0931</td>\n",
              "      <td>MUMBAI</td>\n",
              "      <td>06:25</td>\n",
              "      <td>JEDDAH</td>\n",
              "      <td>09:00</td>\n",
              "      <td>10-Jun-20</td>\n",
              "    </tr>\n",
              "  </tbody>\n",
              "</table>\n",
              "</div>"
            ],
            "text/plain": [
              "   SNO     DEP_DT    FLIGHT      DEP DEP_TIME      ARR ARR_TIME     ARR_DT\n",
              "0  SNO        NaN    FLIGHT      NaN      NaN      NaN      NaN        NaN\n",
              "1  NaN       DATE       NaN  STATION     TIME  STATION     TIME       DATE\n",
              "2    1  10-Jun-20  AI  0931   MUMBAI    06:25   JEDDAH    09:00  10-Jun-20"
            ]
          },
          "metadata": {
            "tags": []
          },
          "execution_count": 187
        }
      ]
    },
    {
      "cell_type": "code",
      "metadata": {
        "id": "9l8ej3ZNI3OO",
        "colab_type": "code",
        "colab": {
          "base_uri": "https://localhost:8080/",
          "height": 34
        },
        "outputId": "b8acc5d2-b117-4785-938f-1a8fc767bc29"
      },
      "source": [
        "len(df_phase3)+ len(df_phase33)"
      ],
      "execution_count": 189,
      "outputs": [
        {
          "output_type": "execute_result",
          "data": {
            "text/plain": [
              "563"
            ]
          },
          "metadata": {
            "tags": []
          },
          "execution_count": 189
        }
      ]
    },
    {
      "cell_type": "code",
      "metadata": {
        "id": "CGX7cP08JDWX",
        "colab_type": "code",
        "colab": {
          "base_uri": "https://localhost:8080/",
          "height": 1000
        },
        "outputId": "0838faa2-f226-483e-a928-da617bbc6a51"
      },
      "source": [
        "df_phase33"
      ],
      "execution_count": 190,
      "outputs": [
        {
          "output_type": "execute_result",
          "data": {
            "text/html": [
              "<div>\n",
              "<style scoped>\n",
              "    .dataframe tbody tr th:only-of-type {\n",
              "        vertical-align: middle;\n",
              "    }\n",
              "\n",
              "    .dataframe tbody tr th {\n",
              "        vertical-align: top;\n",
              "    }\n",
              "\n",
              "    .dataframe thead th {\n",
              "        text-align: right;\n",
              "    }\n",
              "</style>\n",
              "<table border=\"1\" class=\"dataframe\">\n",
              "  <thead>\n",
              "    <tr style=\"text-align: right;\">\n",
              "      <th></th>\n",
              "      <th>SNO</th>\n",
              "      <th>DEP_DT</th>\n",
              "      <th>FLIGHT</th>\n",
              "      <th>DEP</th>\n",
              "      <th>DEP_TIME</th>\n",
              "      <th>ARR</th>\n",
              "      <th>ARR_TIME</th>\n",
              "      <th>ARR_DT</th>\n",
              "    </tr>\n",
              "  </thead>\n",
              "  <tbody>\n",
              "    <tr>\n",
              "      <th>0</th>\n",
              "      <td>SNO</td>\n",
              "      <td>NaN</td>\n",
              "      <td>FLIGHT</td>\n",
              "      <td>NaN</td>\n",
              "      <td>NaN</td>\n",
              "      <td>NaN</td>\n",
              "      <td>NaN</td>\n",
              "      <td>NaN</td>\n",
              "    </tr>\n",
              "    <tr>\n",
              "      <th>1</th>\n",
              "      <td>NaN</td>\n",
              "      <td>DATE</td>\n",
              "      <td>NaN</td>\n",
              "      <td>STATION</td>\n",
              "      <td>TIME</td>\n",
              "      <td>STATION</td>\n",
              "      <td>TIME</td>\n",
              "      <td>DATE</td>\n",
              "    </tr>\n",
              "    <tr>\n",
              "      <th>2</th>\n",
              "      <td>1</td>\n",
              "      <td>10-Jun-20</td>\n",
              "      <td>AI  0931</td>\n",
              "      <td>MUMBAI</td>\n",
              "      <td>06:25</td>\n",
              "      <td>JEDDAH</td>\n",
              "      <td>09:00</td>\n",
              "      <td>10-Jun-20</td>\n",
              "    </tr>\n",
              "    <tr>\n",
              "      <th>3</th>\n",
              "      <td>2</td>\n",
              "      <td>10-Jun-20</td>\n",
              "      <td>AI  1929</td>\n",
              "      <td>MUMBAI</td>\n",
              "      <td>07:45</td>\n",
              "      <td>DAMMAM</td>\n",
              "      <td>09:00</td>\n",
              "      <td>10-Jun-20</td>\n",
              "    </tr>\n",
              "    <tr>\n",
              "      <th>4</th>\n",
              "      <td>3</td>\n",
              "      <td>10-Jun-20</td>\n",
              "      <td>AI  1953</td>\n",
              "      <td>BANGALURU</td>\n",
              "      <td>08:00</td>\n",
              "      <td>RIYADH</td>\n",
              "      <td>10:20</td>\n",
              "      <td>10-Jun-20</td>\n",
              "    </tr>\n",
              "    <tr>\n",
              "      <th>5</th>\n",
              "      <td>4</td>\n",
              "      <td>10-Jun-20</td>\n",
              "      <td>AI  1957</td>\n",
              "      <td>DELHI</td>\n",
              "      <td>10:00</td>\n",
              "      <td>RIYADH</td>\n",
              "      <td>12:30</td>\n",
              "      <td>10-Jun-20</td>\n",
              "    </tr>\n",
              "    <tr>\n",
              "      <th>6</th>\n",
              "      <td>5</td>\n",
              "      <td>11-Jun-20</td>\n",
              "      <td>AI  0127</td>\n",
              "      <td>DELHI</td>\n",
              "      <td>02:20</td>\n",
              "      <td>CHICAGO</td>\n",
              "      <td>07:25</td>\n",
              "      <td>11-Jun-20</td>\n",
              "    </tr>\n",
              "    <tr>\n",
              "      <th>7</th>\n",
              "      <td>6</td>\n",
              "      <td>11-Jun-20</td>\n",
              "      <td>AI  0921</td>\n",
              "      <td>MUMBAI</td>\n",
              "      <td>07:45</td>\n",
              "      <td>RIYADH</td>\n",
              "      <td>09:45</td>\n",
              "      <td>11-Jun-20</td>\n",
              "    </tr>\n",
              "    <tr>\n",
              "      <th>8</th>\n",
              "      <td>7</td>\n",
              "      <td>11-Jun-20</td>\n",
              "      <td>AI  1947</td>\n",
              "      <td>BANGALURU</td>\n",
              "      <td>08:00</td>\n",
              "      <td>JEDDAH</td>\n",
              "      <td>11:15</td>\n",
              "      <td>11-Jun-20</td>\n",
              "    </tr>\n",
              "    <tr>\n",
              "      <th>9</th>\n",
              "      <td>8</td>\n",
              "      <td>11-Jun-20</td>\n",
              "      <td>AI  1937</td>\n",
              "      <td>MUMBAI</td>\n",
              "      <td>08:45</td>\n",
              "      <td>DAMMAM</td>\n",
              "      <td>10:00</td>\n",
              "      <td>11-Jun-20</td>\n",
              "    </tr>\n",
              "    <tr>\n",
              "      <th>10</th>\n",
              "      <td>9</td>\n",
              "      <td>11-Jun-20</td>\n",
              "      <td>AI  0995</td>\n",
              "      <td>DELHI</td>\n",
              "      <td>09:00</td>\n",
              "      <td>DUBAI</td>\n",
              "      <td>11:10</td>\n",
              "      <td>11-Jun-20</td>\n",
              "    </tr>\n",
              "    <tr>\n",
              "      <th>11</th>\n",
              "      <td>10</td>\n",
              "      <td>11-Jun-20</td>\n",
              "      <td>AI  1183</td>\n",
              "      <td>DELHI</td>\n",
              "      <td>13:30</td>\n",
              "      <td>HELSINKI</td>\n",
              "      <td>18:35</td>\n",
              "      <td>11-Jun-20</td>\n",
              "    </tr>\n",
              "    <tr>\n",
              "      <th>12</th>\n",
              "      <td>11</td>\n",
              "      <td>11-Jun-20</td>\n",
              "      <td>AI  0121</td>\n",
              "      <td>DELHI</td>\n",
              "      <td>13:35</td>\n",
              "      <td>FRANKFURT</td>\n",
              "      <td>18:40</td>\n",
              "      <td>11-Jun-20</td>\n",
              "    </tr>\n",
              "    <tr>\n",
              "      <th>13</th>\n",
              "      <td>12</td>\n",
              "      <td>12-Jun-20</td>\n",
              "      <td>AI  0187</td>\n",
              "      <td>DELHI</td>\n",
              "      <td>01:00</td>\n",
              "      <td>TORONTO</td>\n",
              "      <td>06:45</td>\n",
              "      <td>12-Jun-20</td>\n",
              "    </tr>\n",
              "    <tr>\n",
              "      <th>14</th>\n",
              "      <td>13</td>\n",
              "      <td>12-Jun-20</td>\n",
              "      <td>AI  0127</td>\n",
              "      <td>DELHI</td>\n",
              "      <td>02:20</td>\n",
              "      <td>CHICAGO</td>\n",
              "      <td>07:25</td>\n",
              "      <td>12-Jun-20</td>\n",
              "    </tr>\n",
              "    <tr>\n",
              "      <th>15</th>\n",
              "      <td>14</td>\n",
              "      <td>12-Jun-20</td>\n",
              "      <td>AI  0173</td>\n",
              "      <td>DELHI</td>\n",
              "      <td>03:30</td>\n",
              "      <td>SAN FRANCISCO</td>\n",
              "      <td>07:00</td>\n",
              "      <td>12-Jun-20</td>\n",
              "    </tr>\n",
              "    <tr>\n",
              "      <th>16</th>\n",
              "      <td>15</td>\n",
              "      <td>12-Jun-20</td>\n",
              "      <td>AI  1921</td>\n",
              "      <td>DELHI</td>\n",
              "      <td>05:30</td>\n",
              "      <td>LAGOS</td>\n",
              "      <td>11:15</td>\n",
              "      <td>12-Jun-20</td>\n",
              "    </tr>\n",
              "    <tr>\n",
              "      <th>17</th>\n",
              "      <td>16</td>\n",
              "      <td>12-Jun-20</td>\n",
              "      <td>AI  0931</td>\n",
              "      <td>MUMBAI</td>\n",
              "      <td>06:25</td>\n",
              "      <td>JEDDAH</td>\n",
              "      <td>09:00</td>\n",
              "      <td>12-Jun-20</td>\n",
              "    </tr>\n",
              "    <tr>\n",
              "      <th>18</th>\n",
              "      <td>17</td>\n",
              "      <td>12-Jun-20</td>\n",
              "      <td>AI  1943</td>\n",
              "      <td>BANGALURU</td>\n",
              "      <td>08:00</td>\n",
              "      <td>DAMMAM</td>\n",
              "      <td>10:00</td>\n",
              "      <td>12-Jun-20</td>\n",
              "    </tr>\n",
              "    <tr>\n",
              "      <th>19</th>\n",
              "      <td>18</td>\n",
              "      <td>12-Jun-20</td>\n",
              "      <td>AI  1955</td>\n",
              "      <td>HYDERABAD</td>\n",
              "      <td>08:00</td>\n",
              "      <td>RIYADH</td>\n",
              "      <td>10:15</td>\n",
              "      <td>12-Jun-20</td>\n",
              "    </tr>\n",
              "    <tr>\n",
              "      <th>20</th>\n",
              "      <td>19</td>\n",
              "      <td>13-Jun-20</td>\n",
              "      <td>AI  0187</td>\n",
              "      <td>DELHI</td>\n",
              "      <td>01:00</td>\n",
              "      <td>TORONTO</td>\n",
              "      <td>06:45</td>\n",
              "      <td>13-Jun-20</td>\n",
              "    </tr>\n",
              "    <tr>\n",
              "      <th>0</th>\n",
              "      <td>SNO</td>\n",
              "      <td>NaN</td>\n",
              "      <td>FLIGHT</td>\n",
              "      <td>NaN</td>\n",
              "      <td>NaN</td>\n",
              "      <td>NaN</td>\n",
              "      <td>NaN</td>\n",
              "      <td>NaN</td>\n",
              "    </tr>\n",
              "    <tr>\n",
              "      <th>1</th>\n",
              "      <td>NaN</td>\n",
              "      <td>DATE</td>\n",
              "      <td>NaN</td>\n",
              "      <td>STATION</td>\n",
              "      <td>TIME</td>\n",
              "      <td>STATION</td>\n",
              "      <td>TIME</td>\n",
              "      <td>DATE</td>\n",
              "    </tr>\n",
              "    <tr>\n",
              "      <th>2</th>\n",
              "      <td>1</td>\n",
              "      <td>10-Jun-20</td>\n",
              "      <td>AI  1930</td>\n",
              "      <td>DAMMAM</td>\n",
              "      <td>11:30</td>\n",
              "      <td>KANNUR</td>\n",
              "      <td>18:20</td>\n",
              "      <td>10-Jun-20</td>\n",
              "    </tr>\n",
              "    <tr>\n",
              "      <th>3</th>\n",
              "      <td>2</td>\n",
              "      <td>10-Jun-20</td>\n",
              "      <td>AI  1954</td>\n",
              "      <td>RIYADH</td>\n",
              "      <td>11:20</td>\n",
              "      <td>KOZHIKODE</td>\n",
              "      <td>18:45</td>\n",
              "      <td>10-Jun-20</td>\n",
              "    </tr>\n",
              "    <tr>\n",
              "      <th>4</th>\n",
              "      <td>3</td>\n",
              "      <td>10-Jun-20</td>\n",
              "      <td>AI  0964</td>\n",
              "      <td>JEDDAH</td>\n",
              "      <td>11:00</td>\n",
              "      <td>KOCHI</td>\n",
              "      <td>18:50</td>\n",
              "      <td>10-Jun-20</td>\n",
              "    </tr>\n",
              "    <tr>\n",
              "      <th>5</th>\n",
              "      <td>4</td>\n",
              "      <td>10-Jun-20</td>\n",
              "      <td>AI  1958</td>\n",
              "      <td>RIYADH</td>\n",
              "      <td>13:30</td>\n",
              "      <td>DELHI</td>\n",
              "      <td>20:25</td>\n",
              "      <td>10-Jun-20</td>\n",
              "    </tr>\n",
              "    <tr>\n",
              "      <th>6</th>\n",
              "      <td>5</td>\n",
              "      <td>10-Jun-20</td>\n",
              "      <td>AI  1682</td>\n",
              "      <td>KANNUR</td>\n",
              "      <td>19:50</td>\n",
              "      <td>MUMBAI</td>\n",
              "      <td>21:50</td>\n",
              "      <td>10-Jun-20</td>\n",
              "    </tr>\n",
              "    <tr>\n",
              "      <th>7</th>\n",
              "      <td>6</td>\n",
              "      <td>10-Jun-20</td>\n",
              "      <td>AI  1683</td>\n",
              "      <td>KOCHI</td>\n",
              "      <td>20:20</td>\n",
              "      <td>MUMBAI</td>\n",
              "      <td>22:20</td>\n",
              "      <td>10-Jun-20</td>\n",
              "    </tr>\n",
              "    <tr>\n",
              "      <th>8</th>\n",
              "      <td>7</td>\n",
              "      <td>11-Jun-20</td>\n",
              "      <td>AI  1996</td>\n",
              "      <td>DUBAI</td>\n",
              "      <td>12:10</td>\n",
              "      <td>SRINAGAR</td>\n",
              "      <td>17:10</td>\n",
              "      <td>11-Jun-20</td>\n",
              "    </tr>\n",
              "    <tr>\n",
              "      <th>9</th>\n",
              "      <td>8</td>\n",
              "      <td>11-Jun-20</td>\n",
              "      <td>AI  1934</td>\n",
              "      <td>RIYADH</td>\n",
              "      <td>11:00</td>\n",
              "      <td>KANNUR</td>\n",
              "      <td>18:10</td>\n",
              "      <td>11-Jun-20</td>\n",
              "    </tr>\n",
              "    <tr>\n",
              "      <th>10</th>\n",
              "      <td>9</td>\n",
              "      <td>11-Jun-20</td>\n",
              "      <td>AI  1938</td>\n",
              "      <td>DAMMAM</td>\n",
              "      <td>12:00</td>\n",
              "      <td>KOCHI</td>\n",
              "      <td>18:50</td>\n",
              "      <td>11-Jun-20</td>\n",
              "    </tr>\n",
              "    <tr>\n",
              "      <th>11</th>\n",
              "      <td>10</td>\n",
              "      <td>11-Jun-20</td>\n",
              "      <td>AI  1693</td>\n",
              "      <td>SRINAGAR</td>\n",
              "      <td>18:10</td>\n",
              "      <td>DELHI</td>\n",
              "      <td>19:35</td>\n",
              "      <td>11-Jun-20</td>\n",
              "    </tr>\n",
              "    <tr>\n",
              "      <th>12</th>\n",
              "      <td>11</td>\n",
              "      <td>11-Jun-20</td>\n",
              "      <td>AI  1948</td>\n",
              "      <td>JEDDAH</td>\n",
              "      <td>12:15</td>\n",
              "      <td>KOZHIKODE</td>\n",
              "      <td>20:05</td>\n",
              "      <td>11-Jun-20</td>\n",
              "    </tr>\n",
              "    <tr>\n",
              "      <th>13</th>\n",
              "      <td>12</td>\n",
              "      <td>11-Jun-20</td>\n",
              "      <td>AI  1682</td>\n",
              "      <td>KANNUR</td>\n",
              "      <td>19:40</td>\n",
              "      <td>MUMBAI</td>\n",
              "      <td>21:40</td>\n",
              "      <td>11-Jun-20</td>\n",
              "    </tr>\n",
              "    <tr>\n",
              "      <th>14</th>\n",
              "      <td>13</td>\n",
              "      <td>11-Jun-20</td>\n",
              "      <td>AI  1690</td>\n",
              "      <td>KOZHIKODE</td>\n",
              "      <td>21:00</td>\n",
              "      <td>BANGALURU</td>\n",
              "      <td>22:00</td>\n",
              "      <td>11-Jun-20</td>\n",
              "    </tr>\n",
              "    <tr>\n",
              "      <th>15</th>\n",
              "      <td>14</td>\n",
              "      <td>11-Jun-20</td>\n",
              "      <td>AI  1687</td>\n",
              "      <td>KOCHI</td>\n",
              "      <td>20:50</td>\n",
              "      <td>MUMBAI</td>\n",
              "      <td>22:50</td>\n",
              "      <td>11-Jun-20</td>\n",
              "    </tr>\n",
              "    <tr>\n",
              "      <th>16</th>\n",
              "      <td>15</td>\n",
              "      <td>11-Jun-20</td>\n",
              "      <td>AI  0120</td>\n",
              "      <td>FRANKFURT</td>\n",
              "      <td>21:15</td>\n",
              "      <td>DELHI</td>\n",
              "      <td>08:30</td>\n",
              "      <td>12-Jun-20</td>\n",
              "    </tr>\n",
              "    <tr>\n",
              "      <th>17</th>\n",
              "      <td>16</td>\n",
              "      <td>11-Jun-20</td>\n",
              "      <td>AI  0126</td>\n",
              "      <td>CHICAGO</td>\n",
              "      <td>12:00</td>\n",
              "      <td>DELHI</td>\n",
              "      <td>13:05</td>\n",
              "      <td>12-Jun-20</td>\n",
              "    </tr>\n",
              "    <tr>\n",
              "      <th>18</th>\n",
              "      <td>17</td>\n",
              "      <td>12-Jun-20</td>\n",
              "      <td>AI  1944</td>\n",
              "      <td>DAMMAM</td>\n",
              "      <td>11:00</td>\n",
              "      <td>BANGALURU</td>\n",
              "      <td>17:45</td>\n",
              "      <td>12-Jun-20</td>\n",
              "    </tr>\n",
              "    <tr>\n",
              "      <th>19</th>\n",
              "      <td>18</td>\n",
              "      <td>12-Jun-20</td>\n",
              "      <td>AI  1956</td>\n",
              "      <td>RIYADH</td>\n",
              "      <td>11:15</td>\n",
              "      <td>HYDERABAD</td>\n",
              "      <td>18:15</td>\n",
              "      <td>12-Jun-20</td>\n",
              "    </tr>\n",
              "    <tr>\n",
              "      <th>20</th>\n",
              "      <td>19</td>\n",
              "      <td>12-Jun-20</td>\n",
              "      <td>AI  1936</td>\n",
              "      <td>JEDDAH</td>\n",
              "      <td>11:00</td>\n",
              "      <td>TRIVANDRUM</td>\n",
              "      <td>18:50</td>\n",
              "      <td>12-Jun-20</td>\n",
              "    </tr>\n",
              "    <tr>\n",
              "      <th>21</th>\n",
              "      <td>20</td>\n",
              "      <td>12-Jun-20</td>\n",
              "      <td>AI  1684</td>\n",
              "      <td>TRIVANDRUM</td>\n",
              "      <td>20:20</td>\n",
              "      <td>MUMBAI</td>\n",
              "      <td>22:20</td>\n",
              "      <td>12-Jun-20</td>\n",
              "    </tr>\n",
              "    <tr>\n",
              "      <th>22</th>\n",
              "      <td>21</td>\n",
              "      <td>12-Jun-20</td>\n",
              "      <td>AI  1184</td>\n",
              "      <td>HELSINKI</td>\n",
              "      <td>18:00</td>\n",
              "      <td>DELHI</td>\n",
              "      <td>03:45</td>\n",
              "      <td>13-Jun-20</td>\n",
              "    </tr>\n",
              "    <tr>\n",
              "      <th>23</th>\n",
              "      <td>22</td>\n",
              "      <td>12-Jun-20</td>\n",
              "      <td>AI  1922</td>\n",
              "      <td>LAGOS</td>\n",
              "      <td>13:15</td>\n",
              "      <td>DELHI</td>\n",
              "      <td>04:00</td>\n",
              "      <td>13-Jun-20</td>\n",
              "    </tr>\n",
              "    <tr>\n",
              "      <th>24</th>\n",
              "      <td>23</td>\n",
              "      <td>12-Jun-20</td>\n",
              "      <td>AI  0188</td>\n",
              "      <td>TORONTO</td>\n",
              "      <td>12:15</td>\n",
              "      <td>DELHI</td>\n",
              "      <td>12:15</td>\n",
              "      <td>13-Jun-20</td>\n",
              "    </tr>\n",
              "    <tr>\n",
              "      <th>25</th>\n",
              "      <td>24</td>\n",
              "      <td>12-Jun-20</td>\n",
              "      <td>AI  0126</td>\n",
              "      <td>CHICAGO</td>\n",
              "      <td>12:00</td>\n",
              "      <td>DELHI</td>\n",
              "      <td>13:05</td>\n",
              "      <td>13-Jun-20</td>\n",
              "    </tr>\n",
              "    <tr>\n",
              "      <th>26</th>\n",
              "      <td>25</td>\n",
              "      <td>12-Jun-20</td>\n",
              "      <td>AI  0174</td>\n",
              "      <td>SAN FRANCISCO</td>\n",
              "      <td>10:30</td>\n",
              "      <td>DELHI</td>\n",
              "      <td>14:55</td>\n",
              "      <td>13-Jun-20</td>\n",
              "    </tr>\n",
              "    <tr>\n",
              "      <th>27</th>\n",
              "      <td>26</td>\n",
              "      <td>13-Jun-20</td>\n",
              "      <td>AI  0126</td>\n",
              "      <td>DELHI</td>\n",
              "      <td>15:30</td>\n",
              "      <td>HYDERABAD</td>\n",
              "      <td>17:30</td>\n",
              "      <td>13-Jun-20</td>\n",
              "    </tr>\n",
              "    <tr>\n",
              "      <th>28</th>\n",
              "      <td>27</td>\n",
              "      <td>13-Jun-20</td>\n",
              "      <td>AI  1946</td>\n",
              "      <td>DAMMAM</td>\n",
              "      <td>10:50</td>\n",
              "      <td>KOZHIKODE</td>\n",
              "      <td>17:40</td>\n",
              "      <td>13-Jun-20</td>\n",
              "    </tr>\n",
              "    <tr>\n",
              "      <th>29</th>\n",
              "      <td>28</td>\n",
              "      <td>13-Jun-20</td>\n",
              "      <td>AI  1940</td>\n",
              "      <td>RIYADH</td>\n",
              "      <td>11:45</td>\n",
              "      <td>TRIVANDRUM</td>\n",
              "      <td>19:15</td>\n",
              "      <td>13-Jun-20</td>\n",
              "    </tr>\n",
              "    <tr>\n",
              "      <th>30</th>\n",
              "      <td>29</td>\n",
              "      <td>13-Jun-20</td>\n",
              "      <td>AI  1689</td>\n",
              "      <td>KOZHIKODE</td>\n",
              "      <td>18:40</td>\n",
              "      <td>HYDERABAD</td>\n",
              "      <td>19:40</td>\n",
              "      <td>13-Jun-20</td>\n",
              "    </tr>\n",
              "    <tr>\n",
              "      <th>31</th>\n",
              "      <td>30</td>\n",
              "      <td>13-Jun-20</td>\n",
              "      <td>AI  0174</td>\n",
              "      <td>DELHI</td>\n",
              "      <td>17:00</td>\n",
              "      <td>BANGALURU</td>\n",
              "      <td>19:45</td>\n",
              "      <td>13-Jun-20</td>\n",
              "    </tr>\n",
              "    <tr>\n",
              "      <th>32</th>\n",
              "      <td>31</td>\n",
              "      <td>13-Jun-20</td>\n",
              "      <td>AI  1948</td>\n",
              "      <td>JEDDAH</td>\n",
              "      <td>12:15</td>\n",
              "      <td>BANGALURU</td>\n",
              "      <td>20:30</td>\n",
              "      <td>13-Jun-20</td>\n",
              "    </tr>\n",
              "    <tr>\n",
              "      <th>33</th>\n",
              "      <td>32</td>\n",
              "      <td>13-Jun-20</td>\n",
              "      <td>AI  1686</td>\n",
              "      <td>TRIVANDRUM</td>\n",
              "      <td>20:45</td>\n",
              "      <td>MUMBAI</td>\n",
              "      <td>22:45</td>\n",
              "      <td>13-Jun-20</td>\n",
              "    </tr>\n",
              "  </tbody>\n",
              "</table>\n",
              "</div>"
            ],
            "text/plain": [
              "    SNO     DEP_DT    FLIGHT            DEP DEP_TIME            ARR ARR_TIME  \\\n",
              "0   SNO        NaN    FLIGHT            NaN      NaN            NaN      NaN   \n",
              "1   NaN       DATE       NaN        STATION     TIME        STATION     TIME   \n",
              "2     1  10-Jun-20  AI  0931         MUMBAI    06:25         JEDDAH    09:00   \n",
              "3     2  10-Jun-20  AI  1929         MUMBAI    07:45         DAMMAM    09:00   \n",
              "4     3  10-Jun-20  AI  1953      BANGALURU    08:00         RIYADH    10:20   \n",
              "5     4  10-Jun-20  AI  1957          DELHI    10:00         RIYADH    12:30   \n",
              "6     5  11-Jun-20  AI  0127          DELHI    02:20        CHICAGO    07:25   \n",
              "7     6  11-Jun-20  AI  0921         MUMBAI    07:45         RIYADH    09:45   \n",
              "8     7  11-Jun-20  AI  1947      BANGALURU    08:00         JEDDAH    11:15   \n",
              "9     8  11-Jun-20  AI  1937         MUMBAI    08:45         DAMMAM    10:00   \n",
              "10    9  11-Jun-20  AI  0995          DELHI    09:00          DUBAI    11:10   \n",
              "11   10  11-Jun-20  AI  1183          DELHI    13:30       HELSINKI    18:35   \n",
              "12   11  11-Jun-20  AI  0121          DELHI    13:35      FRANKFURT    18:40   \n",
              "13   12  12-Jun-20  AI  0187          DELHI    01:00        TORONTO    06:45   \n",
              "14   13  12-Jun-20  AI  0127          DELHI    02:20        CHICAGO    07:25   \n",
              "15   14  12-Jun-20  AI  0173          DELHI    03:30  SAN FRANCISCO    07:00   \n",
              "16   15  12-Jun-20  AI  1921          DELHI    05:30          LAGOS    11:15   \n",
              "17   16  12-Jun-20  AI  0931         MUMBAI    06:25         JEDDAH    09:00   \n",
              "18   17  12-Jun-20  AI  1943      BANGALURU    08:00         DAMMAM    10:00   \n",
              "19   18  12-Jun-20  AI  1955      HYDERABAD    08:00         RIYADH    10:15   \n",
              "20   19  13-Jun-20  AI  0187          DELHI    01:00        TORONTO    06:45   \n",
              "0   SNO        NaN    FLIGHT            NaN      NaN            NaN      NaN   \n",
              "1   NaN       DATE       NaN        STATION     TIME        STATION     TIME   \n",
              "2     1  10-Jun-20  AI  1930         DAMMAM    11:30         KANNUR    18:20   \n",
              "3     2  10-Jun-20  AI  1954         RIYADH    11:20      KOZHIKODE    18:45   \n",
              "4     3  10-Jun-20  AI  0964         JEDDAH    11:00          KOCHI    18:50   \n",
              "5     4  10-Jun-20  AI  1958         RIYADH    13:30          DELHI    20:25   \n",
              "6     5  10-Jun-20  AI  1682         KANNUR    19:50         MUMBAI    21:50   \n",
              "7     6  10-Jun-20  AI  1683          KOCHI    20:20         MUMBAI    22:20   \n",
              "8     7  11-Jun-20  AI  1996          DUBAI    12:10       SRINAGAR    17:10   \n",
              "9     8  11-Jun-20  AI  1934         RIYADH    11:00         KANNUR    18:10   \n",
              "10    9  11-Jun-20  AI  1938         DAMMAM    12:00          KOCHI    18:50   \n",
              "11   10  11-Jun-20  AI  1693       SRINAGAR    18:10          DELHI    19:35   \n",
              "12   11  11-Jun-20  AI  1948         JEDDAH    12:15      KOZHIKODE    20:05   \n",
              "13   12  11-Jun-20  AI  1682         KANNUR    19:40         MUMBAI    21:40   \n",
              "14   13  11-Jun-20  AI  1690      KOZHIKODE    21:00      BANGALURU    22:00   \n",
              "15   14  11-Jun-20  AI  1687          KOCHI    20:50         MUMBAI    22:50   \n",
              "16   15  11-Jun-20  AI  0120      FRANKFURT    21:15          DELHI    08:30   \n",
              "17   16  11-Jun-20  AI  0126        CHICAGO    12:00          DELHI    13:05   \n",
              "18   17  12-Jun-20  AI  1944         DAMMAM    11:00      BANGALURU    17:45   \n",
              "19   18  12-Jun-20  AI  1956         RIYADH    11:15      HYDERABAD    18:15   \n",
              "20   19  12-Jun-20  AI  1936         JEDDAH    11:00     TRIVANDRUM    18:50   \n",
              "21   20  12-Jun-20  AI  1684     TRIVANDRUM    20:20         MUMBAI    22:20   \n",
              "22   21  12-Jun-20  AI  1184       HELSINKI    18:00          DELHI    03:45   \n",
              "23   22  12-Jun-20  AI  1922          LAGOS    13:15          DELHI    04:00   \n",
              "24   23  12-Jun-20  AI  0188        TORONTO    12:15          DELHI    12:15   \n",
              "25   24  12-Jun-20  AI  0126        CHICAGO    12:00          DELHI    13:05   \n",
              "26   25  12-Jun-20  AI  0174  SAN FRANCISCO    10:30          DELHI    14:55   \n",
              "27   26  13-Jun-20  AI  0126          DELHI    15:30      HYDERABAD    17:30   \n",
              "28   27  13-Jun-20  AI  1946         DAMMAM    10:50      KOZHIKODE    17:40   \n",
              "29   28  13-Jun-20  AI  1940         RIYADH    11:45     TRIVANDRUM    19:15   \n",
              "30   29  13-Jun-20  AI  1689      KOZHIKODE    18:40      HYDERABAD    19:40   \n",
              "31   30  13-Jun-20  AI  0174          DELHI    17:00      BANGALURU    19:45   \n",
              "32   31  13-Jun-20  AI  1948         JEDDAH    12:15      BANGALURU    20:30   \n",
              "33   32  13-Jun-20  AI  1686     TRIVANDRUM    20:45         MUMBAI    22:45   \n",
              "\n",
              "       ARR_DT  \n",
              "0         NaN  \n",
              "1        DATE  \n",
              "2   10-Jun-20  \n",
              "3   10-Jun-20  \n",
              "4   10-Jun-20  \n",
              "5   10-Jun-20  \n",
              "6   11-Jun-20  \n",
              "7   11-Jun-20  \n",
              "8   11-Jun-20  \n",
              "9   11-Jun-20  \n",
              "10  11-Jun-20  \n",
              "11  11-Jun-20  \n",
              "12  11-Jun-20  \n",
              "13  12-Jun-20  \n",
              "14  12-Jun-20  \n",
              "15  12-Jun-20  \n",
              "16  12-Jun-20  \n",
              "17  12-Jun-20  \n",
              "18  12-Jun-20  \n",
              "19  12-Jun-20  \n",
              "20  13-Jun-20  \n",
              "0         NaN  \n",
              "1        DATE  \n",
              "2   10-Jun-20  \n",
              "3   10-Jun-20  \n",
              "4   10-Jun-20  \n",
              "5   10-Jun-20  \n",
              "6   10-Jun-20  \n",
              "7   10-Jun-20  \n",
              "8   11-Jun-20  \n",
              "9   11-Jun-20  \n",
              "10  11-Jun-20  \n",
              "11  11-Jun-20  \n",
              "12  11-Jun-20  \n",
              "13  11-Jun-20  \n",
              "14  11-Jun-20  \n",
              "15  11-Jun-20  \n",
              "16  12-Jun-20  \n",
              "17  12-Jun-20  \n",
              "18  12-Jun-20  \n",
              "19  12-Jun-20  \n",
              "20  12-Jun-20  \n",
              "21  12-Jun-20  \n",
              "22  13-Jun-20  \n",
              "23  13-Jun-20  \n",
              "24  13-Jun-20  \n",
              "25  13-Jun-20  \n",
              "26  13-Jun-20  \n",
              "27  13-Jun-20  \n",
              "28  13-Jun-20  \n",
              "29  13-Jun-20  \n",
              "30  13-Jun-20  \n",
              "31  13-Jun-20  \n",
              "32  13-Jun-20  \n",
              "33  13-Jun-20  "
            ]
          },
          "metadata": {
            "tags": []
          },
          "execution_count": 190
        }
      ]
    },
    {
      "cell_type": "code",
      "metadata": {
        "colab_type": "code",
        "id": "T74tpw060h-z",
        "colab": {}
      },
      "source": [
        "#dropping unwanted rows from df_phase33\n",
        "df_phase33.drop(index=[0,1],inplace=True)"
      ],
      "execution_count": 0,
      "outputs": []
    },
    {
      "cell_type": "code",
      "metadata": {
        "colab_type": "code",
        "id": "diFF8DJl0vaT",
        "colab": {}
      },
      "source": [
        "#Concatenating the final dataframe\n",
        "df_phase3 = pd.concat([df_phase33,df_phase3])"
      ],
      "execution_count": 0,
      "outputs": []
    },
    {
      "cell_type": "code",
      "metadata": {
        "colab_type": "code",
        "id": "HDxak06U00Db",
        "outputId": "30bc5754-b0ae-4cc5-dcc0-f326a9005d01",
        "colab": {
          "base_uri": "https://localhost:8080/",
          "height": 34
        }
      },
      "source": [
        "len(df_phase3)"
      ],
      "execution_count": 193,
      "outputs": [
        {
          "output_type": "execute_result",
          "data": {
            "text/plain": [
              "559"
            ]
          },
          "metadata": {
            "tags": []
          },
          "execution_count": 193
        }
      ]
    },
    {
      "cell_type": "code",
      "metadata": {
        "colab_type": "code",
        "id": "XNWFURoM1RN7",
        "colab": {}
      },
      "source": [
        "df_phase3['id'] = pd.Index(range(1,len(df_phase3)+1))"
      ],
      "execution_count": 0,
      "outputs": []
    },
    {
      "cell_type": "code",
      "metadata": {
        "id": "_3E3tFrDKJpb",
        "colab_type": "code",
        "colab": {}
      },
      "source": [
        "df_phase3.set_index('id',inplace=True)"
      ],
      "execution_count": 0,
      "outputs": []
    },
    {
      "cell_type": "code",
      "metadata": {
        "colab_type": "code",
        "id": "4qQKJiGe1eiy",
        "colab": {}
      },
      "source": [
        "df_phase3.drop(columns='SNO',inplace=True)"
      ],
      "execution_count": 0,
      "outputs": []
    },
    {
      "cell_type": "code",
      "metadata": {
        "colab_type": "code",
        "id": "CvjQiHgU1g2q",
        "outputId": "0a64c812-883c-483f-96c7-b89e53a231c4",
        "colab": {
          "base_uri": "https://localhost:8080/",
          "height": 195
        }
      },
      "source": [
        "df2.head()"
      ],
      "execution_count": 0,
      "outputs": [
        {
          "output_type": "execute_result",
          "data": {
            "text/html": [
              "<div>\n",
              "<style scoped>\n",
              "    .dataframe tbody tr th:only-of-type {\n",
              "        vertical-align: middle;\n",
              "    }\n",
              "\n",
              "    .dataframe tbody tr th {\n",
              "        vertical-align: top;\n",
              "    }\n",
              "\n",
              "    .dataframe thead th {\n",
              "        text-align: right;\n",
              "    }\n",
              "</style>\n",
              "<table border=\"1\" class=\"dataframe\">\n",
              "  <thead>\n",
              "    <tr style=\"text-align: right;\">\n",
              "      <th></th>\n",
              "      <th>DATE</th>\n",
              "      <th>FLIGHT</th>\n",
              "      <th>DEPARTURE\\rSTATION</th>\n",
              "      <th>ARRIVAL\\rSTATION</th>\n",
              "      <th>DEPARTURE\\rTIME</th>\n",
              "    </tr>\n",
              "  </thead>\n",
              "  <tbody>\n",
              "    <tr>\n",
              "      <th>0</th>\n",
              "      <td>20-May-20</td>\n",
              "      <td>AI  1213</td>\n",
              "      <td>DELHI</td>\n",
              "      <td>KATHMANDU</td>\n",
              "      <td>9:25</td>\n",
              "    </tr>\n",
              "    <tr>\n",
              "      <th>1</th>\n",
              "      <td>20-May-20</td>\n",
              "      <td>AI  1909</td>\n",
              "      <td>HYDERABAD</td>\n",
              "      <td>DAMMAM</td>\n",
              "      <td>9:30</td>\n",
              "    </tr>\n",
              "    <tr>\n",
              "      <th>2</th>\n",
              "      <td>20-May-20</td>\n",
              "      <td>AI  1913</td>\n",
              "      <td>HYDERABAD</td>\n",
              "      <td>JEDDAH</td>\n",
              "      <td>9:30</td>\n",
              "    </tr>\n",
              "    <tr>\n",
              "      <th>3</th>\n",
              "      <td>20-May-20</td>\n",
              "      <td>AI  0308</td>\n",
              "      <td>DELHI</td>\n",
              "      <td>MELBOURNE</td>\n",
              "      <td>12:50</td>\n",
              "    </tr>\n",
              "    <tr>\n",
              "      <th>4</th>\n",
              "      <td>20-May-20</td>\n",
              "      <td>AI  0123</td>\n",
              "      <td>DELHI</td>\n",
              "      <td>ROME</td>\n",
              "      <td>14:15</td>\n",
              "    </tr>\n",
              "  </tbody>\n",
              "</table>\n",
              "</div>"
            ],
            "text/plain": [
              "        DATE    FLIGHT DEPARTURE\\rSTATION ARRIVAL\\rSTATION DEPARTURE\\rTIME\n",
              "0  20-May-20  AI  1213              DELHI        KATHMANDU            9:25\n",
              "1  20-May-20  AI  1909          HYDERABAD           DAMMAM            9:30\n",
              "2  20-May-20  AI  1913          HYDERABAD           JEDDAH            9:30\n",
              "3  20-May-20  AI  0308              DELHI        MELBOURNE           12:50\n",
              "4  20-May-20  AI  0123              DELHI             ROME           14:15"
            ]
          },
          "metadata": {
            "tags": []
          },
          "execution_count": 57
        }
      ]
    },
    {
      "cell_type": "code",
      "metadata": {
        "colab_type": "code",
        "id": "1qaW1EEg1ji6",
        "colab": {}
      },
      "source": [
        "df1.rename(columns={'Unnamed: 0':'DATE',\n",
        "                    \"Unnamed: 1\":'FLIGHT',\n",
        "                    'DEPARTURE':'DEP',\n",
        "                    'ARRIVAL':'ARR',\n",
        "                    'DEPARTURE.1':'DEP_TIME'},inplace=True)"
      ],
      "execution_count": 0,
      "outputs": []
    },
    {
      "cell_type": "code",
      "metadata": {
        "colab_type": "code",
        "id": "vAJNMjD42OzP",
        "outputId": "541eb5a0-4678-4c09-be47-0e8a700a31c4",
        "colab": {
          "base_uri": "https://localhost:8080/",
          "height": 195
        }
      },
      "source": [
        "df1.head()"
      ],
      "execution_count": 0,
      "outputs": [
        {
          "output_type": "execute_result",
          "data": {
            "text/html": [
              "<div>\n",
              "<style scoped>\n",
              "    .dataframe tbody tr th:only-of-type {\n",
              "        vertical-align: middle;\n",
              "    }\n",
              "\n",
              "    .dataframe tbody tr th {\n",
              "        vertical-align: top;\n",
              "    }\n",
              "\n",
              "    .dataframe thead th {\n",
              "        text-align: right;\n",
              "    }\n",
              "</style>\n",
              "<table border=\"1\" class=\"dataframe\">\n",
              "  <thead>\n",
              "    <tr style=\"text-align: right;\">\n",
              "      <th></th>\n",
              "      <th>DATE</th>\n",
              "      <th>FLIGHT</th>\n",
              "      <th>DEP</th>\n",
              "      <th>ARR</th>\n",
              "      <th>DEP_TIME</th>\n",
              "    </tr>\n",
              "  </thead>\n",
              "  <tbody>\n",
              "    <tr>\n",
              "      <th>2</th>\n",
              "      <td>17-May-20</td>\n",
              "      <td>AI  0111</td>\n",
              "      <td>DELHI</td>\n",
              "      <td>LONDON</td>\n",
              "      <td>14:00</td>\n",
              "    </tr>\n",
              "    <tr>\n",
              "      <th>3</th>\n",
              "      <td>18-May-20</td>\n",
              "      <td>AI  0173</td>\n",
              "      <td>DELHI</td>\n",
              "      <td>SAN FRANCISCO</td>\n",
              "      <td>3:30</td>\n",
              "    </tr>\n",
              "    <tr>\n",
              "      <th>4</th>\n",
              "      <td>18-May-20</td>\n",
              "      <td>AI 1230</td>\n",
              "      <td>KOLKATA</td>\n",
              "      <td>DHAKA</td>\n",
              "      <td>9:30</td>\n",
              "    </tr>\n",
              "    <tr>\n",
              "      <th>5</th>\n",
              "      <td>19-May-20</td>\n",
              "      <td>AI  1318</td>\n",
              "      <td>MUMBAI</td>\n",
              "      <td>MANILA</td>\n",
              "      <td>0:45</td>\n",
              "    </tr>\n",
              "    <tr>\n",
              "      <th>6</th>\n",
              "      <td>19-May-20</td>\n",
              "      <td>AI  1189</td>\n",
              "      <td>DELHI</td>\n",
              "      <td>VANCOUVER</td>\n",
              "      <td>3:30</td>\n",
              "    </tr>\n",
              "  </tbody>\n",
              "</table>\n",
              "</div>"
            ],
            "text/plain": [
              "        DATE    FLIGHT      DEP            ARR DEP_TIME\n",
              "2  17-May-20  AI  0111    DELHI         LONDON    14:00\n",
              "3  18-May-20  AI  0173    DELHI  SAN FRANCISCO     3:30\n",
              "4  18-May-20   AI 1230  KOLKATA          DHAKA     9:30\n",
              "5  19-May-20  AI  1318   MUMBAI         MANILA     0:45\n",
              "6  19-May-20  AI  1189    DELHI      VANCOUVER     3:30"
            ]
          },
          "metadata": {
            "tags": []
          },
          "execution_count": 76
        }
      ]
    },
    {
      "cell_type": "code",
      "metadata": {
        "colab_type": "code",
        "id": "wVK6QBh72a4B",
        "colab": {}
      },
      "source": [
        "df1.drop(index=[0,1],inplace=True)"
      ],
      "execution_count": 0,
      "outputs": []
    },
    {
      "cell_type": "code",
      "metadata": {
        "colab_type": "code",
        "id": "QgcTsp372o0S",
        "outputId": "ff5cdb84-1634-4021-83c0-a28267f4e30a",
        "colab": {
          "base_uri": "https://localhost:8080/",
          "height": 34
        }
      },
      "source": [
        "len(df1)"
      ],
      "execution_count": 0,
      "outputs": [
        {
          "output_type": "execute_result",
          "data": {
            "text/plain": [
              "22"
            ]
          },
          "metadata": {
            "tags": []
          },
          "execution_count": 66
        }
      ]
    },
    {
      "cell_type": "code",
      "metadata": {
        "colab_type": "code",
        "id": "kPSle9012uBy",
        "outputId": "e4a22345-f432-462a-88b2-63b456267c91",
        "colab": {
          "base_uri": "https://localhost:8080/",
          "height": 34
        }
      },
      "source": [
        "len(df2)"
      ],
      "execution_count": 0,
      "outputs": [
        {
          "output_type": "execute_result",
          "data": {
            "text/plain": [
              "39"
            ]
          },
          "metadata": {
            "tags": []
          },
          "execution_count": 67
        }
      ]
    },
    {
      "cell_type": "code",
      "metadata": {
        "colab_type": "code",
        "id": "iaN8OK7I3Cri",
        "outputId": "75d3c785-c1a9-4a74-ddee-ba95fc6e025c",
        "colab": {
          "base_uri": "https://localhost:8080/",
          "height": 195
        }
      },
      "source": [
        "df2.head()"
      ],
      "execution_count": 0,
      "outputs": [
        {
          "output_type": "execute_result",
          "data": {
            "text/html": [
              "<div>\n",
              "<style scoped>\n",
              "    .dataframe tbody tr th:only-of-type {\n",
              "        vertical-align: middle;\n",
              "    }\n",
              "\n",
              "    .dataframe tbody tr th {\n",
              "        vertical-align: top;\n",
              "    }\n",
              "\n",
              "    .dataframe thead th {\n",
              "        text-align: right;\n",
              "    }\n",
              "</style>\n",
              "<table border=\"1\" class=\"dataframe\">\n",
              "  <thead>\n",
              "    <tr style=\"text-align: right;\">\n",
              "      <th></th>\n",
              "      <th>DATE</th>\n",
              "      <th>FLIGHT</th>\n",
              "      <th>DEPARTURE\\rSTATION</th>\n",
              "      <th>ARRIVAL\\rSTATION</th>\n",
              "      <th>DEPARTURE\\rTIME</th>\n",
              "    </tr>\n",
              "  </thead>\n",
              "  <tbody>\n",
              "    <tr>\n",
              "      <th>0</th>\n",
              "      <td>20-May-20</td>\n",
              "      <td>AI  1213</td>\n",
              "      <td>DELHI</td>\n",
              "      <td>KATHMANDU</td>\n",
              "      <td>9:25</td>\n",
              "    </tr>\n",
              "    <tr>\n",
              "      <th>1</th>\n",
              "      <td>20-May-20</td>\n",
              "      <td>AI  1909</td>\n",
              "      <td>HYDERABAD</td>\n",
              "      <td>DAMMAM</td>\n",
              "      <td>9:30</td>\n",
              "    </tr>\n",
              "    <tr>\n",
              "      <th>2</th>\n",
              "      <td>20-May-20</td>\n",
              "      <td>AI  1913</td>\n",
              "      <td>HYDERABAD</td>\n",
              "      <td>JEDDAH</td>\n",
              "      <td>9:30</td>\n",
              "    </tr>\n",
              "    <tr>\n",
              "      <th>3</th>\n",
              "      <td>20-May-20</td>\n",
              "      <td>AI  0308</td>\n",
              "      <td>DELHI</td>\n",
              "      <td>MELBOURNE</td>\n",
              "      <td>12:50</td>\n",
              "    </tr>\n",
              "    <tr>\n",
              "      <th>4</th>\n",
              "      <td>20-May-20</td>\n",
              "      <td>AI  0123</td>\n",
              "      <td>DELHI</td>\n",
              "      <td>ROME</td>\n",
              "      <td>14:15</td>\n",
              "    </tr>\n",
              "  </tbody>\n",
              "</table>\n",
              "</div>"
            ],
            "text/plain": [
              "        DATE    FLIGHT DEPARTURE\\rSTATION ARRIVAL\\rSTATION DEPARTURE\\rTIME\n",
              "0  20-May-20  AI  1213              DELHI        KATHMANDU            9:25\n",
              "1  20-May-20  AI  1909          HYDERABAD           DAMMAM            9:30\n",
              "2  20-May-20  AI  1913          HYDERABAD           JEDDAH            9:30\n",
              "3  20-May-20  AI  0308              DELHI        MELBOURNE           12:50\n",
              "4  20-May-20  AI  0123              DELHI             ROME           14:15"
            ]
          },
          "metadata": {
            "tags": []
          },
          "execution_count": 68
        }
      ]
    },
    {
      "cell_type": "code",
      "metadata": {
        "colab_type": "code",
        "id": "y1K7LBw03EyZ",
        "colab": {}
      },
      "source": [
        "df2.rename(columns={'DEPARTURE\\rSTATION':'DEP',\n",
        "                    'ARRIVAL\\rSTATION':'ARR',\n",
        "                    'DEPARTURE\\rTIME':'DEP_TIME'},inplace=True)"
      ],
      "execution_count": 0,
      "outputs": []
    },
    {
      "cell_type": "code",
      "metadata": {
        "colab_type": "code",
        "id": "c3u2A04m3KOC",
        "outputId": "a31250ca-f6d6-4530-fb15-06b7f098d7bc",
        "colab": {
          "base_uri": "https://localhost:8080/",
          "height": 34
        }
      },
      "source": [
        "df2.columns"
      ],
      "execution_count": 0,
      "outputs": [
        {
          "output_type": "execute_result",
          "data": {
            "text/plain": [
              "Index(['DATE', 'FLIGHT', 'DEP', 'ARR', 'DEP_TIME'], dtype='object')"
            ]
          },
          "metadata": {
            "tags": []
          },
          "execution_count": 73
        }
      ]
    },
    {
      "cell_type": "code",
      "metadata": {
        "colab_type": "code",
        "id": "TSKnCWEo3Qrq",
        "outputId": "89f38047-4dae-4e61-b197-33f39e1eb8cd",
        "colab": {
          "base_uri": "https://localhost:8080/",
          "height": 195
        }
      },
      "source": [
        "df2.head()"
      ],
      "execution_count": 0,
      "outputs": [
        {
          "output_type": "execute_result",
          "data": {
            "text/html": [
              "<div>\n",
              "<style scoped>\n",
              "    .dataframe tbody tr th:only-of-type {\n",
              "        vertical-align: middle;\n",
              "    }\n",
              "\n",
              "    .dataframe tbody tr th {\n",
              "        vertical-align: top;\n",
              "    }\n",
              "\n",
              "    .dataframe thead th {\n",
              "        text-align: right;\n",
              "    }\n",
              "</style>\n",
              "<table border=\"1\" class=\"dataframe\">\n",
              "  <thead>\n",
              "    <tr style=\"text-align: right;\">\n",
              "      <th></th>\n",
              "      <th>DATE</th>\n",
              "      <th>FLIGHT</th>\n",
              "      <th>DEP</th>\n",
              "      <th>ARR</th>\n",
              "      <th>DEP_TIME</th>\n",
              "    </tr>\n",
              "  </thead>\n",
              "  <tbody>\n",
              "    <tr>\n",
              "      <th>0</th>\n",
              "      <td>20-May-20</td>\n",
              "      <td>AI  1213</td>\n",
              "      <td>DELHI</td>\n",
              "      <td>KATHMANDU</td>\n",
              "      <td>9:25</td>\n",
              "    </tr>\n",
              "    <tr>\n",
              "      <th>1</th>\n",
              "      <td>20-May-20</td>\n",
              "      <td>AI  1909</td>\n",
              "      <td>HYDERABAD</td>\n",
              "      <td>DAMMAM</td>\n",
              "      <td>9:30</td>\n",
              "    </tr>\n",
              "    <tr>\n",
              "      <th>2</th>\n",
              "      <td>20-May-20</td>\n",
              "      <td>AI  1913</td>\n",
              "      <td>HYDERABAD</td>\n",
              "      <td>JEDDAH</td>\n",
              "      <td>9:30</td>\n",
              "    </tr>\n",
              "    <tr>\n",
              "      <th>3</th>\n",
              "      <td>20-May-20</td>\n",
              "      <td>AI  0308</td>\n",
              "      <td>DELHI</td>\n",
              "      <td>MELBOURNE</td>\n",
              "      <td>12:50</td>\n",
              "    </tr>\n",
              "    <tr>\n",
              "      <th>4</th>\n",
              "      <td>20-May-20</td>\n",
              "      <td>AI  0123</td>\n",
              "      <td>DELHI</td>\n",
              "      <td>ROME</td>\n",
              "      <td>14:15</td>\n",
              "    </tr>\n",
              "  </tbody>\n",
              "</table>\n",
              "</div>"
            ],
            "text/plain": [
              "        DATE    FLIGHT        DEP        ARR DEP_TIME\n",
              "0  20-May-20  AI  1213      DELHI  KATHMANDU     9:25\n",
              "1  20-May-20  AI  1909  HYDERABAD     DAMMAM     9:30\n",
              "2  20-May-20  AI  1913  HYDERABAD     JEDDAH     9:30\n",
              "3  20-May-20  AI  0308      DELHI  MELBOURNE    12:50\n",
              "4  20-May-20  AI  0123      DELHI       ROME    14:15"
            ]
          },
          "metadata": {
            "tags": []
          },
          "execution_count": 77
        }
      ]
    },
    {
      "cell_type": "code",
      "metadata": {
        "colab_type": "code",
        "id": "zAeEBC0q4VoN",
        "colab": {}
      },
      "source": [
        "main_df= pd.concat([df1,df2])"
      ],
      "execution_count": 0,
      "outputs": []
    },
    {
      "cell_type": "code",
      "metadata": {
        "colab_type": "code",
        "id": "XRWvlk334a2y",
        "outputId": "1f0c9a41-34b6-48bf-e944-92a12327652c",
        "colab": {
          "base_uri": "https://localhost:8080/",
          "height": 34
        }
      },
      "source": [
        "len(main_df)"
      ],
      "execution_count": 0,
      "outputs": [
        {
          "output_type": "execute_result",
          "data": {
            "text/plain": [
              "61"
            ]
          },
          "metadata": {
            "tags": []
          },
          "execution_count": 81
        }
      ]
    },
    {
      "cell_type": "code",
      "metadata": {
        "colab_type": "code",
        "id": "X32J3XsH4jNC",
        "outputId": "f55cb04e-e164-4e0b-95ec-64f006a5613d",
        "colab": {
          "base_uri": "https://localhost:8080/",
          "height": 1000
        }
      },
      "source": [
        "main_df"
      ],
      "execution_count": 0,
      "outputs": [
        {
          "output_type": "execute_result",
          "data": {
            "text/html": [
              "<div>\n",
              "<style scoped>\n",
              "    .dataframe tbody tr th:only-of-type {\n",
              "        vertical-align: middle;\n",
              "    }\n",
              "\n",
              "    .dataframe tbody tr th {\n",
              "        vertical-align: top;\n",
              "    }\n",
              "\n",
              "    .dataframe thead th {\n",
              "        text-align: right;\n",
              "    }\n",
              "</style>\n",
              "<table border=\"1\" class=\"dataframe\">\n",
              "  <thead>\n",
              "    <tr style=\"text-align: right;\">\n",
              "      <th></th>\n",
              "      <th>DATE</th>\n",
              "      <th>FLIGHT</th>\n",
              "      <th>DEP</th>\n",
              "      <th>ARR</th>\n",
              "      <th>DEP_TIME</th>\n",
              "    </tr>\n",
              "  </thead>\n",
              "  <tbody>\n",
              "    <tr>\n",
              "      <th>2</th>\n",
              "      <td>17-May-20</td>\n",
              "      <td>AI  0111</td>\n",
              "      <td>DELHI</td>\n",
              "      <td>LONDON</td>\n",
              "      <td>14:00</td>\n",
              "    </tr>\n",
              "    <tr>\n",
              "      <th>3</th>\n",
              "      <td>18-May-20</td>\n",
              "      <td>AI  0173</td>\n",
              "      <td>DELHI</td>\n",
              "      <td>SAN FRANCISCO</td>\n",
              "      <td>3:30</td>\n",
              "    </tr>\n",
              "    <tr>\n",
              "      <th>4</th>\n",
              "      <td>18-May-20</td>\n",
              "      <td>AI 1230</td>\n",
              "      <td>KOLKATA</td>\n",
              "      <td>DHAKA</td>\n",
              "      <td>9:30</td>\n",
              "    </tr>\n",
              "    <tr>\n",
              "      <th>5</th>\n",
              "      <td>19-May-20</td>\n",
              "      <td>AI  1318</td>\n",
              "      <td>MUMBAI</td>\n",
              "      <td>MANILA</td>\n",
              "      <td>0:45</td>\n",
              "    </tr>\n",
              "    <tr>\n",
              "      <th>6</th>\n",
              "      <td>19-May-20</td>\n",
              "      <td>AI  1189</td>\n",
              "      <td>DELHI</td>\n",
              "      <td>VANCOUVER</td>\n",
              "      <td>3:30</td>\n",
              "    </tr>\n",
              "    <tr>\n",
              "      <th>7</th>\n",
              "      <td>19-May-20</td>\n",
              "      <td>AI  0101</td>\n",
              "      <td>DELHI</td>\n",
              "      <td>NEW YORK</td>\n",
              "      <td>5:10</td>\n",
              "    </tr>\n",
              "    <tr>\n",
              "      <th>8</th>\n",
              "      <td>19-May-20</td>\n",
              "      <td>AI  0131</td>\n",
              "      <td>MUMBAI</td>\n",
              "      <td>LONDON</td>\n",
              "      <td>6:30</td>\n",
              "    </tr>\n",
              "    <tr>\n",
              "      <th>9</th>\n",
              "      <td>19-May-20</td>\n",
              "      <td>AI  1306</td>\n",
              "      <td>DELHI</td>\n",
              "      <td>JAKARTA</td>\n",
              "      <td>6:30</td>\n",
              "    </tr>\n",
              "    <tr>\n",
              "      <th>10</th>\n",
              "      <td>19-May-20</td>\n",
              "      <td>AI  1201</td>\n",
              "      <td>DELHI</td>\n",
              "      <td>DHAKA</td>\n",
              "      <td>7:00</td>\n",
              "    </tr>\n",
              "    <tr>\n",
              "      <th>11</th>\n",
              "      <td>19-May-20</td>\n",
              "      <td>AI  1326</td>\n",
              "      <td>BENGALURU</td>\n",
              "      <td>KUALA LUMPUR</td>\n",
              "      <td>9:00</td>\n",
              "    </tr>\n",
              "    <tr>\n",
              "      <th>12</th>\n",
              "      <td>19-May-20</td>\n",
              "      <td>AI  1905</td>\n",
              "      <td>MUMBAI</td>\n",
              "      <td>RIYADH</td>\n",
              "      <td>9:00</td>\n",
              "    </tr>\n",
              "    <tr>\n",
              "      <th>13</th>\n",
              "      <td>19-May-20</td>\n",
              "      <td>AI  1907</td>\n",
              "      <td>CHENNAI</td>\n",
              "      <td>DAMMAM</td>\n",
              "      <td>9:00</td>\n",
              "    </tr>\n",
              "    <tr>\n",
              "      <th>14</th>\n",
              "      <td>19-May-20</td>\n",
              "      <td>AI  1901</td>\n",
              "      <td>HYDERABAD</td>\n",
              "      <td>ABU DHABI</td>\n",
              "      <td>11:30</td>\n",
              "    </tr>\n",
              "    <tr>\n",
              "      <th>15</th>\n",
              "      <td>19-May-20</td>\n",
              "      <td>AI  1903</td>\n",
              "      <td>DELHI</td>\n",
              "      <td>DUBAI</td>\n",
              "      <td>11:50</td>\n",
              "    </tr>\n",
              "    <tr>\n",
              "      <th>16</th>\n",
              "      <td>19-May-20</td>\n",
              "      <td>AI  0302</td>\n",
              "      <td>DELHI</td>\n",
              "      <td>SYDNEY</td>\n",
              "      <td>13:55</td>\n",
              "    </tr>\n",
              "    <tr>\n",
              "      <th>17</th>\n",
              "      <td>20-May-20</td>\n",
              "      <td>AI  0187</td>\n",
              "      <td>DELHI</td>\n",
              "      <td>TORONTO</td>\n",
              "      <td>1:00</td>\n",
              "    </tr>\n",
              "    <tr>\n",
              "      <th>18</th>\n",
              "      <td>20-May-20</td>\n",
              "      <td>AI  1320</td>\n",
              "      <td>MUMBAI</td>\n",
              "      <td>MANILA</td>\n",
              "      <td>4:00</td>\n",
              "    </tr>\n",
              "    <tr>\n",
              "      <th>19</th>\n",
              "      <td>20-May-20</td>\n",
              "      <td>AI 1308</td>\n",
              "      <td>DELHI</td>\n",
              "      <td>JAKARTA</td>\n",
              "      <td>6:30</td>\n",
              "    </tr>\n",
              "    <tr>\n",
              "      <th>20</th>\n",
              "      <td>20-May-20</td>\n",
              "      <td>AI  0334</td>\n",
              "      <td>DELHI</td>\n",
              "      <td>BANGKOK</td>\n",
              "      <td>7:30</td>\n",
              "    </tr>\n",
              "    <tr>\n",
              "      <th>21</th>\n",
              "      <td>20-May-20</td>\n",
              "      <td>AI  1911</td>\n",
              "      <td>MUMBAI</td>\n",
              "      <td>RIYADH</td>\n",
              "      <td>9:00</td>\n",
              "    </tr>\n",
              "    <tr>\n",
              "      <th>22</th>\n",
              "      <td>20-May-20</td>\n",
              "      <td>AI  1923</td>\n",
              "      <td>CHENNAI</td>\n",
              "      <td>DOHA</td>\n",
              "      <td>9:00</td>\n",
              "    </tr>\n",
              "    <tr>\n",
              "      <th>23</th>\n",
              "      <td>20-May-20</td>\n",
              "      <td>AI 1328</td>\n",
              "      <td>BENGALURU</td>\n",
              "      <td>KUALA LUMPUR</td>\n",
              "      <td>9:00</td>\n",
              "    </tr>\n",
              "    <tr>\n",
              "      <th>0</th>\n",
              "      <td>20-May-20</td>\n",
              "      <td>AI  1213</td>\n",
              "      <td>DELHI</td>\n",
              "      <td>KATHMANDU</td>\n",
              "      <td>9:25</td>\n",
              "    </tr>\n",
              "    <tr>\n",
              "      <th>1</th>\n",
              "      <td>20-May-20</td>\n",
              "      <td>AI  1909</td>\n",
              "      <td>HYDERABAD</td>\n",
              "      <td>DAMMAM</td>\n",
              "      <td>9:30</td>\n",
              "    </tr>\n",
              "    <tr>\n",
              "      <th>2</th>\n",
              "      <td>20-May-20</td>\n",
              "      <td>AI  1913</td>\n",
              "      <td>HYDERABAD</td>\n",
              "      <td>JEDDAH</td>\n",
              "      <td>9:30</td>\n",
              "    </tr>\n",
              "    <tr>\n",
              "      <th>3</th>\n",
              "      <td>20-May-20</td>\n",
              "      <td>AI  0308</td>\n",
              "      <td>DELHI</td>\n",
              "      <td>MELBOURNE</td>\n",
              "      <td>12:50</td>\n",
              "    </tr>\n",
              "    <tr>\n",
              "      <th>4</th>\n",
              "      <td>20-May-20</td>\n",
              "      <td>AI  0123</td>\n",
              "      <td>DELHI</td>\n",
              "      <td>ROME</td>\n",
              "      <td>14:15</td>\n",
              "    </tr>\n",
              "    <tr>\n",
              "      <th>5</th>\n",
              "      <td>21-May-20</td>\n",
              "      <td>AI  0187</td>\n",
              "      <td>DELHI</td>\n",
              "      <td>TORONTO</td>\n",
              "      <td>1:00</td>\n",
              "    </tr>\n",
              "    <tr>\n",
              "      <th>6</th>\n",
              "      <td>21-May-20</td>\n",
              "      <td>AI  1310</td>\n",
              "      <td>MUMBAI</td>\n",
              "      <td>JAKARTA</td>\n",
              "      <td>5:45</td>\n",
              "    </tr>\n",
              "    <tr>\n",
              "      <th>7</th>\n",
              "      <td>21-May-20</td>\n",
              "      <td>AI  1330</td>\n",
              "      <td>DELHI</td>\n",
              "      <td>KUALA LUMPUR</td>\n",
              "      <td>7:30</td>\n",
              "    </tr>\n",
              "    <tr>\n",
              "      <th>8</th>\n",
              "      <td>21-May-20</td>\n",
              "      <td>AI  0987</td>\n",
              "      <td>HYDERABAD</td>\n",
              "      <td>KUWAIT</td>\n",
              "      <td>10:30</td>\n",
              "    </tr>\n",
              "    <tr>\n",
              "      <th>9</th>\n",
              "      <td>21-May-20</td>\n",
              "      <td>AI  0346</td>\n",
              "      <td>CHENNAI</td>\n",
              "      <td>SINGAPORE</td>\n",
              "      <td>11:30</td>\n",
              "    </tr>\n",
              "    <tr>\n",
              "      <th>10</th>\n",
              "      <td>21-May-20</td>\n",
              "      <td>AI  0302</td>\n",
              "      <td>DELHI</td>\n",
              "      <td>SYDNEY</td>\n",
              "      <td>13:55</td>\n",
              "    </tr>\n",
              "    <tr>\n",
              "      <th>11</th>\n",
              "      <td>21-May-20</td>\n",
              "      <td>AI  0111</td>\n",
              "      <td>DELHI</td>\n",
              "      <td>LONDON</td>\n",
              "      <td>14:00</td>\n",
              "    </tr>\n",
              "    <tr>\n",
              "      <th>12</th>\n",
              "      <td>21-May-20</td>\n",
              "      <td>AI 1901</td>\n",
              "      <td>DELHI</td>\n",
              "      <td>AMMAN</td>\n",
              "      <td>14:15</td>\n",
              "    </tr>\n",
              "    <tr>\n",
              "      <th>13</th>\n",
              "      <td>22-May-20</td>\n",
              "      <td>AI  0173</td>\n",
              "      <td>DELHI</td>\n",
              "      <td>SAN FRANCISCO</td>\n",
              "      <td>3:30</td>\n",
              "    </tr>\n",
              "    <tr>\n",
              "      <th>14</th>\n",
              "      <td>22-May-20</td>\n",
              "      <td>AI  1312</td>\n",
              "      <td>MUMBAI</td>\n",
              "      <td>JAKARTA</td>\n",
              "      <td>5:45</td>\n",
              "    </tr>\n",
              "    <tr>\n",
              "      <th>15</th>\n",
              "      <td>22-May-20</td>\n",
              "      <td>AI  1332</td>\n",
              "      <td>DELHI</td>\n",
              "      <td>KUALA LUMPUR</td>\n",
              "      <td>7:30</td>\n",
              "    </tr>\n",
              "    <tr>\n",
              "      <th>16</th>\n",
              "      <td>22-May-20</td>\n",
              "      <td>AI  1995</td>\n",
              "      <td>DELHI</td>\n",
              "      <td>DUBAI</td>\n",
              "      <td>9:50</td>\n",
              "    </tr>\n",
              "    <tr>\n",
              "      <th>17</th>\n",
              "      <td>22-May-20</td>\n",
              "      <td>AI  1919</td>\n",
              "      <td>HYDERABAD</td>\n",
              "      <td>RIYADH</td>\n",
              "      <td>10:30</td>\n",
              "    </tr>\n",
              "    <tr>\n",
              "      <th>18</th>\n",
              "      <td>22-May-20</td>\n",
              "      <td>AI  0265</td>\n",
              "      <td>BENGALURU</td>\n",
              "      <td>MALE</td>\n",
              "      <td>11:30</td>\n",
              "    </tr>\n",
              "    <tr>\n",
              "      <th>19</th>\n",
              "      <td>22-May-20</td>\n",
              "      <td>AI  0308</td>\n",
              "      <td>DELHI</td>\n",
              "      <td>MELBOURNE</td>\n",
              "      <td>12:50</td>\n",
              "    </tr>\n",
              "    <tr>\n",
              "      <th>20</th>\n",
              "      <td>23-May-20</td>\n",
              "      <td>AI  1193</td>\n",
              "      <td>DELHI</td>\n",
              "      <td>VANCOUVER</td>\n",
              "      <td>3:30</td>\n",
              "    </tr>\n",
              "    <tr>\n",
              "      <th>21</th>\n",
              "      <td>23-May-20</td>\n",
              "      <td>AI  0101</td>\n",
              "      <td>DELHI</td>\n",
              "      <td>NEW YORK</td>\n",
              "      <td>5:10</td>\n",
              "    </tr>\n",
              "    <tr>\n",
              "      <th>22</th>\n",
              "      <td>23-May-20</td>\n",
              "      <td>AI  0131</td>\n",
              "      <td>MUMBAI</td>\n",
              "      <td>LONDON</td>\n",
              "      <td>6:30</td>\n",
              "    </tr>\n",
              "    <tr>\n",
              "      <th>23</th>\n",
              "      <td>23-May-20</td>\n",
              "      <td>AI  1263</td>\n",
              "      <td>DELHI</td>\n",
              "      <td>MALE</td>\n",
              "      <td>8:30</td>\n",
              "    </tr>\n",
              "    <tr>\n",
              "      <th>24</th>\n",
              "      <td>23-May-20</td>\n",
              "      <td>AI  1336</td>\n",
              "      <td>BENGALURU</td>\n",
              "      <td>SINGAPORE</td>\n",
              "      <td>9:00</td>\n",
              "    </tr>\n",
              "    <tr>\n",
              "      <th>25</th>\n",
              "      <td>23-May-20</td>\n",
              "      <td>AI  0302</td>\n",
              "      <td>DELHI</td>\n",
              "      <td>SYDNEY</td>\n",
              "      <td>13:55</td>\n",
              "    </tr>\n",
              "    <tr>\n",
              "      <th>26</th>\n",
              "      <td>23-May-20</td>\n",
              "      <td>AI  0382</td>\n",
              "      <td>DELHI</td>\n",
              "      <td>SINGAPORE</td>\n",
              "      <td>14:45</td>\n",
              "    </tr>\n",
              "    <tr>\n",
              "      <th>27</th>\n",
              "      <td>23-May-20</td>\n",
              "      <td>AI  0973</td>\n",
              "      <td>DELHI</td>\n",
              "      <td>MUSCAT</td>\n",
              "      <td>15:30</td>\n",
              "    </tr>\n",
              "    <tr>\n",
              "      <th>28</th>\n",
              "      <td>24-May-20</td>\n",
              "      <td>AI  0187</td>\n",
              "      <td>DELHI</td>\n",
              "      <td>TORONTO</td>\n",
              "      <td>1:00</td>\n",
              "    </tr>\n",
              "    <tr>\n",
              "      <th>29</th>\n",
              "      <td>24-May-20</td>\n",
              "      <td>AI  1322</td>\n",
              "      <td>MUMBAI</td>\n",
              "      <td>MANILA</td>\n",
              "      <td>5:45</td>\n",
              "    </tr>\n",
              "    <tr>\n",
              "      <th>30</th>\n",
              "      <td>24-May-20</td>\n",
              "      <td>AI  0308</td>\n",
              "      <td>DELHI</td>\n",
              "      <td>MELBOURNE</td>\n",
              "      <td>12:50</td>\n",
              "    </tr>\n",
              "    <tr>\n",
              "      <th>31</th>\n",
              "      <td>24-May-20</td>\n",
              "      <td>AI  0113</td>\n",
              "      <td>DELHI</td>\n",
              "      <td>BIRMINGHAM</td>\n",
              "      <td>13:05</td>\n",
              "    </tr>\n",
              "    <tr>\n",
              "      <th>32</th>\n",
              "      <td>24-May-20</td>\n",
              "      <td>AI  0971</td>\n",
              "      <td>DELHI</td>\n",
              "      <td>DOHA</td>\n",
              "      <td>15:15</td>\n",
              "    </tr>\n",
              "    <tr>\n",
              "      <th>33</th>\n",
              "      <td>25-May-20</td>\n",
              "      <td>AI  1949</td>\n",
              "      <td>DELHI</td>\n",
              "      <td>KARAGANDA</td>\n",
              "      <td>5:40</td>\n",
              "    </tr>\n",
              "    <tr>\n",
              "      <th>34</th>\n",
              "      <td>25-May-20</td>\n",
              "      <td>AI  1945</td>\n",
              "      <td>DELHI</td>\n",
              "      <td>MOSCOW</td>\n",
              "      <td>6:40</td>\n",
              "    </tr>\n",
              "    <tr>\n",
              "      <th>35</th>\n",
              "      <td>25-May-20</td>\n",
              "      <td>AI  1947</td>\n",
              "      <td>DELHI</td>\n",
              "      <td>KIEV</td>\n",
              "      <td>7:35</td>\n",
              "    </tr>\n",
              "    <tr>\n",
              "      <th>36</th>\n",
              "      <td>25-May-20</td>\n",
              "      <td>AI  1324</td>\n",
              "      <td>MUMBAI</td>\n",
              "      <td>CEBU</td>\n",
              "      <td>9:30</td>\n",
              "    </tr>\n",
              "    <tr>\n",
              "      <th>37</th>\n",
              "      <td>25-May-20</td>\n",
              "      <td>AI  0143</td>\n",
              "      <td>DELHI</td>\n",
              "      <td>PARIS</td>\n",
              "      <td>13:15</td>\n",
              "    </tr>\n",
              "    <tr>\n",
              "      <th>38</th>\n",
              "      <td>25-May-20</td>\n",
              "      <td>AI 1199</td>\n",
              "      <td>DELHI</td>\n",
              "      <td>DUBLIN</td>\n",
              "      <td>14:30</td>\n",
              "    </tr>\n",
              "  </tbody>\n",
              "</table>\n",
              "</div>"
            ],
            "text/plain": [
              "         DATE    FLIGHT        DEP            ARR DEP_TIME\n",
              "2   17-May-20  AI  0111      DELHI         LONDON    14:00\n",
              "3   18-May-20  AI  0173      DELHI  SAN FRANCISCO     3:30\n",
              "4   18-May-20   AI 1230    KOLKATA          DHAKA     9:30\n",
              "5   19-May-20  AI  1318     MUMBAI         MANILA     0:45\n",
              "6   19-May-20  AI  1189      DELHI      VANCOUVER     3:30\n",
              "7   19-May-20  AI  0101      DELHI       NEW YORK     5:10\n",
              "8   19-May-20  AI  0131     MUMBAI         LONDON     6:30\n",
              "9   19-May-20  AI  1306      DELHI        JAKARTA     6:30\n",
              "10  19-May-20  AI  1201      DELHI          DHAKA     7:00\n",
              "11  19-May-20  AI  1326  BENGALURU   KUALA LUMPUR     9:00\n",
              "12  19-May-20  AI  1905     MUMBAI         RIYADH     9:00\n",
              "13  19-May-20  AI  1907    CHENNAI         DAMMAM     9:00\n",
              "14  19-May-20  AI  1901  HYDERABAD      ABU DHABI    11:30\n",
              "15  19-May-20  AI  1903      DELHI          DUBAI    11:50\n",
              "16  19-May-20  AI  0302      DELHI         SYDNEY    13:55\n",
              "17  20-May-20  AI  0187      DELHI        TORONTO     1:00\n",
              "18  20-May-20  AI  1320     MUMBAI         MANILA     4:00\n",
              "19  20-May-20   AI 1308      DELHI        JAKARTA     6:30\n",
              "20  20-May-20  AI  0334      DELHI        BANGKOK     7:30\n",
              "21  20-May-20  AI  1911     MUMBAI         RIYADH     9:00\n",
              "22  20-May-20  AI  1923    CHENNAI           DOHA     9:00\n",
              "23  20-May-20   AI 1328  BENGALURU   KUALA LUMPUR     9:00\n",
              "0   20-May-20  AI  1213      DELHI      KATHMANDU     9:25\n",
              "1   20-May-20  AI  1909  HYDERABAD         DAMMAM     9:30\n",
              "2   20-May-20  AI  1913  HYDERABAD         JEDDAH     9:30\n",
              "3   20-May-20  AI  0308      DELHI      MELBOURNE    12:50\n",
              "4   20-May-20  AI  0123      DELHI           ROME    14:15\n",
              "5   21-May-20  AI  0187      DELHI        TORONTO     1:00\n",
              "6   21-May-20  AI  1310     MUMBAI        JAKARTA     5:45\n",
              "7   21-May-20  AI  1330      DELHI   KUALA LUMPUR     7:30\n",
              "8   21-May-20  AI  0987  HYDERABAD         KUWAIT    10:30\n",
              "9   21-May-20  AI  0346    CHENNAI      SINGAPORE    11:30\n",
              "10  21-May-20  AI  0302      DELHI         SYDNEY    13:55\n",
              "11  21-May-20  AI  0111      DELHI         LONDON    14:00\n",
              "12  21-May-20   AI 1901      DELHI          AMMAN    14:15\n",
              "13  22-May-20  AI  0173      DELHI  SAN FRANCISCO     3:30\n",
              "14  22-May-20  AI  1312     MUMBAI        JAKARTA     5:45\n",
              "15  22-May-20  AI  1332      DELHI   KUALA LUMPUR     7:30\n",
              "16  22-May-20  AI  1995      DELHI          DUBAI     9:50\n",
              "17  22-May-20  AI  1919  HYDERABAD         RIYADH    10:30\n",
              "18  22-May-20  AI  0265  BENGALURU           MALE    11:30\n",
              "19  22-May-20  AI  0308      DELHI      MELBOURNE    12:50\n",
              "20  23-May-20  AI  1193      DELHI      VANCOUVER     3:30\n",
              "21  23-May-20  AI  0101      DELHI       NEW YORK     5:10\n",
              "22  23-May-20  AI  0131     MUMBAI         LONDON     6:30\n",
              "23  23-May-20  AI  1263      DELHI           MALE     8:30\n",
              "24  23-May-20  AI  1336  BENGALURU      SINGAPORE     9:00\n",
              "25  23-May-20  AI  0302      DELHI         SYDNEY    13:55\n",
              "26  23-May-20  AI  0382      DELHI      SINGAPORE    14:45\n",
              "27  23-May-20  AI  0973      DELHI         MUSCAT    15:30\n",
              "28  24-May-20  AI  0187      DELHI        TORONTO     1:00\n",
              "29  24-May-20  AI  1322     MUMBAI         MANILA     5:45\n",
              "30  24-May-20  AI  0308      DELHI      MELBOURNE    12:50\n",
              "31  24-May-20  AI  0113      DELHI     BIRMINGHAM    13:05\n",
              "32  24-May-20  AI  0971      DELHI           DOHA    15:15\n",
              "33  25-May-20  AI  1949      DELHI      KARAGANDA     5:40\n",
              "34  25-May-20  AI  1945      DELHI         MOSCOW     6:40\n",
              "35  25-May-20  AI  1947      DELHI           KIEV     7:35\n",
              "36  25-May-20  AI  1324     MUMBAI           CEBU     9:30\n",
              "37  25-May-20  AI  0143      DELHI          PARIS    13:15\n",
              "38  25-May-20   AI 1199      DELHI         DUBLIN    14:30"
            ]
          },
          "metadata": {
            "tags": []
          },
          "execution_count": 82
        }
      ]
    },
    {
      "cell_type": "code",
      "metadata": {
        "colab_type": "code",
        "id": "A8mnCgSV4vdh",
        "outputId": "8abcc7a0-0a3d-4c06-f9e1-8941d6fae961",
        "colab": {
          "base_uri": "https://localhost:8080/",
          "height": 34
        }
      },
      "source": [
        "main_df2= pd.concat([df[3],df[4],df[5]])\n",
        "len(main_df2)\n"
      ],
      "execution_count": 0,
      "outputs": [
        {
          "output_type": "execute_result",
          "data": {
            "text/plain": [
              "188"
            ]
          },
          "metadata": {
            "tags": []
          },
          "execution_count": 100
        }
      ]
    },
    {
      "cell_type": "code",
      "metadata": {
        "colab_type": "code",
        "id": "yIwW3Gde68VZ",
        "outputId": "37304d92-5864-4ed7-c1dd-5f9635d136ae",
        "colab": {
          "base_uri": "https://localhost:8080/",
          "height": 134
        }
      },
      "source": [
        "sum = 0\n",
        "for i in range(6):\n",
        "  print(len(df[i]))\n",
        "  sum = sum + len(df[i])\n",
        "print('Total records: ',sum)"
      ],
      "execution_count": 0,
      "outputs": [
        {
          "output_type": "stream",
          "text": [
            "24\n",
            "39\n",
            "39\n",
            "39\n",
            "39\n",
            "8\n",
            "Total records:  188\n"
          ],
          "name": "stdout"
        }
      ]
    },
    {
      "cell_type": "code",
      "metadata": {
        "colab_type": "code",
        "id": "fwU1k8wi65a8",
        "outputId": "17fbcb8a-102a-4219-e92a-580611498bcc",
        "colab": {
          "base_uri": "https://localhost:8080/",
          "height": 118
        }
      },
      "source": [
        "for i in range(6):\n",
        "  print('Columns in: df.{var}'.format(var=i),df[i].columns)"
      ],
      "execution_count": 0,
      "outputs": [
        {
          "output_type": "stream",
          "text": [
            "Columns in: df.0 Index(['DATE', 'FLIGHT', 'DEP', 'ARR', 'DEP_TIME'], dtype='object')\n",
            "Columns in: df.1 Index(['DATE', 'FLIGHT', 'DEP', 'ARR', 'DEP_TIME'], dtype='object')\n",
            "Columns in: df.2 Index(['DATE', 'FLIGHT', 'DEP', 'ARR', 'DEP_TIME'], dtype='object')\n",
            "Columns in: df.3 Index(['DATE', 'FLIGHT', 'DEP', 'ARR', 'DEP_TIME'], dtype='object')\n",
            "Columns in: df.4 Index(['DATE', 'FLIGHT', 'DEP', 'ARR', 'DEP_TIME'], dtype='object')\n",
            "Columns in: df.5 Index(['DATE', 'FLIGHT', 'DEP', 'ARR', 'DEP_TIME'], dtype='object')\n"
          ],
          "name": "stdout"
        }
      ]
    },
    {
      "cell_type": "code",
      "metadata": {
        "colab_type": "code",
        "id": "TH2ynyNb49Lu",
        "colab": {}
      },
      "source": [
        "for i in range(1,6):\n",
        "  df[i].rename(columns={'DEPARTURE\\rSTATION':'DEP',\n",
        "                    'ARRIVAL\\rSTATION':'ARR',\n",
        "                    'DEPARTURE\\rTIME':'DEP_TIME'},inplace=True)"
      ],
      "execution_count": 0,
      "outputs": []
    },
    {
      "cell_type": "code",
      "metadata": {
        "colab_type": "code",
        "id": "epTxHCQ35B85",
        "colab": {}
      },
      "source": [
        "df[0].rename(columns={'Unnamed: 0':'DATE',\n",
        "                      'Unnamed: 1': 'FLIGHT',\n",
        "                      'DEPARTURE':'DEP',\n",
        "                      'ARRIVAL':'ARR',\n",
        "                      'DEPARTURE.1':'DEP_TIME'},inplace=True)"
      ],
      "execution_count": 0,
      "outputs": []
    },
    {
      "cell_type": "code",
      "metadata": {
        "colab_type": "code",
        "id": "puv6-z-k5ENR",
        "colab": {}
      },
      "source": [
        "main_df = pd.concat([df[0],df[1],df[2],df[3],df[4],df[5]])\n"
      ],
      "execution_count": 0,
      "outputs": []
    },
    {
      "cell_type": "code",
      "metadata": {
        "colab_type": "code",
        "id": "nXIYm2BM5He5",
        "outputId": "5ca79af5-4284-4c09-9501-5fc348bc29dc",
        "colab": {
          "base_uri": "https://localhost:8080/",
          "height": 34
        }
      },
      "source": [
        "main_df.head()\n",
        "len(main_df)"
      ],
      "execution_count": 0,
      "outputs": [
        {
          "output_type": "execute_result",
          "data": {
            "text/plain": [
              "188"
            ]
          },
          "metadata": {
            "tags": []
          },
          "execution_count": 130
        }
      ]
    },
    {
      "cell_type": "code",
      "metadata": {
        "colab_type": "code",
        "id": "YTzQHjkfALTT",
        "colab": {}
      },
      "source": [
        "main_df1 = main_df.copy()"
      ],
      "execution_count": 0,
      "outputs": []
    },
    {
      "cell_type": "code",
      "metadata": {
        "colab_type": "code",
        "id": "Ie8FwDyUAduf",
        "outputId": "18db4e92-e084-4da4-fe7f-c558c78a3dc6",
        "colab": {
          "base_uri": "https://localhost:8080/",
          "height": 34
        }
      },
      "source": [
        "len(main_df1)"
      ],
      "execution_count": 0,
      "outputs": [
        {
          "output_type": "execute_result",
          "data": {
            "text/plain": [
              "188"
            ]
          },
          "metadata": {
            "tags": []
          },
          "execution_count": 143
        }
      ]
    },
    {
      "cell_type": "code",
      "metadata": {
        "colab_type": "code",
        "id": "zuNGeRe4DJF5",
        "outputId": "93b154ae-8bd4-457f-ff8f-45908ff30880",
        "colab": {
          "base_uri": "https://localhost:8080/",
          "height": 118
        }
      },
      "source": [
        "main_df1.iloc[3,:5]"
      ],
      "execution_count": 0,
      "outputs": [
        {
          "output_type": "execute_result",
          "data": {
            "text/plain": [
              "DATE            18-May-20\n",
              "FLIGHT           AI  0173\n",
              "DEP                 DELHI\n",
              "ARR         SAN FRANCISCO\n",
              "DEP_TIME             3:30\n",
              "Name: 3, dtype: object"
            ]
          },
          "metadata": {
            "tags": []
          },
          "execution_count": 148
        }
      ]
    },
    {
      "cell_type": "code",
      "metadata": {
        "colab_type": "code",
        "id": "CDFxFFkKDuVt",
        "outputId": "e4e732f4-6528-430d-a5f2-730190fe00cd",
        "colab": {
          "base_uri": "https://localhost:8080/",
          "height": 84
        }
      },
      "source": [
        "main_df1.index"
      ],
      "execution_count": 0,
      "outputs": [
        {
          "output_type": "execute_result",
          "data": {
            "text/plain": [
              "Int64Index([ 0,  1,  2,  3,  4,  5,  6,  7,  8,  9,\n",
              "            ...\n",
              "            37, 38,  0,  1,  2,  3,  4,  5,  6,  7],\n",
              "           dtype='int64', length=188)"
            ]
          },
          "metadata": {
            "tags": []
          },
          "execution_count": 149
        }
      ]
    },
    {
      "cell_type": "code",
      "metadata": {
        "colab_type": "code",
        "id": "ZHyBHmWrGbKU",
        "colab": {}
      },
      "source": [
        "main_df1['id'] = 0"
      ],
      "execution_count": 0,
      "outputs": []
    },
    {
      "cell_type": "code",
      "metadata": {
        "colab_type": "code",
        "id": "7jSSGP3gGpZn",
        "outputId": "45e8023c-948a-4c1f-be29-11e2f358a9e1",
        "colab": {
          "base_uri": "https://localhost:8080/",
          "height": 402
        }
      },
      "source": [
        "lst= list(range(1,len(main_df1)+1))\n",
        "id = pd.Index(lst)\n",
        "main_df1.set_index(keys= id,inplace=True)\n",
        "main_df1"
      ],
      "execution_count": 0,
      "outputs": [
        {
          "output_type": "execute_result",
          "data": {
            "text/html": [
              "<div>\n",
              "<style scoped>\n",
              "    .dataframe tbody tr th:only-of-type {\n",
              "        vertical-align: middle;\n",
              "    }\n",
              "\n",
              "    .dataframe tbody tr th {\n",
              "        vertical-align: top;\n",
              "    }\n",
              "\n",
              "    .dataframe thead th {\n",
              "        text-align: right;\n",
              "    }\n",
              "</style>\n",
              "<table border=\"1\" class=\"dataframe\">\n",
              "  <thead>\n",
              "    <tr style=\"text-align: right;\">\n",
              "      <th></th>\n",
              "      <th>DATE</th>\n",
              "      <th>FLIGHT</th>\n",
              "      <th>DEP</th>\n",
              "      <th>ARR</th>\n",
              "      <th>DEP_TIME</th>\n",
              "      <th>id</th>\n",
              "    </tr>\n",
              "  </thead>\n",
              "  <tbody>\n",
              "    <tr>\n",
              "      <th>1</th>\n",
              "      <td>17-May-20</td>\n",
              "      <td>AI  0111</td>\n",
              "      <td>DELHI</td>\n",
              "      <td>LONDON</td>\n",
              "      <td>14:00</td>\n",
              "      <td>0</td>\n",
              "    </tr>\n",
              "    <tr>\n",
              "      <th>2</th>\n",
              "      <td>18-May-20</td>\n",
              "      <td>AI  0173</td>\n",
              "      <td>DELHI</td>\n",
              "      <td>SAN FRANCISCO</td>\n",
              "      <td>3:30</td>\n",
              "      <td>0</td>\n",
              "    </tr>\n",
              "    <tr>\n",
              "      <th>3</th>\n",
              "      <td>18-May-20</td>\n",
              "      <td>AI 1230</td>\n",
              "      <td>KOLKATA</td>\n",
              "      <td>DHAKA</td>\n",
              "      <td>9:30</td>\n",
              "      <td>0</td>\n",
              "    </tr>\n",
              "    <tr>\n",
              "      <th>4</th>\n",
              "      <td>19-May-20</td>\n",
              "      <td>AI  1318</td>\n",
              "      <td>MUMBAI</td>\n",
              "      <td>MANILA</td>\n",
              "      <td>0:45</td>\n",
              "      <td>0</td>\n",
              "    </tr>\n",
              "    <tr>\n",
              "      <th>5</th>\n",
              "      <td>19-May-20</td>\n",
              "      <td>AI  1189</td>\n",
              "      <td>DELHI</td>\n",
              "      <td>VANCOUVER</td>\n",
              "      <td>3:30</td>\n",
              "      <td>0</td>\n",
              "    </tr>\n",
              "    <tr>\n",
              "      <th>...</th>\n",
              "      <td>...</td>\n",
              "      <td>...</td>\n",
              "      <td>...</td>\n",
              "      <td>...</td>\n",
              "      <td>...</td>\n",
              "      <td>...</td>\n",
              "    </tr>\n",
              "    <tr>\n",
              "      <th>182</th>\n",
              "      <td>11-Jun-20</td>\n",
              "      <td>AI  1183</td>\n",
              "      <td>DELHI</td>\n",
              "      <td>HELSINKI</td>\n",
              "      <td>13:30</td>\n",
              "      <td>0</td>\n",
              "    </tr>\n",
              "    <tr>\n",
              "      <th>183</th>\n",
              "      <td>12-Jun-20</td>\n",
              "      <td>AI  0187</td>\n",
              "      <td>DELHI</td>\n",
              "      <td>TORONTO</td>\n",
              "      <td>1:00</td>\n",
              "      <td>0</td>\n",
              "    </tr>\n",
              "    <tr>\n",
              "      <th>184</th>\n",
              "      <td>12-Jun-20</td>\n",
              "      <td>AI  1921</td>\n",
              "      <td>DELHI</td>\n",
              "      <td>LAGOS</td>\n",
              "      <td>5:30</td>\n",
              "      <td>0</td>\n",
              "    </tr>\n",
              "    <tr>\n",
              "      <th>185</th>\n",
              "      <td>13-Jun-20</td>\n",
              "      <td>AI 1905</td>\n",
              "      <td>MUMBAI</td>\n",
              "      <td>LAGOS</td>\n",
              "      <td>6:30</td>\n",
              "      <td>0</td>\n",
              "    </tr>\n",
              "    <tr>\n",
              "      <th>186</th>\n",
              "      <td>14-Jun-20</td>\n",
              "      <td>AI  0173</td>\n",
              "      <td>DELHI</td>\n",
              "      <td>SAN FRANCISCO</td>\n",
              "      <td>3:30</td>\n",
              "      <td>0</td>\n",
              "    </tr>\n",
              "  </tbody>\n",
              "</table>\n",
              "<p>186 rows × 6 columns</p>\n",
              "</div>"
            ],
            "text/plain": [
              "          DATE    FLIGHT      DEP            ARR DEP_TIME  id\n",
              "1    17-May-20  AI  0111    DELHI         LONDON    14:00   0\n",
              "2    18-May-20  AI  0173    DELHI  SAN FRANCISCO     3:30   0\n",
              "3    18-May-20   AI 1230  KOLKATA          DHAKA     9:30   0\n",
              "4    19-May-20  AI  1318   MUMBAI         MANILA     0:45   0\n",
              "5    19-May-20  AI  1189    DELHI      VANCOUVER     3:30   0\n",
              "..         ...       ...      ...            ...      ...  ..\n",
              "182  11-Jun-20  AI  1183    DELHI       HELSINKI    13:30   0\n",
              "183  12-Jun-20  AI  0187    DELHI        TORONTO     1:00   0\n",
              "184  12-Jun-20  AI  1921    DELHI          LAGOS     5:30   0\n",
              "185  13-Jun-20   AI 1905   MUMBAI          LAGOS     6:30   0\n",
              "186  14-Jun-20  AI  0173    DELHI  SAN FRANCISCO     3:30   0\n",
              "\n",
              "[186 rows x 6 columns]"
            ]
          },
          "metadata": {
            "tags": []
          },
          "execution_count": 168
        }
      ]
    },
    {
      "cell_type": "code",
      "metadata": {
        "colab_type": "code",
        "id": "s992qSBRIQCR",
        "colab": {}
      },
      "source": [
        "main_df1.drop(index=[0,1],inplace=True)"
      ],
      "execution_count": 0,
      "outputs": []
    },
    {
      "cell_type": "code",
      "metadata": {
        "colab_type": "code",
        "id": "zXhHW-ggKRpm",
        "outputId": "5140ea15-bbb9-4997-bf28-d998cf74c537",
        "colab": {
          "base_uri": "https://localhost:8080/",
          "height": 402
        }
      },
      "source": [
        "main_df1"
      ],
      "execution_count": 0,
      "outputs": [
        {
          "output_type": "execute_result",
          "data": {
            "text/html": [
              "<div>\n",
              "<style scoped>\n",
              "    .dataframe tbody tr th:only-of-type {\n",
              "        vertical-align: middle;\n",
              "    }\n",
              "\n",
              "    .dataframe tbody tr th {\n",
              "        vertical-align: top;\n",
              "    }\n",
              "\n",
              "    .dataframe thead th {\n",
              "        text-align: right;\n",
              "    }\n",
              "</style>\n",
              "<table border=\"1\" class=\"dataframe\">\n",
              "  <thead>\n",
              "    <tr style=\"text-align: right;\">\n",
              "      <th></th>\n",
              "      <th>DATE</th>\n",
              "      <th>FLIGHT</th>\n",
              "      <th>DEP</th>\n",
              "      <th>ARR</th>\n",
              "      <th>DEP_TIME</th>\n",
              "      <th>id</th>\n",
              "    </tr>\n",
              "  </thead>\n",
              "  <tbody>\n",
              "    <tr>\n",
              "      <th>2</th>\n",
              "      <td>17-May-20</td>\n",
              "      <td>AI  0111</td>\n",
              "      <td>DELHI</td>\n",
              "      <td>LONDON</td>\n",
              "      <td>14:00</td>\n",
              "      <td>0</td>\n",
              "    </tr>\n",
              "    <tr>\n",
              "      <th>3</th>\n",
              "      <td>18-May-20</td>\n",
              "      <td>AI  0173</td>\n",
              "      <td>DELHI</td>\n",
              "      <td>SAN FRANCISCO</td>\n",
              "      <td>3:30</td>\n",
              "      <td>0</td>\n",
              "    </tr>\n",
              "    <tr>\n",
              "      <th>4</th>\n",
              "      <td>18-May-20</td>\n",
              "      <td>AI 1230</td>\n",
              "      <td>KOLKATA</td>\n",
              "      <td>DHAKA</td>\n",
              "      <td>9:30</td>\n",
              "      <td>0</td>\n",
              "    </tr>\n",
              "    <tr>\n",
              "      <th>5</th>\n",
              "      <td>19-May-20</td>\n",
              "      <td>AI  1318</td>\n",
              "      <td>MUMBAI</td>\n",
              "      <td>MANILA</td>\n",
              "      <td>0:45</td>\n",
              "      <td>0</td>\n",
              "    </tr>\n",
              "    <tr>\n",
              "      <th>6</th>\n",
              "      <td>19-May-20</td>\n",
              "      <td>AI  1189</td>\n",
              "      <td>DELHI</td>\n",
              "      <td>VANCOUVER</td>\n",
              "      <td>3:30</td>\n",
              "      <td>0</td>\n",
              "    </tr>\n",
              "    <tr>\n",
              "      <th>...</th>\n",
              "      <td>...</td>\n",
              "      <td>...</td>\n",
              "      <td>...</td>\n",
              "      <td>...</td>\n",
              "      <td>...</td>\n",
              "      <td>...</td>\n",
              "    </tr>\n",
              "    <tr>\n",
              "      <th>183</th>\n",
              "      <td>11-Jun-20</td>\n",
              "      <td>AI  1183</td>\n",
              "      <td>DELHI</td>\n",
              "      <td>HELSINKI</td>\n",
              "      <td>13:30</td>\n",
              "      <td>0</td>\n",
              "    </tr>\n",
              "    <tr>\n",
              "      <th>184</th>\n",
              "      <td>12-Jun-20</td>\n",
              "      <td>AI  0187</td>\n",
              "      <td>DELHI</td>\n",
              "      <td>TORONTO</td>\n",
              "      <td>1:00</td>\n",
              "      <td>0</td>\n",
              "    </tr>\n",
              "    <tr>\n",
              "      <th>185</th>\n",
              "      <td>12-Jun-20</td>\n",
              "      <td>AI  1921</td>\n",
              "      <td>DELHI</td>\n",
              "      <td>LAGOS</td>\n",
              "      <td>5:30</td>\n",
              "      <td>0</td>\n",
              "    </tr>\n",
              "    <tr>\n",
              "      <th>186</th>\n",
              "      <td>13-Jun-20</td>\n",
              "      <td>AI 1905</td>\n",
              "      <td>MUMBAI</td>\n",
              "      <td>LAGOS</td>\n",
              "      <td>6:30</td>\n",
              "      <td>0</td>\n",
              "    </tr>\n",
              "    <tr>\n",
              "      <th>187</th>\n",
              "      <td>14-Jun-20</td>\n",
              "      <td>AI  0173</td>\n",
              "      <td>DELHI</td>\n",
              "      <td>SAN FRANCISCO</td>\n",
              "      <td>3:30</td>\n",
              "      <td>0</td>\n",
              "    </tr>\n",
              "  </tbody>\n",
              "</table>\n",
              "<p>186 rows × 6 columns</p>\n",
              "</div>"
            ],
            "text/plain": [
              "          DATE    FLIGHT      DEP            ARR DEP_TIME  id\n",
              "2    17-May-20  AI  0111    DELHI         LONDON    14:00   0\n",
              "3    18-May-20  AI  0173    DELHI  SAN FRANCISCO     3:30   0\n",
              "4    18-May-20   AI 1230  KOLKATA          DHAKA     9:30   0\n",
              "5    19-May-20  AI  1318   MUMBAI         MANILA     0:45   0\n",
              "6    19-May-20  AI  1189    DELHI      VANCOUVER     3:30   0\n",
              "..         ...       ...      ...            ...      ...  ..\n",
              "183  11-Jun-20  AI  1183    DELHI       HELSINKI    13:30   0\n",
              "184  12-Jun-20  AI  0187    DELHI        TORONTO     1:00   0\n",
              "185  12-Jun-20  AI  1921    DELHI          LAGOS     5:30   0\n",
              "186  13-Jun-20   AI 1905   MUMBAI          LAGOS     6:30   0\n",
              "187  14-Jun-20  AI  0173    DELHI  SAN FRANCISCO     3:30   0\n",
              "\n",
              "[186 rows x 6 columns]"
            ]
          },
          "metadata": {
            "tags": []
          },
          "execution_count": 166
        }
      ]
    },
    {
      "cell_type": "code",
      "metadata": {
        "colab_type": "code",
        "id": "kEskXrnKKi2z",
        "colab": {}
      },
      "source": [
        "main_df1.drop(columns='id',inplace=True)"
      ],
      "execution_count": 0,
      "outputs": []
    },
    {
      "cell_type": "code",
      "metadata": {
        "colab_type": "code",
        "id": "IAkdAMPGK1vj",
        "outputId": "af3ae03e-1d96-4a3a-efb9-d5dd8db79427",
        "colab": {
          "base_uri": "https://localhost:8080/",
          "height": 402
        }
      },
      "source": [
        "main_df1"
      ],
      "execution_count": 0,
      "outputs": [
        {
          "output_type": "execute_result",
          "data": {
            "text/html": [
              "<div>\n",
              "<style scoped>\n",
              "    .dataframe tbody tr th:only-of-type {\n",
              "        vertical-align: middle;\n",
              "    }\n",
              "\n",
              "    .dataframe tbody tr th {\n",
              "        vertical-align: top;\n",
              "    }\n",
              "\n",
              "    .dataframe thead th {\n",
              "        text-align: right;\n",
              "    }\n",
              "</style>\n",
              "<table border=\"1\" class=\"dataframe\">\n",
              "  <thead>\n",
              "    <tr style=\"text-align: right;\">\n",
              "      <th></th>\n",
              "      <th>DATE</th>\n",
              "      <th>FLIGHT</th>\n",
              "      <th>DEP</th>\n",
              "      <th>ARR</th>\n",
              "      <th>DEP_TIME</th>\n",
              "    </tr>\n",
              "  </thead>\n",
              "  <tbody>\n",
              "    <tr>\n",
              "      <th>1</th>\n",
              "      <td>17-May-20</td>\n",
              "      <td>AI  0111</td>\n",
              "      <td>DELHI</td>\n",
              "      <td>LONDON</td>\n",
              "      <td>14:00</td>\n",
              "    </tr>\n",
              "    <tr>\n",
              "      <th>2</th>\n",
              "      <td>18-May-20</td>\n",
              "      <td>AI  0173</td>\n",
              "      <td>DELHI</td>\n",
              "      <td>SAN FRANCISCO</td>\n",
              "      <td>3:30</td>\n",
              "    </tr>\n",
              "    <tr>\n",
              "      <th>3</th>\n",
              "      <td>18-May-20</td>\n",
              "      <td>AI 1230</td>\n",
              "      <td>KOLKATA</td>\n",
              "      <td>DHAKA</td>\n",
              "      <td>9:30</td>\n",
              "    </tr>\n",
              "    <tr>\n",
              "      <th>4</th>\n",
              "      <td>19-May-20</td>\n",
              "      <td>AI  1318</td>\n",
              "      <td>MUMBAI</td>\n",
              "      <td>MANILA</td>\n",
              "      <td>0:45</td>\n",
              "    </tr>\n",
              "    <tr>\n",
              "      <th>5</th>\n",
              "      <td>19-May-20</td>\n",
              "      <td>AI  1189</td>\n",
              "      <td>DELHI</td>\n",
              "      <td>VANCOUVER</td>\n",
              "      <td>3:30</td>\n",
              "    </tr>\n",
              "    <tr>\n",
              "      <th>...</th>\n",
              "      <td>...</td>\n",
              "      <td>...</td>\n",
              "      <td>...</td>\n",
              "      <td>...</td>\n",
              "      <td>...</td>\n",
              "    </tr>\n",
              "    <tr>\n",
              "      <th>182</th>\n",
              "      <td>11-Jun-20</td>\n",
              "      <td>AI  1183</td>\n",
              "      <td>DELHI</td>\n",
              "      <td>HELSINKI</td>\n",
              "      <td>13:30</td>\n",
              "    </tr>\n",
              "    <tr>\n",
              "      <th>183</th>\n",
              "      <td>12-Jun-20</td>\n",
              "      <td>AI  0187</td>\n",
              "      <td>DELHI</td>\n",
              "      <td>TORONTO</td>\n",
              "      <td>1:00</td>\n",
              "    </tr>\n",
              "    <tr>\n",
              "      <th>184</th>\n",
              "      <td>12-Jun-20</td>\n",
              "      <td>AI  1921</td>\n",
              "      <td>DELHI</td>\n",
              "      <td>LAGOS</td>\n",
              "      <td>5:30</td>\n",
              "    </tr>\n",
              "    <tr>\n",
              "      <th>185</th>\n",
              "      <td>13-Jun-20</td>\n",
              "      <td>AI 1905</td>\n",
              "      <td>MUMBAI</td>\n",
              "      <td>LAGOS</td>\n",
              "      <td>6:30</td>\n",
              "    </tr>\n",
              "    <tr>\n",
              "      <th>186</th>\n",
              "      <td>14-Jun-20</td>\n",
              "      <td>AI  0173</td>\n",
              "      <td>DELHI</td>\n",
              "      <td>SAN FRANCISCO</td>\n",
              "      <td>3:30</td>\n",
              "    </tr>\n",
              "  </tbody>\n",
              "</table>\n",
              "<p>186 rows × 5 columns</p>\n",
              "</div>"
            ],
            "text/plain": [
              "          DATE    FLIGHT      DEP            ARR DEP_TIME\n",
              "1    17-May-20  AI  0111    DELHI         LONDON    14:00\n",
              "2    18-May-20  AI  0173    DELHI  SAN FRANCISCO     3:30\n",
              "3    18-May-20   AI 1230  KOLKATA          DHAKA     9:30\n",
              "4    19-May-20  AI  1318   MUMBAI         MANILA     0:45\n",
              "5    19-May-20  AI  1189    DELHI      VANCOUVER     3:30\n",
              "..         ...       ...      ...            ...      ...\n",
              "182  11-Jun-20  AI  1183    DELHI       HELSINKI    13:30\n",
              "183  12-Jun-20  AI  0187    DELHI        TORONTO     1:00\n",
              "184  12-Jun-20  AI  1921    DELHI          LAGOS     5:30\n",
              "185  13-Jun-20   AI 1905   MUMBAI          LAGOS     6:30\n",
              "186  14-Jun-20  AI  0173    DELHI  SAN FRANCISCO     3:30\n",
              "\n",
              "[186 rows x 5 columns]"
            ]
          },
          "metadata": {
            "tags": []
          },
          "execution_count": 172
        }
      ]
    },
    {
      "cell_type": "code",
      "metadata": {
        "colab_type": "code",
        "id": "dQwol1G_LAxi",
        "colab": {}
      },
      "source": [
        "final_df = main_df1"
      ],
      "execution_count": 0,
      "outputs": []
    },
    {
      "cell_type": "code",
      "metadata": {
        "colab_type": "code",
        "id": "2NsohprWLE76",
        "outputId": "6b51cf35-cd3b-4d5a-8895-27fdce5e278e",
        "colab": {
          "base_uri": "https://localhost:8080/",
          "height": 402
        }
      },
      "source": [
        "final_df"
      ],
      "execution_count": 0,
      "outputs": [
        {
          "output_type": "execute_result",
          "data": {
            "text/html": [
              "<div>\n",
              "<style scoped>\n",
              "    .dataframe tbody tr th:only-of-type {\n",
              "        vertical-align: middle;\n",
              "    }\n",
              "\n",
              "    .dataframe tbody tr th {\n",
              "        vertical-align: top;\n",
              "    }\n",
              "\n",
              "    .dataframe thead th {\n",
              "        text-align: right;\n",
              "    }\n",
              "</style>\n",
              "<table border=\"1\" class=\"dataframe\">\n",
              "  <thead>\n",
              "    <tr style=\"text-align: right;\">\n",
              "      <th></th>\n",
              "      <th>DATE</th>\n",
              "      <th>FLIGHT</th>\n",
              "      <th>DEP</th>\n",
              "      <th>ARR</th>\n",
              "      <th>DEP_TIME</th>\n",
              "    </tr>\n",
              "  </thead>\n",
              "  <tbody>\n",
              "    <tr>\n",
              "      <th>1</th>\n",
              "      <td>17-May-20</td>\n",
              "      <td>AI  0111</td>\n",
              "      <td>DELHI</td>\n",
              "      <td>LONDON</td>\n",
              "      <td>14:00</td>\n",
              "    </tr>\n",
              "    <tr>\n",
              "      <th>2</th>\n",
              "      <td>18-May-20</td>\n",
              "      <td>AI  0173</td>\n",
              "      <td>DELHI</td>\n",
              "      <td>SAN FRANCISCO</td>\n",
              "      <td>3:30</td>\n",
              "    </tr>\n",
              "    <tr>\n",
              "      <th>3</th>\n",
              "      <td>18-May-20</td>\n",
              "      <td>AI 1230</td>\n",
              "      <td>KOLKATA</td>\n",
              "      <td>DHAKA</td>\n",
              "      <td>9:30</td>\n",
              "    </tr>\n",
              "    <tr>\n",
              "      <th>4</th>\n",
              "      <td>19-May-20</td>\n",
              "      <td>AI  1318</td>\n",
              "      <td>MUMBAI</td>\n",
              "      <td>MANILA</td>\n",
              "      <td>0:45</td>\n",
              "    </tr>\n",
              "    <tr>\n",
              "      <th>5</th>\n",
              "      <td>19-May-20</td>\n",
              "      <td>AI  1189</td>\n",
              "      <td>DELHI</td>\n",
              "      <td>VANCOUVER</td>\n",
              "      <td>3:30</td>\n",
              "    </tr>\n",
              "    <tr>\n",
              "      <th>...</th>\n",
              "      <td>...</td>\n",
              "      <td>...</td>\n",
              "      <td>...</td>\n",
              "      <td>...</td>\n",
              "      <td>...</td>\n",
              "    </tr>\n",
              "    <tr>\n",
              "      <th>182</th>\n",
              "      <td>11-Jun-20</td>\n",
              "      <td>AI  1183</td>\n",
              "      <td>DELHI</td>\n",
              "      <td>HELSINKI</td>\n",
              "      <td>13:30</td>\n",
              "    </tr>\n",
              "    <tr>\n",
              "      <th>183</th>\n",
              "      <td>12-Jun-20</td>\n",
              "      <td>AI  0187</td>\n",
              "      <td>DELHI</td>\n",
              "      <td>TORONTO</td>\n",
              "      <td>1:00</td>\n",
              "    </tr>\n",
              "    <tr>\n",
              "      <th>184</th>\n",
              "      <td>12-Jun-20</td>\n",
              "      <td>AI  1921</td>\n",
              "      <td>DELHI</td>\n",
              "      <td>LAGOS</td>\n",
              "      <td>5:30</td>\n",
              "    </tr>\n",
              "    <tr>\n",
              "      <th>185</th>\n",
              "      <td>13-Jun-20</td>\n",
              "      <td>AI 1905</td>\n",
              "      <td>MUMBAI</td>\n",
              "      <td>LAGOS</td>\n",
              "      <td>6:30</td>\n",
              "    </tr>\n",
              "    <tr>\n",
              "      <th>186</th>\n",
              "      <td>14-Jun-20</td>\n",
              "      <td>AI  0173</td>\n",
              "      <td>DELHI</td>\n",
              "      <td>SAN FRANCISCO</td>\n",
              "      <td>3:30</td>\n",
              "    </tr>\n",
              "  </tbody>\n",
              "</table>\n",
              "<p>186 rows × 5 columns</p>\n",
              "</div>"
            ],
            "text/plain": [
              "          DATE    FLIGHT      DEP            ARR DEP_TIME\n",
              "1    17-May-20  AI  0111    DELHI         LONDON    14:00\n",
              "2    18-May-20  AI  0173    DELHI  SAN FRANCISCO     3:30\n",
              "3    18-May-20   AI 1230  KOLKATA          DHAKA     9:30\n",
              "4    19-May-20  AI  1318   MUMBAI         MANILA     0:45\n",
              "5    19-May-20  AI  1189    DELHI      VANCOUVER     3:30\n",
              "..         ...       ...      ...            ...      ...\n",
              "182  11-Jun-20  AI  1183    DELHI       HELSINKI    13:30\n",
              "183  12-Jun-20  AI  0187    DELHI        TORONTO     1:00\n",
              "184  12-Jun-20  AI  1921    DELHI          LAGOS     5:30\n",
              "185  13-Jun-20   AI 1905   MUMBAI          LAGOS     6:30\n",
              "186  14-Jun-20  AI  0173    DELHI  SAN FRANCISCO     3:30\n",
              "\n",
              "[186 rows x 5 columns]"
            ]
          },
          "metadata": {
            "tags": []
          },
          "execution_count": 174
        }
      ]
    },
    {
      "cell_type": "code",
      "metadata": {
        "colab_type": "code",
        "id": "QvR6gTvOLGxT",
        "colab": {}
      },
      "source": [
        "final_df.to_excel('VB_phase2.xlsx')"
      ],
      "execution_count": 0,
      "outputs": []
    },
    {
      "cell_type": "code",
      "metadata": {
        "colab_type": "code",
        "id": "T3YqVCj8LaeF",
        "colab": {}
      },
      "source": [
        ""
      ],
      "execution_count": 0,
      "outputs": []
    }
  ]
}